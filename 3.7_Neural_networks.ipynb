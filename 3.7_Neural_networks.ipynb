{
  "nbformat": 4,
  "nbformat_minor": 0,
  "metadata": {
    "colab": {
      "name": "3.7_Neural_networks.ipynb",
      "provenance": [],
      "collapsed_sections": [],
      "authorship_tag": "ABX9TyO99e0hBm1+6heKGtinRmct",
      "include_colab_link": true
    },
    "kernelspec": {
      "name": "python3",
      "display_name": "Python 3"
    },
    "language_info": {
      "name": "python"
    }
  },
  "cells": [
    {
      "cell_type": "markdown",
      "metadata": {
        "id": "view-in-github",
        "colab_type": "text"
      },
      "source": [
        "<a href=\"https://colab.research.google.com/github/madonnaojorin/MAT494/blob/main/3.7_Neural_networks.ipynb\" target=\"_parent\"><img src=\"https://colab.research.google.com/assets/colab-badge.svg\" alt=\"Open In Colab\"/></a>"
      ]
    },
    {
      "cell_type": "markdown",
      "metadata": {
        "id": "YB5o7pXI_phW"
      },
      "source": [
        "##3.7.1 Mathematical Formulation"
      ]
    },
    {
      "cell_type": "markdown",
      "metadata": {
        "id": "tLTtNWd3Nx6y"
      },
      "source": [
        "$x_1$ and $x_2$ are inputs from the left, and a forecast output on the right, $\\hat{y}$, which is modified by the activation function $\\sigma(z)$ chosen in advance.\n",
        "$$\\hat{y} =\\sigma (z) =\\sigma (w_1a_1+w_2a_2+b).$$\n",
        "In neural networks, the weights, the $w_i$, and the bias, $b$, will be found numerically in order to best fit our forecast output with our given data."
      ]
    },
    {
      "cell_type": "code",
      "metadata": {
        "id": "kNJhqMMTGW04"
      },
      "source": [
        "import numpy as np\n",
        "import matplotlib.pyplot as plt\n",
        "import numpy as np\n",
        "import sklearn"
      ],
      "execution_count": 28,
      "outputs": []
    },
    {
      "cell_type": "code",
      "metadata": {
        "id": "ajb2hY2FHgMn"
      },
      "source": [
        "# Create test data\n",
        "X = np.array([[1,0],[1,-1],[0,1]])\n",
        "y = np.array([1, 1, 0])"
      ],
      "execution_count": 17,
      "outputs": []
    },
    {
      "cell_type": "code",
      "metadata": {
        "colab": {
          "base_uri": "https://localhost:8080/"
        },
        "id": "vJmpB8IjHeNL",
        "outputId": "ec23448c-716e-408a-ff9c-97539b1bb40f"
      },
      "source": [
        "# Step 1: Initialize Parameters\n",
        "def initialize_parameters(layer_dim):\n",
        "    np.random.seed(100)\n",
        "    parameters = {}\n",
        "    Length = len(layer_dim)\n",
        "    \n",
        "    for i in range(1,Length):\n",
        "        parameters['w'+str(i)]=np.random.rand(layer_dim[i],layer_dim[i-1])*0.1\n",
        "        parameters['b'+str(i)]=np.zeros((layer_dim[i],1))\n",
        "    \n",
        "    return parameters\n",
        "    \n",
        "# Test\n",
        "test_parameters=initialize_parameters([2,2,1])\n",
        "print(test_parameters)"
      ],
      "execution_count": 18,
      "outputs": [
        {
          "output_type": "stream",
          "name": "stdout",
          "text": [
            "{'w1': array([[0.05434049, 0.02783694],\n",
            "       [0.04245176, 0.08447761]]), 'b1': array([[0.],\n",
            "       [0.]]), 'w2': array([[0.00047189, 0.01215691]]), 'b2': array([[0.]])}\n"
          ]
        }
      ]
    },
    {
      "cell_type": "code",
      "metadata": {
        "colab": {
          "base_uri": "https://localhost:8080/"
        },
        "id": "ZhbWl_nmHbZA",
        "outputId": "c1fa7b99-4e7c-4f89-fd4e-dfd5b29991da"
      },
      "source": [
        "# Step 2: Forward propagation\n",
        "def sigmoid(x):\n",
        "    return(1/(1+np.exp(-x)))\n",
        "\n",
        "def relu(x):\n",
        "    return(np.maximum(0,x))\n",
        "\n",
        "def single_layer_forward_propagation(x,w_cur,b_cur,activation):\n",
        "    # Step 1: Apply linear combination\n",
        "    z=np.dot(w_cur,x)+b_cur\n",
        "    # Step 2: Apply activation function\n",
        "    if activation is 'relu':\n",
        "        a = relu(z)\n",
        "    elif activation is 'sigmoid':\n",
        "        a = sigmoid(z)\n",
        "    else:\n",
        "        raise Exception('Not supported activation function')\n",
        "    \n",
        "    return z,a \n",
        "\n",
        "# Test\n",
        "test_z,test_a=single_layer_forward_propagation(np.transpose(X),test_parameters['w1'],test_parameters['b1'],'relu')\n",
        "print(test_z)\n",
        "print(test_a)\n",
        "\n",
        "\n",
        "     \n",
        "def full_forward_propagation(x,parameters):\n",
        "    # Save z, a at each step, which will be used for backpropagation\n",
        "    caches = {}\n",
        "    caches['a0']=X.T\n",
        "          \n",
        "    A_prev=x\n",
        "    Length=len(parameters)//2\n",
        "    \n",
        "    \n",
        "    # For 1 to N-1 layers, apply relu activation function\n",
        "    for i in range(1,Length):\n",
        "        z, a = single_layer_forward_propagation(A_prev,parameters['w'+str(i)],parameters['b'+str(i)],'relu')     \n",
        "        caches['z' + str(i)] = z\n",
        "        caches['a' + str(i)] = a\n",
        "        A_prev = a\n",
        "        \n",
        "    # For last layer, apply sigmoid activation function\n",
        "    z, AL = single_layer_forward_propagation(a,parameters['w'+str(Length)],parameters['b'+str(Length)],'sigmoid')\n",
        "    caches['z' + str(Length)] = z\n",
        "    caches['a' + str(Length)] = AL\n",
        "\n",
        "    return AL, caches     \n",
        "\n",
        "\n",
        "# Test\n",
        "test_AL,caches=full_forward_propagation(X.T,test_parameters)\n",
        "print(test_AL)"
      ],
      "execution_count": 20,
      "outputs": [
        {
          "output_type": "stream",
          "name": "stdout",
          "text": [
            "[[ 0.05434049  0.02650356  0.02783694]\n",
            " [ 0.04245176 -0.04202585  0.08447761]]\n",
            "[[0.05434049 0.02650356 0.02783694]\n",
            " [0.04245176 0.         0.08447761]]\n",
            "[[0.50013543 0.50000313 0.50026003]]\n"
          ]
        }
      ]
    },
    {
      "cell_type": "markdown",
      "metadata": {
        "id": "yHgOZd46_sfK"
      },
      "source": [
        "##3.7.2 Activation functions"
      ]
    },
    {
      "cell_type": "markdown",
      "metadata": {
        "id": "4Hoyn38B_uie"
      },
      "source": [
        "###3.7.2.1 Step function"
      ]
    },
    {
      "cell_type": "markdown",
      "metadata": {
        "id": "VqPyE5DPL4Yo"
      },
      "source": [
        "$$\\sigma(x)=\\begin{cases}0, & x\\leq 0\\\\1&x\\geq 0\\end{cases}$$"
      ]
    },
    {
      "cell_type": "code",
      "metadata": {
        "id": "d69ZnH1cGNgR"
      },
      "source": [
        "def binaryStep(x):\n",
        "    return np.heaviside(x,1)"
      ],
      "execution_count": 1,
      "outputs": []
    },
    {
      "cell_type": "code",
      "metadata": {
        "colab": {
          "base_uri": "https://localhost:8080/",
          "height": 281
        },
        "id": "VVAz-b1wGUQW",
        "outputId": "a10d561c-d323-4313-89e7-ffc6f6199340"
      },
      "source": [
        "x = np.linspace(-10, 10)\n",
        "plt.plot(x, binaryStep(x))\n",
        "plt.axis('tight')\n",
        "plt.title('Activation Function :binaryStep')\n",
        "plt.show()"
      ],
      "execution_count": 4,
      "outputs": [
        {
          "output_type": "display_data",
          "data": {
            "image/png": "[encoded data removed]",
            "text/plain": [
              "<Figure size 432x288 with 1 Axes>"
            ]
          },
          "metadata": {
            "needs_background": "light"
          }
        }
      ]
    },
    {
      "cell_type": "markdown",
      "metadata": {
        "id": "lRDS9GLZ_wvc"
      },
      "source": [
        "###3.7.2.2 ReLU function"
      ]
    },
    {
      "cell_type": "markdown",
      "metadata": {
        "id": "SRzj0FcfMNLA"
      },
      "source": [
        "$$\\sigma(x)=\\max(0,x)$$"
      ]
    },
    {
      "cell_type": "code",
      "metadata": {
        "id": "FqPlmT1TGdrd"
      },
      "source": [
        "def RELU(x):\n",
        "    x1=[]\n",
        "    for i in x:\n",
        "        if i<0:\n",
        "            x1.append(0)\n",
        "        else:\n",
        "            x1.append(i)\n",
        "\n",
        "    return x1"
      ],
      "execution_count": 11,
      "outputs": []
    },
    {
      "cell_type": "code",
      "metadata": {
        "colab": {
          "base_uri": "https://localhost:8080/",
          "height": 281
        },
        "id": "c9KOaTkYGfve",
        "outputId": "b68b21c9-55c8-41ca-b705-376f954ca441"
      },
      "source": [
        "x = np.linspace(-10, 10)\n",
        "plt.plot(x, RELU(x))\n",
        "plt.axis('tight')\n",
        "plt.title('Activation Function :RELU')\n",
        "plt.show()"
      ],
      "execution_count": 12,
      "outputs": [
        {
          "output_type": "display_data",
          "data": {
            "image/png": "[encoded data removed]",
            "text/plain": [
              "<Figure size 432x288 with 1 Axes>"
            ]
          },
          "metadata": {
            "needs_background": "light"
          }
        }
      ]
    },
    {
      "cell_type": "markdown",
      "metadata": {
        "id": "sbOJzs0p_ylZ"
      },
      "source": [
        "###3.7.2.3 Sigmoid"
      ]
    },
    {
      "cell_type": "markdown",
      "metadata": {
        "id": "jxOghAL0MU46"
      },
      "source": [
        "$$\\sigma(x)=\\frac{1}{1+e^{-x}}$$"
      ]
    },
    {
      "cell_type": "markdown",
      "metadata": {
        "id": "uzzekrpGMUks"
      },
      "source": [
        ""
      ]
    },
    {
      "cell_type": "code",
      "metadata": {
        "id": "LZHH6VUQGlNp"
      },
      "source": [
        "def sigmoid(x):\n",
        "    return 1/(1+np.exp(-x))"
      ],
      "execution_count": 8,
      "outputs": []
    },
    {
      "cell_type": "code",
      "metadata": {
        "colab": {
          "base_uri": "https://localhost:8080/",
          "height": 281
        },
        "id": "K7lzvRTKGota",
        "outputId": "1648ee17-e441-47f6-8d03-4aa409fc45d0"
      },
      "source": [
        "x = np.linspace(-10, 10)\n",
        "plt.plot(x, sigmoid(x))\n",
        "plt.axis('tight')\n",
        "plt.title('Activation Function :Sigmoid')\n",
        "plt.show()"
      ],
      "execution_count": 9,
      "outputs": [
        {
          "output_type": "display_data",
          "data": {
            "image/png": "[encoded data removed]",
            "text/plain": [
              "<Figure size 432x288 with 1 Axes>"
            ]
          },
          "metadata": {
            "needs_background": "light"
          }
        }
      ]
    },
    {
      "cell_type": "markdown",
      "metadata": {
        "id": "RwlYhX8u_0td"
      },
      "source": [
        "###3.7.2.4 Softmax function"
      ]
    },
    {
      "cell_type": "markdown",
      "metadata": {
        "id": "uEeKeAnKMcCU"
      },
      "source": [
        "$$\\sigma(x)=\\frac{e^{z_k}}{\\sum_{k=1}^Ke^{z_k}}$$"
      ]
    },
    {
      "cell_type": "code",
      "metadata": {
        "id": "dcp0P3dvGzh1"
      },
      "source": [
        "def softmax(x):\n",
        "    return np.exp(x) / np.sum(np.exp(x), axis=0)"
      ],
      "execution_count": 13,
      "outputs": []
    },
    {
      "cell_type": "code",
      "metadata": {
        "colab": {
          "base_uri": "https://localhost:8080/",
          "height": 281
        },
        "id": "EHvQoMUCG2QC",
        "outputId": "ec18bf6f-6d29-42e9-8dad-5372fd1b5f49"
      },
      "source": [
        "x = np.linspace(-10, 10)\n",
        "plt.plot(x, softmax(x))\n",
        "plt.axis('tight')\n",
        "plt.title('Activation Function :Softmax')\n",
        "plt.show()"
      ],
      "execution_count": 14,
      "outputs": [
        {
          "output_type": "display_data",
          "data": {
            "image/png": "[encoded data removed]",
            "text/plain": [
              "<Figure size 432x288 with 1 Axes>"
            ]
          },
          "metadata": {
            "needs_background": "light"
          }
        }
      ]
    },
    {
      "cell_type": "markdown",
      "metadata": {
        "id": "M9j3Bd4i_2oV"
      },
      "source": [
        "##3.7.3 Cost Function"
      ]
    },
    {
      "cell_type": "markdown",
      "metadata": {
        "id": "yG03SQyCMq5p"
      },
      "source": [
        "$$J =\\frac{1}{2}\\sum_{n=1}^N\\sum_{K=1}^K\\left(\\hat{y_k^{(n)}}-y_k^{(n)}\\right)^2$$"
      ]
    },
    {
      "cell_type": "markdown",
      "metadata": {
        "id": "04bQSTquNHOs"
      },
      "source": [
        "For a binary classification $(y^{(n)} = 0,1)$, the cost function is$$J =-\\sum_{n=1}^N\\left(y^{(n)}\\ln\\left(\\hat{y_k^{(n)}}\\right)+(1-y^{(n)})\\ln\\left(1-\\hat{y_k^{(n)}}\\right)\\right)^2$$"
      ]
    },
    {
      "cell_type": "code",
      "metadata": {
        "colab": {
          "base_uri": "https://localhost:8080/"
        },
        "id": "ah0yx74EHHxt",
        "outputId": "8d85d0de-b74d-4aed-d1ce-f427a5308b24"
      },
      "source": [
        "def cost_function(AL,y):\n",
        "    m=AL.shape[1]\n",
        "    cost = (-1/m) * np.sum(np.multiply(y,np.log(AL)) + np.multiply((1-y),np.log(1-AL)))\n",
        "    # Make sure cost is a scalar\n",
        "    cost = np.squeeze(cost)\n",
        "    \n",
        "    return cost\n",
        "\n",
        "# Test\n",
        "test_cost=cost_function(test_AL,y)    \n",
        "print(test_cost)\n",
        "\n",
        "def convert_prob_into_class(AL):\n",
        "    pred = np.copy(AL)\n",
        "    pred[AL > 0.5]  = 1\n",
        "    pred[AL <= 0.5] = 0\n",
        "    return pred\n",
        "\n",
        "def get_accuracy(AL, Y):\n",
        "    pred = convert_prob_into_class(AL)\n",
        "    return (pred == Y).all(axis=0).mean()\n",
        "\n",
        "# Test\n",
        "test_y_hat=convert_prob_into_class(test_AL)\n",
        "test_accuracy = get_accuracy(test_AL,y)\n"
      ],
      "execution_count": 21,
      "outputs": [
        {
          "output_type": "stream",
          "name": "stdout",
          "text": [
            "0.6932282197582498\n"
          ]
        }
      ]
    },
    {
      "cell_type": "markdown",
      "metadata": {
        "id": "eqgR5N1b_43x"
      },
      "source": [
        "##3.7.4 Backpropagation"
      ]
    },
    {
      "cell_type": "code",
      "metadata": {
        "colab": {
          "base_uri": "https://localhost:8080/"
        },
        "id": "dO9x5btgH0Qm",
        "outputId": "21330470-df63-4db6-cdf3-eb2e9de7ea56"
      },
      "source": [
        "# Step 4: Backward Propagation\n",
        "def sigmoid_backward_propagation(dA,z):\n",
        "    sig=sigmoid(z)\n",
        "    dz = dA * sig * (1-sig)\n",
        "    return dz\n",
        "\n",
        "def relu_backward_propagation(dA,z):\n",
        "    dz = np.array(dA,copy=True)\n",
        "    dz[z<=0]=0\n",
        "    return dz\n",
        "    \n",
        "\n",
        "def single_layer_backward_propagation(dA_cur,w_cur,b_cur,z_cur,A_prev,activation):\n",
        "    #Number of example\n",
        "    m=A_prev.shape[1]\n",
        "    \n",
        "    # Part 1: Derivative for activation function\n",
        "    # Select activation function\n",
        "    if activation is 'sigmoid':\n",
        "        backward_activation_func = sigmoid_backward_propagation\n",
        "    elif activation is 'relu':\n",
        "        backward_activation_func = relu_backward_propagation\n",
        "    else:\n",
        "        raise Exception ('Not supported activation function')\n",
        "    # calculate derivative\n",
        "    dz_cur = backward_activation_func(dA_cur,z_cur)\n",
        "    \n",
        "    # Part 2: Derivative for linear combination\n",
        "    dw_cur = np.dot(dz_cur,A_prev.T)/m\n",
        "    db_cur = np.sum(dz_cur,axis=1,keepdims=True)/m\n",
        "    dA_prev = np.dot(w_cur.T,dz_cur)\n",
        "    \n",
        "    return dA_prev, dw_cur, db_cur\n",
        "\n",
        "# Test\n",
        "dA_cur = - (np.divide(y,test_AL) - np.divide((1-y),(1-test_AL)))\n",
        "dA_prev,dw_cur,db_cur=single_layer_backward_propagation(dA_cur,test_parameters['w2'],test_parameters['b2'],\n",
        "                                                        caches['z2'],caches['a1'],'sigmoid')\n",
        "print(dw_cur)\n",
        "print(db_cur)\n",
        "print(dA_prev)\n",
        "\n",
        "\n",
        "def full_backward_propagation(AL,y,caches,parameters):\n",
        "    \n",
        "    grads={}\n",
        "    Length = len(caches)//2\n",
        "    m = AL.shape[1]\n",
        "    y = y.reshape(AL.shape)\n",
        "    \n",
        "    # Step 1: Derivative for cost function\n",
        "    dA_cur = - (np.divide(y,AL) - np.divide((1-y),(1-AL)))\n",
        "    \n",
        "    # Step 2: Sigmoid backward propagation for N layer\n",
        "    w_cur = parameters['w'+str(Length)]\n",
        "    b_cur = parameters['b'+str(Length)]\n",
        "    z_cur = caches['z'+str(Length)]\n",
        "    A_prev = caches['a'+str(Length-1)]\n",
        "    \n",
        "    dA_prev, dw_cur, db_cur = single_layer_backward_propagation(dA_cur,w_cur,b_cur,z_cur,A_prev,'sigmoid')\n",
        "    \n",
        "    grads['dw'+str(Length)] = dw_cur\n",
        "    grads['db'+str(Length)] = db_cur\n",
        "    \n",
        "    # Step 3: relu backward propagation for 1:(N-1) layer\n",
        "    for i in reversed(range(1,Length)):\n",
        "        dA_cur = dA_prev\n",
        "        w_cur  = parameters['w'+str(i)]\n",
        "        b_cur  = parameters['b'+str(i)]\n",
        "        z_cur  = caches['z'+str(i)]\n",
        "        A_prev = caches['a'+str(i-1)]\n",
        "        \n",
        "        dA_prev, dw_cur, db_cur = single_layer_backward_propagation(dA_cur,w_cur,b_cur,z_cur,A_prev,'relu')\n",
        "        \n",
        "        grads['dw'+str(i)]=dw_cur\n",
        "        grads['db'+str(i)]=db_cur\n",
        "    \n",
        "    return grads\n",
        "        \n",
        "# Test\n",
        "test_grads=full_backward_propagation(test_AL,y,caches,test_parameters)     \n",
        "print(test_grads['dw2'])\n",
        "print(test_grads['db2']) \n",
        "print(test_grads['dw1'])\n",
        "print(test_grads['db1']) "
      ],
      "execution_count": 22,
      "outputs": [
        {
          "output_type": "stream",
          "name": "stdout",
          "text": [
            "[[-0.00882962  0.00701355]]\n",
            "[[-0.1665338]]\n",
            "[[-0.00023588 -0.00023594  0.00023607]\n",
            " [-0.00607681 -0.00607842  0.00608162]]\n",
            "[[-0.00882962  0.00701355]]\n",
            "[[-0.1665338]]\n",
            "[[-0.00015727  0.00015734]\n",
            " [-0.0020256   0.00202721]]\n",
            "[[-7.85849071e-05]\n",
            " [ 1.60253171e-06]]\n"
          ]
        }
      ]
    },
    {
      "cell_type": "markdown",
      "metadata": {
        "id": "9RBazWTU_7K6"
      },
      "source": [
        "##3.7.5 Backpropagation Algorithm"
      ]
    },
    {
      "cell_type": "code",
      "metadata": {
        "colab": {
          "base_uri": "https://localhost:8080/"
        },
        "id": "eyzRn-dYH4jq",
        "outputId": "7cce6aec-ab0c-4b0c-cf31-cde310b66d1d"
      },
      "source": [
        "# Step 5 Update parameters\n",
        "def update_parameters(parameters,grads,learning_rate):\n",
        "    Length = len(parameters)//2\n",
        "    \n",
        "    for i in (range(1,Length+1)):\n",
        "        parameters['w'+str(i)] -= grads['dw'+str(i)] * learning_rate\n",
        "        parameters['b'+str(i)] -= grads['db'+str(i)] * learning_rate\n",
        "    \n",
        "    return parameters\n",
        "\n",
        "# test\n",
        "test_parameters_update = update_parameters(test_parameters,test_grads,1)\n",
        "print(test_parameters_update['w1'])\n",
        "print(test_parameters_update['b1'])\n",
        "print(test_parameters_update['w2'])    \n",
        "print(test_parameters_update['b2'])"
      ],
      "execution_count": 23,
      "outputs": [
        {
          "output_type": "stream",
          "name": "stdout",
          "text": [
            "[[0.05449777 0.0276796 ]\n",
            " [0.04447736 0.08245041]]\n",
            "[[ 7.85849071e-05]\n",
            " [-1.60253171e-06]]\n",
            "[[0.00930151 0.00514336]]\n",
            "[[0.1665338]]\n"
          ]
        }
      ]
    },
    {
      "cell_type": "code",
      "metadata": {
        "id": "W1aReDzvH72b"
      },
      "source": [
        "# Step 6: Train Nerual Network Model\n",
        "def train_model(X,y,epoch,layer_dim,learning_rate):\n",
        "    # Store historical cost\n",
        "    cost_history = []\n",
        "    accuracy_history = []\n",
        "    epoches=[]\n",
        "    # Step 1: Initialize parameters\n",
        "    parameters = initialize_parameters(layer_dim)\n",
        "    \n",
        "    for i in range(1,epoch):\n",
        "        # Step 2: Forward propagation\n",
        "        AL, caches = full_forward_propagation(X,parameters)\n",
        "        \n",
        "        # Step 3: Calculate and store cost\n",
        "        cost = cost_function(AL,y)  \n",
        "        cost_history.append(cost)\n",
        "        \n",
        "        accuracy =get_accuracy(AL,y)\n",
        "        accuracy_history.append(accuracy)\n",
        "        \n",
        "        epoches.append(i)\n",
        "        # Step 4: Backward propagation\n",
        "        grads = full_backward_propagation(AL,y,caches,parameters)\n",
        "        \n",
        "        # Step 5: Update parameters\n",
        "        parameters = update_parameters(parameters,grads,learning_rate)\n",
        "        \n",
        "        if(i % 100 ==0):\n",
        "            print('i='+str(i)+' cost = ' + str(cost))\n",
        "            print('i='+str(i)+' accuracy = '+str(accuracy))\n",
        "            #print(parameters)\n",
        "    \n",
        "    return parameters,cost_history, accuracy_history, epoches"
      ],
      "execution_count": 26,
      "outputs": []
    },
    {
      "cell_type": "code",
      "metadata": {
        "id": "cGT5Zo4zH-5B"
      },
      "source": [
        "# Create Random Dataset\n",
        "from sklearn.datasets import make_moons\n",
        "N_SAMPLES = 1000\n",
        "X, y = make_moons(n_samples = N_SAMPLES, noise=0.2, random_state=100)\n",
        "\n",
        "# Run Algorithm\n",
        "test_parameters,test_cost,test_accuracy,test_epoches=train_model(X.T, y, 10000, [2,25,100,100,10,1],0.01)"
      ],
      "execution_count": null,
      "outputs": []
    },
    {
      "cell_type": "code",
      "metadata": {
        "colab": {
          "base_uri": "https://localhost:8080/",
          "height": 281
        },
        "id": "Kw-XgRMVKsBn",
        "outputId": "c07c0921-6203-4eac-a28a-a651078fb6e7"
      },
      "source": [
        "a = [row[0] for row in X]\n",
        "b = [row[1] for row in X]\n",
        "plt.scatter(a, b)\n",
        "plt.axis('tight')\n",
        "plt.title('Training data')\n",
        "plt.show()"
      ],
      "execution_count": 49,
      "outputs": [
        {
          "output_type": "display_data",
          "data": {
            "image/png": "[encoded data removed]",
            "text/plain": [
              "<Figure size 432x288 with 1 Axes>"
            ]
          },
          "metadata": {
            "needs_background": "light"
          }
        }
      ]
    },
    {
      "cell_type": "code",
      "metadata": {
        "colab": {
          "base_uri": "https://localhost:8080/",
          "height": 281
        },
        "id": "SQCmYnEJJlX4",
        "outputId": "7ab9749e-f8cf-4548-ce31-bbb3c124b1b7"
      },
      "source": [
        "x = np.linspace(0,10000,num=9999)\n",
        "plt.plot(x, test_cost)\n",
        "plt.axis('tight')\n",
        "plt.title('Cost over time')\n",
        "plt.show()"
      ],
      "execution_count": 34,
      "outputs": [
        {
          "output_type": "display_data",
          "data": {
            "image/png": "[encoded data removed]",
            "text/plain": [
              "<Figure size 432x288 with 1 Axes>"
            ]
          },
          "metadata": {
            "needs_background": "light"
          }
        }
      ]
    },
    {
      "cell_type": "code",
      "metadata": {
        "colab": {
          "base_uri": "https://localhost:8080/",
          "height": 281
        },
        "id": "7sIcIAwQKPJF",
        "outputId": "51a3163b-6eb0-480a-fd26-b6575fb82935"
      },
      "source": [
        "plt.plot(x, test_accuracy)\n",
        "plt.axis('tight')\n",
        "plt.title('Accuracy over time')\n",
        "plt.show()"
      ],
      "execution_count": 35,
      "outputs": [
        {
          "output_type": "display_data",
          "data": {
            "image/png": "[encoded data removed]",
            "text/plain": [
              "<Figure size 432x288 with 1 Axes>"
            ]
          },
          "metadata": {
            "needs_background": "light"
          }
        }
      ]
    },
    {
      "cell_type": "code",
      "metadata": {
        "id": "Zx5TpnxVKV4l"
      },
      "source": [
        ""
      ],
      "execution_count": null,
      "outputs": []
    }
  ]
}