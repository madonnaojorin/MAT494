{
  "nbformat": 4,
  "nbformat_minor": 0,
  "metadata": {
    "colab": {
      "name": "2.2_Probability_Distribution.ipynb",
      "provenance": [],
      "collapsed_sections": [],
      "authorship_tag": "ABX9TyM16bV3awxWUmCtCLhW7Pab",
      "include_colab_link": true
    },
    "kernelspec": {
      "name": "python3",
      "display_name": "Python 3"
    },
    "language_info": {
      "name": "python"
    }
  },
  "cells": [
    {
      "cell_type": "markdown",
      "metadata": {
        "id": "view-in-github",
        "colab_type": "text"
      },
      "source": [
        "<a href=\"https://colab.research.google.com/github/madonnaojorin/MAT494/blob/main/2.2_Probability_Distribution.ipynb\" target=\"_parent\"><img src=\"https://colab.research.google.com/assets/colab-badge.svg\" alt=\"Open In Colab\"/></a>"
      ]
    },
    {
      "cell_type": "markdown",
      "metadata": {
        "id": "mDAi7szo8LPc"
      },
      "source": [
        "##2.2.1 Probability Axioms\n",
        "###2.2.1.1 Sample Spaces and Events"
      ]
    },
    {
      "cell_type": "markdown",
      "metadata": {
        "id": "bnhx-6jq8PwE"
      },
      "source": [
        "####Definition 2.2.1<br>\n",
        "The sample space of an experiment, denoted by $S$, is the setof all possible outcomes of that experiment."
      ]
    },
    {
      "cell_type": "markdown",
      "metadata": {
        "id": "xGfQ8qU98Ps6"
      },
      "source": [
        "####Definition 2.2.2<br>\n",
        "An event is any collection (subset) of outcomes contained inthe sample spaceS. An event is simple if it consists of exactly one outcomeand compound if it consists of more than one outcome."
      ]
    },
    {
      "cell_type": "markdown",
      "metadata": {
        "id": "UfeDi0O98Ppk"
      },
      "source": [
        "####Definition 2.2.3<br>\n",
        "Given an experiment and a sample space $S$, the probabilitydistribution is a function which assign to each eventAa number $P(A)$, calledthe probability of the event $A$, which will give a precise measure of the chancethatAwill occur. The probability assignments should satisfy the followingaxioms (basic properties) of probability.\n",
        "\n",
        "*   For any event $A,1\\geq P(A)\\geq0$\n",
        "*   $P(S)=1$\n",
        "*   If $A_1,A_2,A_3,\\cdots$ is an infinite collection of disjoint events, then $P(A_1∪A_2∪A_3∪\\cdots)=\\sum_{i=1}^\\infty P(A_i)$\n",
        "*  For any event $A$, $P(A)+P(A′)=1$, from which $P(A)=1−P(A′)$\n",
        "*   When eventsAandBare mutually exclusive, $P(A∪B)=P(A)+P(B)$\n",
        "*   For any two events $A$ and $B$, $P(A∪B)=P(A)+P(B)−P(A∩B)$"
      ]
    },
    {
      "cell_type": "markdown",
      "metadata": {
        "id": "1ODNLH9k8Pmk"
      },
      "source": [
        "####Example 2.2.4<br>\n",
        "In many experiments consisting of $N$ outcomes, it is reasonable to assign equal probabilities to allNsimple events. That is, if there are $N$ equally likely outcomes, the probability for each is1/N. Now consider an event $A$, with $N(A)$ denoting the number of outcomes contained in $A$ and we have $$P(A)=\\frac{N(A)}{N}$$"
      ]
    },
    {
      "cell_type": "markdown",
      "metadata": {
        "id": "hKvQNTVn8Pi4"
      },
      "source": [
        "##2.2.2 Conditional Probability"
      ]
    },
    {
      "cell_type": "markdown",
      "metadata": {
        "id": "x2h_Pz4tipVV"
      },
      "source": [
        "####Definition 2.2.5<br>\n",
        "For any two events $A$ and $B$ with $P(B)>0$, the conditional probability of $A$ given that $B$ has occurred is defined by $$P(A|B)=P(A\\cap B)P(B)$$\n",
        "Conditional probability give a rise to the multiplication rule $$P(A\\cap B)=P(A|B)\\cdot P(B)$$\n"
      ]
    },
    {
      "cell_type": "markdown",
      "metadata": {
        "id": "q1OGyd8dirQj"
      },
      "source": [
        "####Definition 2.2.6<br>\n",
        "Two events $A$ and $B$ are independent if $P(A|B)=P(A)(P(A\\cap B)=P(A)\\cdot P(B))$ and are dependent otherwise.\n",
        "\n"
      ]
    },
    {
      "cell_type": "markdown",
      "metadata": {
        "id": "-OyPtiF3is9M"
      },
      "source": [
        "####Definition 2.2.7<br>\n",
        "Events $A_1,\\cdots,A_n$ are mutually independent if for every $k(k=2,3,\\cdots,n)$ and every subset of indices $i_1,i_2,\\cdots,i_k$,\n",
        "$$P(A_{i_1}\\cap A_{i_2}\\cap \\cdots \\cap A_{i_k})=P(A_{i_1})\\cdot P(A_{i_2})\\cdots P(A_{i_k})$$"
      ]
    },
    {
      "cell_type": "code",
      "metadata": {
        "id": "eXXeMVHoXhow"
      },
      "source": [
        "# import pandas as pd\n",
        "# url = 'https://github.com/madonnaojorin/MAT494/blob/main/Data/student-mat.csv'\n",
        "# df = pd.read_csv(url)\n",
        "# df.head(3)"
      ],
      "execution_count": null,
      "outputs": []
    },
    {
      "cell_type": "code",
      "metadata": {
        "colab": {
          "resources": {
            "http://localhost:8080/nbextensions/google.colab/files.js": {
              "data": "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",
              "ok": true,
              "headers": [
                [
                  "content-type",
                  "application/javascript"
                ]
              ],
              "status": 200,
              "status_text": ""
            }
          },
          "base_uri": "https://localhost:8080/",
          "height": 72
        },
        "id": "qRv2hiCNZ65s",
        "outputId": "d1349457-759a-4294-ef2c-d878dc1eddf3"
      },
      "source": [
        "from google.colab import files\n",
        "uploaded = files.upload()\n",
        "import io\n",
        "df = pd.read_csv(io.BytesIO(uploaded['student-mat.csv']))\n",
        "# Dataset is now stored in a Pandas Dataframe"
      ],
      "execution_count": null,
      "outputs": [
        {
          "output_type": "display_data",
          "data": {
            "text/html": [
              "\n",
              "     <input type=\"file\" id=\"files-04a23b68-42e3-42e8-b7fd-d8c1cdb891da\" name=\"files[]\" multiple disabled\n",
              "        style=\"border:none\" />\n",
              "     <output id=\"result-04a23b68-42e3-42e8-b7fd-d8c1cdb891da\">\n",
              "      Upload widget is only available when the cell has been executed in the\n",
              "      current browser session. Please rerun this cell to enable.\n",
              "      </output>\n",
              "      <script src=\"/nbextensions/google.colab/files.js\"></script> "
            ],
            "text/plain": [
              "<IPython.core.display.HTML object>"
            ]
          },
          "metadata": {}
        },
        {
          "output_type": "stream",
          "name": "stdout",
          "text": [
            "Saving student-mat.csv to student-mat (1).csv\n"
          ]
        }
      ]
    },
    {
      "cell_type": "code",
      "metadata": {
        "colab": {
          "base_uri": "https://localhost:8080/"
        },
        "id": "SJeEsH9XXiS0",
        "outputId": "a094d531-c844-402b-b9dc-55bb1b44dcdb"
      },
      "source": [
        "len(df)\n",
        "#=> 395"
      ],
      "execution_count": null,
      "outputs": [
        {
          "output_type": "execute_result",
          "data": {
            "text/plain": [
              "395"
            ]
          },
          "metadata": {},
          "execution_count": 9
        }
      ]
    },
    {
      "cell_type": "code",
      "metadata": {
        "colab": {
          "base_uri": "https://localhost:8080/",
          "height": 203
        },
        "id": "M60FxzjhXjzE",
        "outputId": "0b1558d6-731c-469a-d123-feb37d4ba139"
      },
      "source": [
        "import numpy as np \n",
        "df['grade_A'] = np.where(df['G3']*5 >= 80, 1, 0)\n",
        "df['high_absenses'] = np.where(df['absences'] >= 10, 1, 0)\n",
        "df['count'] = 1\n",
        "df = df[['grade_A','high_absenses','count']]\n",
        "df.head()"
      ],
      "execution_count": null,
      "outputs": [
        {
          "output_type": "execute_result",
          "data": {
            "text/html": [
              "<div>\n",
              "<style scoped>\n",
              "    .dataframe tbody tr th:only-of-type {\n",
              "        vertical-align: middle;\n",
              "    }\n",
              "\n",
              "    .dataframe tbody tr th {\n",
              "        vertical-align: top;\n",
              "    }\n",
              "\n",
              "    .dataframe thead th {\n",
              "        text-align: right;\n",
              "    }\n",
              "</style>\n",
              "<table border=\"1\" class=\"dataframe\">\n",
              "  <thead>\n",
              "    <tr style=\"text-align: right;\">\n",
              "      <th></th>\n",
              "      <th>grade_A</th>\n",
              "      <th>high_absenses</th>\n",
              "      <th>count</th>\n",
              "    </tr>\n",
              "  </thead>\n",
              "  <tbody>\n",
              "    <tr>\n",
              "      <th>0</th>\n",
              "      <td>0</td>\n",
              "      <td>0</td>\n",
              "      <td>1</td>\n",
              "    </tr>\n",
              "    <tr>\n",
              "      <th>1</th>\n",
              "      <td>0</td>\n",
              "      <td>0</td>\n",
              "      <td>1</td>\n",
              "    </tr>\n",
              "    <tr>\n",
              "      <th>2</th>\n",
              "      <td>0</td>\n",
              "      <td>1</td>\n",
              "      <td>1</td>\n",
              "    </tr>\n",
              "    <tr>\n",
              "      <th>3</th>\n",
              "      <td>0</td>\n",
              "      <td>0</td>\n",
              "      <td>1</td>\n",
              "    </tr>\n",
              "    <tr>\n",
              "      <th>4</th>\n",
              "      <td>0</td>\n",
              "      <td>0</td>\n",
              "      <td>1</td>\n",
              "    </tr>\n",
              "  </tbody>\n",
              "</table>\n",
              "</div>"
            ],
            "text/plain": [
              "   grade_A  high_absenses  count\n",
              "0        0              0      1\n",
              "1        0              0      1\n",
              "2        0              1      1\n",
              "3        0              0      1\n",
              "4        0              0      1"
            ]
          },
          "metadata": {},
          "execution_count": 13
        }
      ]
    },
    {
      "cell_type": "code",
      "metadata": {
        "colab": {
          "base_uri": "https://localhost:8080/",
          "height": 141
        },
        "id": "darpgcOFXmPS",
        "outputId": "d8b5fa7f-cfde-419b-c1d4-49a5befc001d"
      },
      "source": [
        "pd.pivot_table(\n",
        "    df, \n",
        "    values='count', \n",
        "    index=['grade_A'], \n",
        "    columns=['high_absenses'], \n",
        "    aggfunc=np.size, \n",
        "    fill_value=0\n",
        ")"
      ],
      "execution_count": null,
      "outputs": [
        {
          "output_type": "execute_result",
          "data": {
            "text/html": [
              "<div>\n",
              "<style scoped>\n",
              "    .dataframe tbody tr th:only-of-type {\n",
              "        vertical-align: middle;\n",
              "    }\n",
              "\n",
              "    .dataframe tbody tr th {\n",
              "        vertical-align: top;\n",
              "    }\n",
              "\n",
              "    .dataframe thead th {\n",
              "        text-align: right;\n",
              "    }\n",
              "</style>\n",
              "<table border=\"1\" class=\"dataframe\">\n",
              "  <thead>\n",
              "    <tr style=\"text-align: right;\">\n",
              "      <th>high_absenses</th>\n",
              "      <th>0</th>\n",
              "      <th>1</th>\n",
              "    </tr>\n",
              "    <tr>\n",
              "      <th>grade_A</th>\n",
              "      <th></th>\n",
              "      <th></th>\n",
              "    </tr>\n",
              "  </thead>\n",
              "  <tbody>\n",
              "    <tr>\n",
              "      <th>0</th>\n",
              "      <td>277</td>\n",
              "      <td>78</td>\n",
              "    </tr>\n",
              "    <tr>\n",
              "      <th>1</th>\n",
              "      <td>35</td>\n",
              "      <td>5</td>\n",
              "    </tr>\n",
              "  </tbody>\n",
              "</table>\n",
              "</div>"
            ],
            "text/plain": [
              "high_absenses    0   1\n",
              "grade_A               \n",
              "0              277  78\n",
              "1               35   5"
            ]
          },
          "metadata": {},
          "execution_count": 14
        }
      ]
    },
    {
      "cell_type": "code",
      "metadata": {
        "colab": {
          "base_uri": "https://localhost:8080/"
        },
        "id": "72KK6_tbXmMi",
        "outputId": "d2b70c8c-f018-4143-8f9e-30d5332d4586"
      },
      "source": [
        "# P(A)\n",
        "P_A = (35 + 5) / (35 + 5 + 277 + 78)\n",
        "print(P_A)"
      ],
      "execution_count": null,
      "outputs": [
        {
          "output_type": "stream",
          "name": "stdout",
          "text": [
            "0.10126582278481013\n"
          ]
        }
      ]
    },
    {
      "cell_type": "code",
      "metadata": {
        "colab": {
          "base_uri": "https://localhost:8080/"
        },
        "id": "8rvCMiYrXmI6",
        "outputId": "02a0bb76-9483-4801-b0a7-8d322ae97692"
      },
      "source": [
        "#P(B)\n",
        "P_B = (78 + 5) / (35 + 5 + 277 + 78) \n",
        "print(P_B)"
      ],
      "execution_count": null,
      "outputs": [
        {
          "output_type": "stream",
          "name": "stdout",
          "text": [
            "0.21012658227848102\n"
          ]
        }
      ]
    },
    {
      "cell_type": "code",
      "metadata": {
        "colab": {
          "base_uri": "https://localhost:8080/"
        },
        "id": "-6Vr4pR5XmFg",
        "outputId": "0f0855eb-9dff-4d51-ee87-bee69dbf88e5"
      },
      "source": [
        "#P(A ∩ B)\n",
        "P_AB = 5 / (35 + 5 + 277 + 78) \n",
        "print(P_AB)"
      ],
      "execution_count": null,
      "outputs": [
        {
          "output_type": "stream",
          "name": "stdout",
          "text": [
            "0.012658227848101266\n"
          ]
        }
      ]
    },
    {
      "cell_type": "code",
      "metadata": {
        "colab": {
          "base_uri": "https://localhost:8080/"
        },
        "id": "NDjoN3b1XmAF",
        "outputId": "5e3f3ba6-c16a-4cea-e190-d5f6a7de79cb"
      },
      "source": [
        "#P(A|B)\n",
        "P_A_B = P_AB/P_B\n",
        "print(P_A_B)"
      ],
      "execution_count": null,
      "outputs": [
        {
          "output_type": "stream",
          "name": "stdout",
          "text": [
            "0.060240963855421686\n"
          ]
        }
      ]
    },
    {
      "cell_type": "markdown",
      "metadata": {
        "id": "QFV-ek--8Pfj"
      },
      "source": [
        "##2.2.3 Discrete Random Variables"
      ]
    },
    {
      "cell_type": "markdown",
      "metadata": {
        "id": "0eEQg-R-jaZj"
      },
      "source": [
        "####Definition 2.2.8<br>\n",
        "For a given sample space $S$ of some experiment, a random variable is any rule that associates a number with each outcome in $S$. In mathematical language, a random variable is a function whose domain is the sample space and whose range is the set of real numbers. "
      ]
    },
    {
      "cell_type": "markdown",
      "metadata": {
        "id": "VD-VnrZIkAI1"
      },
      "source": [
        "####Definition 2.2.9<br>\n",
        "A discrete random variable is an random variable whose possible values either constitute a finite set or else can be listed in an infinite sequence. A random variable is continuous if both of the following apply:\n",
        "1.   Its set of possible values consists all numbers in a single interval on the number line.\n",
        "\n",
        "2.  No possible value of the variable has positive probability, that is, $P(X=c)=0$ for any possible value $c$.\n"
      ]
    },
    {
      "cell_type": "markdown",
      "metadata": {
        "id": "D8d0YprBnRBQ"
      },
      "source": [
        "Definition 2.2.10<br>\n",
        "The probability distribution or probability mass function (pmf) of a discrete random variable is defined for every number $x$ by\n",
        "$$p(x)=P(X=x)=P(\\forall s\\in S:X(s)=x)$$\n"
      ]
    },
    {
      "cell_type": "markdown",
      "metadata": {
        "id": "bqAdZ1xXnSyz"
      },
      "source": [
        "Definition 2.2.11<br>\n",
        "The cumulative distribution function (cdf) $F(x)$ of a discrete random variable variable $X$ with pmf $p(x)$ is defined for every number $x$ by $$F(x)=P(X\\leq x)=\\sum_{y:y\\leq x}p(y)$$\n"
      ]
    },
    {
      "cell_type": "code",
      "metadata": {
        "colab": {
          "base_uri": "https://localhost:8080/",
          "height": 279
        },
        "id": "UJmVVpQ2bg0m",
        "outputId": "8f7bdd12-4c89-4cce-aab2-1cb5847a0b77"
      },
      "source": [
        "from itertools import product\n",
        "import seaborn as sns\n",
        "import pandas as pd\n",
        "import matplotlib.pyplot as plt\n",
        "\n",
        "stones = ['Space', 'Reality', 'Mind', 'Time', 'Power', 'Soul']\n",
        "\n",
        "# assign scores to each stone\n",
        "stones_scores = dict(zip(stones, range(1, 7)))\n",
        "\n",
        "# compute overall scores for choosing two stones\n",
        "X_omega = {\n",
        "    (stone1, stone2): stones_scores[stone1] + stones_scores[stone2]\n",
        "    for stone1, stone2 in product(stones, repeat=2)\n",
        "}\n",
        "\n",
        "# total elements in space space\n",
        "total_sample_outcomes = len(X_omega)\n",
        "\n",
        "# count frequencies of each value the random variable can assume\n",
        "frequencies = dict.fromkeys(X_omega.values(), 0)\n",
        "for sample_outcome, overall_score in X_omega.items():\n",
        "    frequencies[overall_score] += 1\n",
        "\n",
        "# compute probabilities\n",
        "probabilities = pd.DataFrame(\n",
        "    data=[\n",
        "        [value, frequency / total_sample_outcomes]\n",
        "        for value, frequency in frequencies.items()\n",
        "    ],\n",
        "    columns=['Total Score of Choosing Two Infinity Stones', 'Probability']\n",
        ")\n",
        "\n",
        "# plot PMF as barplot\n",
        "ax = sns.barplot(\n",
        "    x='Total Score of Choosing Two Infinity Stones',\n",
        "    y='Probability',\n",
        "    data=probabilities,\n",
        ")\n",
        "plt.savefig(\"pmf\")"
      ],
      "execution_count": null,
      "outputs": [
        {
          "output_type": "display_data",
          "data": {
            "image/png": "[encoded data removed]",
            "text/plain": [
              "<Figure size 432x288 with 1 Axes>"
            ]
          },
          "metadata": {
            "needs_background": "light"
          }
        }
      ]
    },
    {
      "cell_type": "markdown",
      "metadata": {
        "id": "TRvEa8D0nU7v"
      },
      "source": [
        "Example 2.2.12<br>\n",
        "In many cases the only possible values of the random variable are 0 and 1. Any random variable whose only possible values are 0 and1 is called a Bernoulli random variable. Given Bernoulli experiments with outcomes: S (success) and F(failure). The binomial random variable $X$ associated with independent Bernoulli experiment consisting of $n$ trials is defined as $$X=\\text{the number of S’s among the} n \\text{trials}$$\n",
        "The probability of success is constant $p$ from trial to trial. The pmf of $X$ has the form $$b(x;n,p)=\\begin{cases}{n \\choose y}p^x(1-p)^{n-x} &x=0,1,2,3,\\cdots\\\\\n",
        "0 &\\text{otherwise}\\end{cases}$$\n",
        "The cdf of $X$ has the form $$B(x;n,p)=P(X\\leq x)=\\sum_{y\\leq x}b(x;n,p)=\\sum_{y=0}^x{n \\choose y}p^x(1-p)^{n-x}$$\n"
      ]
    },
    {
      "cell_type": "code",
      "metadata": {
        "colab": {
          "base_uri": "https://localhost:8080/",
          "height": 295
        },
        "id": "Epj_01AVcGDl",
        "outputId": "78d11979-d884-407c-dd57-551218d3850c"
      },
      "source": [
        "from scipy.stats import bernoulli\n",
        "data_bern = bernoulli.rvs(size=10000,p=0.6)\n",
        "\n",
        "ax= sns.distplot(data_bern,\n",
        "                 kde=False,\n",
        "                 color=\"skyblue\",\n",
        "                 hist_kws={\"linewidth\": 15,'alpha':1})\n",
        "ax.set(xlabel='Bernoulli Distribution', ylabel='Frequency')"
      ],
      "execution_count": null,
      "outputs": [
        {
          "output_type": "execute_result",
          "data": {
            "text/plain": [
              "[Text(0, 0.5, 'Frequency'), Text(0.5, 0, 'Bernoulli Distribution')]"
            ]
          },
          "metadata": {},
          "execution_count": 28
        },
        {
          "output_type": "display_data",
          "data": {
            "image/png": "[encoded data removed]",
            "text/plain": [
              "<Figure size 432x288 with 1 Axes>"
            ]
          },
          "metadata": {
            "needs_background": "light"
          }
        }
      ]
    },
    {
      "cell_type": "markdown",
      "metadata": {
        "id": "_VoVCUbHnQ5K"
      },
      "source": [
        "Example 2.2.13<br>\n",
        "The Poisson distribution is a discrete probability distribution that describes the probability of a given number of events occurring in a fixed interval of time or space if these events occur with a known constant mean rate and independently of the time since the last event. A discrete random variable $X$ is said to have a Poisson distribution with parameterμif the pmf of $X$ is the pmf of $X$ has the form $$p(x;\\mu)=\\frac{e^{−\\mu}\\mu^x}{x!},x=0,1,2,3,\\cdots$$"
      ]
    },
    {
      "cell_type": "code",
      "metadata": {
        "colab": {
          "base_uri": "https://localhost:8080/",
          "height": 295
        },
        "id": "cfqXRpgLb6AD",
        "outputId": "d54cf33b-bad9-4a66-b376-d221f0a90f37"
      },
      "source": [
        "from scipy.stats import poisson\n",
        "data_poisson = poisson.rvs(mu=3, size=10000)\n",
        "\n",
        "ax = sns.distplot(data_poisson,\n",
        "                  bins=30,\n",
        "                  kde=False,\n",
        "                  color='skyblue',\n",
        "                  hist_kws={\"linewidth\": 15,'alpha':1})\n",
        "ax.set(xlabel='Poisson Distribution', ylabel='Frequency')"
      ],
      "execution_count": null,
      "outputs": [
        {
          "output_type": "execute_result",
          "data": {
            "text/plain": [
              "[Text(0, 0.5, 'Frequency'), Text(0.5, 0, 'Poisson Distribution')]"
            ]
          },
          "metadata": {},
          "execution_count": 29
        },
        {
          "output_type": "display_data",
          "data": {
            "image/png": "[encoded data removed]",
            "text/plain": [
              "<Figure size 432x288 with 1 Axes>"
            ]
          },
          "metadata": {
            "needs_background": "light"
          }
        }
      ]
    },
    {
      "cell_type": "code",
      "metadata": {
        "colab": {
          "base_uri": "https://localhost:8080/",
          "height": 295
        },
        "id": "lxpfAvn7j56A",
        "outputId": "4be784a0-ebe7-445a-ddbc-0f6089dec96b"
      },
      "source": [
        "# Uniform distribution\n",
        "# import uniform distribution\n",
        "from scipy.stats import uniform\n",
        "\n",
        "# random numbers from uniform distribution\n",
        "n = 10000\n",
        "start = 10\n",
        "width = 20\n",
        "data_uniform = uniform.rvs(size=n, loc = start, scale=width)\n",
        "\n",
        "ax = sns.distplot(data_uniform,\n",
        "                  bins=100,\n",
        "                  kde=True,\n",
        "                  color='skyblue',\n",
        "                  hist_kws={\"linewidth\": 15,'alpha':1})\n",
        "ax.set(xlabel='Uniform Distribution ', ylabel='Frequency')"
      ],
      "execution_count": null,
      "outputs": [
        {
          "output_type": "execute_result",
          "data": {
            "text/plain": [
              "[Text(0, 0.5, 'Frequency'), Text(0.5, 0, 'Uniform Distribution ')]"
            ]
          },
          "metadata": {},
          "execution_count": 30
        },
        {
          "output_type": "display_data",
          "data": {
            "image/png": "[encoded data removed]",
            "text/plain": [
              "<Figure size 432x288 with 1 Axes>"
            ]
          },
          "metadata": {
            "needs_background": "light"
          }
        }
      ]
    },
    {
      "cell_type": "code",
      "metadata": {
        "colab": {
          "base_uri": "https://localhost:8080/",
          "height": 295
        },
        "id": "m-hOsTofkFeh",
        "outputId": "303aac1f-3706-4452-801b-d5bf1100bd8e"
      },
      "source": [
        "# Normal Distribution \n",
        "from scipy.stats import norm\n",
        "# generate random numbers from N(0,1)\n",
        "data_normal = norm.rvs(size=10000,loc=0,scale=1)\n",
        "\n",
        "ax = sns.distplot(data_normal,\n",
        "                  bins=100,\n",
        "                  kde=True,\n",
        "                  color='skyblue',\n",
        "                  hist_kws={\"linewidth\": 15,'alpha':1})\n",
        "ax.set(xlabel='Normal Distribution', ylabel='Frequency')"
      ],
      "execution_count": null,
      "outputs": [
        {
          "output_type": "execute_result",
          "data": {
            "text/plain": [
              "[Text(0, 0.5, 'Frequency'), Text(0.5, 0, 'Normal Distribution')]"
            ]
          },
          "metadata": {},
          "execution_count": 31
        },
        {
          "output_type": "display_data",
          "data": {
            "image/png": "[encoded data removed]",
            "text/plain": [
              "<Figure size 432x288 with 1 Axes>"
            ]
          },
          "metadata": {
            "needs_background": "light"
          }
        }
      ]
    },
    {
      "cell_type": "code",
      "metadata": {
        "colab": {
          "base_uri": "https://localhost:8080/",
          "height": 295
        },
        "id": "JwqGmBxckNgm",
        "outputId": "e47d4fb2-7a00-481b-aa4f-79150638eaea"
      },
      "source": [
        "# Gamma Distribution\n",
        "from scipy.stats import gamma\n",
        "data_gamma = gamma.rvs(a=5, size=10000)\n",
        "\n",
        "ax = sns.distplot(data_gamma,\n",
        "                  kde=True,\n",
        "                  bins=100,\n",
        "                  color='skyblue',\n",
        "                  hist_kws={\"linewidth\": 15,'alpha':1})\n",
        "ax.set(xlabel='Gamma Distribution', ylabel='Frequency')"
      ],
      "execution_count": null,
      "outputs": [
        {
          "output_type": "execute_result",
          "data": {
            "text/plain": [
              "[Text(0, 0.5, 'Frequency'), Text(0.5, 0, 'Gamma Distribution')]"
            ]
          },
          "metadata": {},
          "execution_count": 32
        },
        {
          "output_type": "display_data",
          "data": {
            "image/png": "[encoded data removed]",
            "text/plain": [
              "<Figure size 432x288 with 1 Axes>"
            ]
          },
          "metadata": {
            "needs_background": "light"
          }
        }
      ]
    },
    {
      "cell_type": "code",
      "metadata": {
        "id": "vWjxj15HkS7Q"
      },
      "source": [
        "# Exponential Distribution\n",
        "from scipy.stats import expon\n",
        "data_expon = expon.rvs(scale=1,loc=0,size=1000)\n",
        "\n",
        "ax = sns.distplot(data_expon,\n",
        "                  kde=True,\n",
        "                  bins=100,\n",
        "                  color='skyblue',\n",
        "                  hist_kws={\"linewidth\": 15,'alpha':1})\n",
        "ax.set(xlabel='Exponential Distribution', ylabel='Frequency')"
      ],
      "execution_count": null,
      "outputs": []
    },
    {
      "cell_type": "code",
      "metadata": {
        "id": "jpVOIPljkY4k"
      },
      "source": [
        "# Binomial Distribution\n",
        "from scipy.stats import binom\n",
        "data_binom = binom.rvs(n=10,p=0.8,size=10000)\n",
        "\n",
        "ax = sns.distplot(data_binom,\n",
        "                  kde=False,\n",
        "                  color='skyblue',\n",
        "                  hist_kws={\"linewidth\": 15,'alpha':1})\n",
        "ax.set(xlabel='Binomial Distribution', ylabel='Frequency')"
      ],
      "execution_count": null,
      "outputs": []
    },
    {
      "cell_type": "markdown",
      "metadata": {
        "id": "ERoxI0DrkNPg"
      },
      "source": [
        ""
      ]
    },
    {
      "cell_type": "markdown",
      "metadata": {
        "id": "DFZ2Chy9n9Ur"
      },
      "source": [
        "###2.2.3.1 The Expected Value and Variance of $X$\n",
        "\n"
      ]
    },
    {
      "cell_type": "markdown",
      "metadata": {
        "id": "vtnTos8Lob2s"
      },
      "source": [
        "Definition 2.2.14<br>\n",
        "Let $X$ be a discrete random variable with set of possible values $D$ and pmf $p(x)$. The expected value or mean value of $X$, denoted by $E(X)$ or $\\mu\\times X$ or just $\\mu$, is $$E(X)=\\mu_X=\\sum_{x\\in D}x\\cdot p(x)$$"
      ]
    },
    {
      "cell_type": "markdown",
      "metadata": {
        "id": "xf1ExPFOoApA"
      },
      "source": [
        "####Example 2.2.15 <br>\n",
        "Let $X=1$ be a Bernoulli random variable with pmf $p(1)=p,p(0)=1−p$ and, from which $E(X)=0\\times p(0)+1\\times p(1)=p$. That is, the expected value of $X$ is just the probability that $X$ takes on the value 1."
      ]
    },
    {
      "cell_type": "markdown",
      "metadata": {
        "id": "biDiNwGOo39U"
      },
      "source": [
        "####Definition 2.2.16<br>\n",
        "Let $X$ have pmf $p(x)$ and expected value $\\mu$. Then the variance of $X$, denoted by $V(X)$ or $\\sigma_X^2$,  or just $\\sigma^2$, is \n",
        "$$V(X)=\\sum_D(x-\\mu)^2\\cdot p(x)=E [(X-\\mu)^2]$$\u0003 The standard deviation (SD) of $X$ is \n",
        "$$\\sigma_X=\\sqrt{\\sigma_X^2}$$\n"
      ]
    },
    {
      "cell_type": "markdown",
      "metadata": {
        "id": "lNLyxEfMq8JI"
      },
      "source": [
        "####Proposition 2.2.17<br>\n",
        "$$V(aX+b)=\\sigma^2_{aX+b}=a^2\\cdot \\sigma^2_X \\hspace{3mm}\\text{and}\\hspace{3mm} \\sigma_{aX+b}=|a|\\cdot\\sigma_x$$\n",
        "In particular, \n",
        "$$\\sigma_{aX}=|a|\\cdot \\sigma_X,\\sigma_{X+b}=\\sigma_X$$\n",
        "\n"
      ]
    },
    {
      "cell_type": "markdown",
      "metadata": {
        "id": "Nu-vjyWtq-Af"
      },
      "source": [
        "####Proposition 2.2.18<br>\n",
        "If $X$ is a binomial random variable with parameters $n,p$, then , $E(X)=np,V(X)=np(1−p),\\sigma_X=\\sqrt{np(1−p)}.$\n",
        "If $X$ is a Poisson distribution with parameter $\\mu$, then $E(X)=\\mu,V(X)=\\mu$."
      ]
    },
    {
      "cell_type": "code",
      "metadata": {
        "colab": {
          "base_uri": "https://localhost:8080/"
        },
        "id": "IbuoxoeHkjGX",
        "outputId": "c35d8d1b-ae66-40d0-93a4-f70c7d62d293"
      },
      "source": [
        "from numpy import array\n",
        "from numpy import mean\n",
        "v = array([1,2,3,4,5,6])\n",
        "print(v)\n",
        "result = mean(v)\n",
        "print(result)"
      ],
      "execution_count": null,
      "outputs": [
        {
          "output_type": "stream",
          "name": "stdout",
          "text": [
            "[1 2 3 4 5 6]\n",
            "3.5\n"
          ]
        }
      ]
    },
    {
      "cell_type": "code",
      "metadata": {
        "colab": {
          "base_uri": "https://localhost:8080/"
        },
        "id": "8SXSiOdokm0X",
        "outputId": "6277ef9b-8c24-4d0b-ab8a-2f7e28c7a820"
      },
      "source": [
        "M = array([[1,2,3,4,5,6],[1,2,3,4,5,6]])\n",
        "print(M)\n",
        "col_mean = mean(M, axis=0)\n",
        "print(col_mean)\n",
        "row_mean = mean(M, axis=1)\n",
        "print(row_mean)"
      ],
      "execution_count": null,
      "outputs": [
        {
          "output_type": "stream",
          "name": "stdout",
          "text": [
            "[[1 2 3 4 5 6]\n",
            " [1 2 3 4 5 6]]\n",
            "[1. 2. 3. 4. 5. 6.]\n",
            "[3.5 3.5]\n"
          ]
        }
      ]
    },
    {
      "cell_type": "code",
      "metadata": {
        "colab": {
          "base_uri": "https://localhost:8080/"
        },
        "id": "C3Vh1ggXkuDI",
        "outputId": "4a9f5b04-57dc-4ad6-c92a-acf3838c27ec"
      },
      "source": [
        "from numpy import var\n",
        "v = array([1,2,3,4,5,6])\n",
        "print(v)\n",
        "result = var(v, ddof=1)\n",
        "print(result)"
      ],
      "execution_count": null,
      "outputs": [
        {
          "output_type": "stream",
          "name": "stdout",
          "text": [
            "[1 2 3 4 5 6]\n",
            "3.5\n"
          ]
        }
      ]
    },
    {
      "cell_type": "code",
      "metadata": {
        "id": "0s_FPZvsk8T1"
      },
      "source": [
        "from numpy import std\n",
        "M = array([[1,2,3,4,5,6],[1,2,3,4,5,6]])\n",
        "print(M)\n",
        "col_std = std(M, ddof=1, axis=0)\n",
        "print(col_std)\n",
        "row_std = std(M, ddof=1, axis=1)\n",
        "print(row_std)"
      ],
      "execution_count": null,
      "outputs": []
    },
    {
      "cell_type": "markdown",
      "metadata": {
        "id": "5XdmVQQe8Pa-"
      },
      "source": [
        "##2.2.4 Continues Random Variables"
      ]
    },
    {
      "cell_type": "markdown",
      "metadata": {
        "id": "l8K6ff9-nW0g"
      },
      "source": [
        "####Definition 2.2.19<br>\n",
        "Let $X$ be a continuous random variable. Then a probability distribution or probability density function (pdf) of $X$ is a function $f(x)$ such that for any two numbers $a$ and $b$ with $a\\leq b$,\n",
        "$$P(a\\leq X\\leq b)=\\int_a^b f(x)dx$$"
      ]
    },
    {
      "cell_type": "markdown",
      "metadata": {
        "id": "wwWYbn8p8PVL"
      },
      "source": [
        "###2.2.4.1 Expected Values and Variances"
      ]
    },
    {
      "cell_type": "markdown",
      "metadata": {
        "id": "7Fhg2YILtWf4"
      },
      "source": [
        "Definition 2.2.20<br>\n",
        "The expected or mean value of a continuous random variable $X$ with pdf $f(x)$ is $$\\mu _X=E(X)=\\int_{-\\infty}^\\infty x\\cdot f(x)dx.$$\n",
        "\n"
      ]
    },
    {
      "cell_type": "markdown",
      "metadata": {
        "id": "ni08NH2YtYQM"
      },
      "source": [
        "Definition 2.2.21<br>\n",
        "The variance of a continuous random variable $X$ with pdf $f(x)$ and mean value $\\mu$ is $$\\sigma^2_X=V(X)=\\int_{-\\infty}^\\infty (x-\\mu)^2\\cdot f(x)dx=E[(X-\\mu)^2]$$\n",
        "The standard deviation (SD) of $X$ is $\\sigma_X=\\sqrt{V(x)}$.\n",
        "\n"
      ]
    },
    {
      "cell_type": "markdown",
      "metadata": {
        "id": "56pgYPFltasp"
      },
      "source": [
        "Proposition 2.2.22<br>\n",
        "The Expected values and variance have the followingproperties;\n",
        "If $X$ is a continuous random variable with pdf $f(x)$ and $h(X)$ is any function of $X$, then $$E[h(X)]=\\mu h(X)=\\int_\\infty^\\infty h(x)\\cdot f(x)dx$$\n",
        "•$$V(X)=E(X^2)-[E(X)]^2$$\n",
        "\n"
      ]
    },
    {
      "cell_type": "markdown",
      "metadata": {
        "id": "r0coYLBHtceB"
      },
      "source": [
        "Definition 2.2.23<br>\n",
        "$X$ is said to have an exponential distribution with parameter $\\lambda(\\lambda>0)$ if the pdf of $X$ is $$f(x;\\lambda)=\\begin{cases}\\lambda e^{-\\lambda x} & x\\geq\\\\\n",
        "0&\\text{otherwisw}\\end{cases}$$\n",
        "The expected value of an exponentially distributed random variable $X$ is\n",
        "$$E(X)=\\int_0^\\infty x\\lambda e^{-\\lambda x}dx$$"
      ]
    },
    {
      "cell_type": "markdown",
      "metadata": {
        "id": "DlhU1gpc8PLy"
      },
      "source": [
        "###2.2.4.2 The Normal Distribution"
      ]
    },
    {
      "cell_type": "markdown",
      "metadata": {
        "id": "i0YGSy8bvKqs"
      },
      "source": [
        "####Definition 2.2.24<br>\n",
        "A continuous random variable $X$ is said to have a normal distribution with parameters $\\mu$ and $\\sigma$ (or $\\mu$ and $\\sigma^2$), where $-\\infty <\\mu<\\infty$ and $0<\\sigma$, if the pdf of $X$ is $$f(x;\\mu, \\sigma)=\\frac{1}{\\sqrt{2\\pi\\sigma}}e^{−(x−\\mu)^2/(2\\sigma^2)}\\hspace{3mm}−\\infty<x<\\infty$$\n",
        "\n"
      ]
    },
    {
      "cell_type": "markdown",
      "metadata": {
        "id": "259RpxEjvbXS"
      },
      "source": [
        "####Definition 2.2.25<br>\n",
        "The normal distribution with parameter values $\\mu=0$ and $\\sigma=1$ is called the standard normal distribution. A random variable having a standard normal distribution is called a standard normal random variable and will be denoted by $Z$. The pdf of $Z$ is $$f(z; 0,1)=\\frac{1}{\\sqrt{2\\pi\\sigma}}e^{−z^2/2}\\hspace{3mm}−\\infty<x<\\infty$$\n",
        "\n"
      ]
    },
    {
      "cell_type": "markdown",
      "metadata": {
        "id": "UnpXMY4vvddO"
      },
      "source": [
        "####Proposition 2.2.26<br>\n",
        "If $X$ has a normal distribution with meanμand standard deviation $\\sigma$,then\n",
        "$$Z=\\frac{X-\\mu}{\\sigma}$$\n",
        "has a standard normal distribution. "
      ]
    },
    {
      "cell_type": "code",
      "metadata": {
        "colab": {
          "base_uri": "https://localhost:8080/",
          "height": 282
        },
        "id": "Ke4-zotBlUCd",
        "outputId": "728506cd-f78f-401c-d36d-20d865874c3d"
      },
      "source": [
        "import math\n",
        "import scipy.stats as stats\n",
        "A = stats.norm(loc=100, scale=15)# Declare A to be a normal random variable\n",
        "print(A)\n",
        "t = np.linspace(50,150,100)\n",
        "plt.plot(t,A.pdf(t),label=\"PDF\")\n",
        "plt.legend()\n",
        "plt.show()"
      ],
      "execution_count": null,
      "outputs": [
        {
          "output_type": "stream",
          "name": "stdout",
          "text": [
            "<scipy.stats._distn_infrastructure.rv_frozen object at 0x7f6d4c7d4790>\n"
          ]
        },
        {
          "output_type": "display_data",
          "data": {
            "image/png": "[encoded data removed]",
            "text/plain": [
              "<Figure size 432x288 with 1 Axes>"
            ]
          },
          "metadata": {
            "needs_background": "light"
          }
        }
      ]
    },
    {
      "cell_type": "code",
      "metadata": {
        "colab": {
          "base_uri": "https://localhost:8080/",
          "height": 281
        },
        "id": "njId-_PcqUk8",
        "outputId": "428154ac-428e-4c09-e9d7-56d99845567f"
      },
      "source": [
        "# Beta distribution\n",
        "beta=stats.beta(a=2,b=5)\n",
        "beta.rvs(size=5,random_state=133)\n",
        "beta_sample=beta.rvs(size=1000,random_state=133)\n",
        "t=np.linspace(0,1,100)\n",
        "plt.plot(t,beta.pdf(t),label=\"PDF\")\n",
        "plt.legend()\n",
        "plt.ylabel(\"Density\")\n",
        "plt.title(\"Beta Distribution\")\n",
        "plt.show()"
      ],
      "execution_count": null,
      "outputs": [
        {
          "output_type": "display_data",
          "data": {
            "image/png": "[encoded data removed]",
            "text/plain": [
              "<Figure size 432x288 with 1 Axes>"
            ]
          },
          "metadata": {
            "needs_background": "light"
          }
        }
      ]
    },
    {
      "cell_type": "code",
      "metadata": {
        "colab": {
          "base_uri": "https://localhost:8080/",
          "height": 281
        },
        "id": "wC1zQoOAqiFR",
        "outputId": "2f06578a-533b-4ca2-e672-b3e3e8ae73df"
      },
      "source": [
        "# Binomial distribution\n",
        "binomial_sample=binomial.rvs(size=1000,random_state=143)\n",
        "t = np.arange(0,11)\n",
        "plt.hist(binomial_sample,bins=11,range=(0,11),density=True,align='left',rwidth=0.75,label=\"Sample\",alpha=0.75)\n",
        "plt.scatter(t,binomial.pmf(t),label=\"PMF\",color=\"Orange\")\n",
        "plt.title(\"Binomial Distribution\")\n",
        "plt.ylabel(\"Density\")\n",
        "plt.legend()\n",
        "plt.xticks(t)\n",
        "plt.show()"
      ],
      "execution_count": null,
      "outputs": [
        {
          "output_type": "display_data",
          "data": {
            "image/png": "[encoded data removed]",
            "text/plain": [
              "<Figure size 432x288 with 1 Axes>"
            ]
          },
          "metadata": {
            "needs_background": "light"
          }
        }
      ]
    }
  ]
}