{
  "nbformat": 4,
  "nbformat_minor": 0,
  "metadata": {
    "colab": {
      "name": "3.2_Continunity_and_Differentiation.ipynb",
      "provenance": [],
      "collapsed_sections": [],
      "authorship_tag": "ABX9TyOHUStG16pdz0xdXwN3LGgO",
      "include_colab_link": true
    },
    "kernelspec": {
      "name": "python3",
      "display_name": "Python 3"
    },
    "language_info": {
      "name": "python"
    }
  },
  "cells": [
    {
      "cell_type": "markdown",
      "metadata": {
        "id": "view-in-github",
        "colab_type": "text"
      },
      "source": [
        "<a href=\"https://colab.research.google.com/github/madonnaojorin/MAT494/blob/main/3.2_Continunity_and_Differentiation.ipynb\" target=\"_parent\"><img src=\"https://colab.research.google.com/assets/colab-badge.svg\" alt=\"Open In Colab\"/></a>"
      ]
    },
    {
      "cell_type": "markdown",
      "metadata": {
        "id": "r2qv8XQa-oKY"
      },
      "source": [
        "##3.2.1 Limits and continuity"
      ]
    },
    {
      "cell_type": "markdown",
      "metadata": {
        "id": "pAG1KMmolc0g"
      },
      "source": [
        "####Definition 3.2.1 (Limits of a function) \n",
        "Let $f : D \\to \\mathbb{R}$ be a real-valued function on $D \\subseteq \\mathbb{R}^d$. Then $f$ is said to have a limit $L \\in\\mathbb{R}$ as $\\textbf{x}$ approaches $\\textbf{a}$ if: for any $\\epsilon > 0$, there exists a $\\delta > 0$ such that $|f(\\textbf{x})−L| < \\epsilon$ for all $\\textbf{x} \\in D\\cap B_\\delta(\\textbf{a})\\backslash\\{\\textbf{a}\\}$. This is written as\n",
        "$$\\lim_{\\textbf{x}\\to \\textbf{a}}f(\\textbf{x}) = L.$$"
      ]
    },
    {
      "cell_type": "markdown",
      "metadata": {
        "id": "Hh0vHoepVOYR"
      },
      "source": [
        "**Example 1**<br>\n",
        "$\\lim_{x\\to 0}\\frac{\\sin(x)}{x}$"
      ]
    },
    {
      "cell_type": "code",
      "metadata": {
        "colab": {
          "base_uri": "https://localhost:8080/"
        },
        "id": "bcBG4-ceVDzJ",
        "outputId": "5b4be701-b1ca-4236-a985-fd38acd38521"
      },
      "source": [
        "import sympy as sp\n",
        "x=sp.Symbol('x')\n",
        "f=sp.sin(x)/x\n",
        "L=sp.limit(f,x,0)\n",
        "print(\"The Limit is:\",L)"
      ],
      "execution_count": 1,
      "outputs": [
        {
          "output_type": "stream",
          "name": "stdout",
          "text": [
            "The Limit is: 1\n"
          ]
        }
      ]
    },
    {
      "cell_type": "markdown",
      "metadata": {
        "id": "hI1Vgv0nVeZ8"
      },
      "source": [
        "**Example 2**<br>\n",
        "$\\lim_{x\\to 0}\\frac{\\sin(2y)}{y}$"
      ]
    },
    {
      "cell_type": "code",
      "metadata": {
        "id": "2ffs0lOJVLpv"
      },
      "source": [
        "y=sp.Symbol('y')\n",
        "f=sp.sin(2*y)/y\n",
        "L=sp.limit(f,y,0)\n",
        "print(\"The limit is:\",L)"
      ],
      "execution_count": null,
      "outputs": []
    },
    {
      "cell_type": "markdown",
      "metadata": {
        "id": "r3JRKYoJm6vh"
      },
      "source": [
        "####Definition 3.2.2 (Continuous function) \n",
        "Let $f : D \\to \\mathbb{R}$ be a real-valued function on $D \\subseteq \\mathbb{R}^d$. Then $f$ is said to be continuous at $\\textbf{a}\\in D$ if \n",
        "$$\\lim_{\\textbf{x}\\to \\textbf{a}}f(\\textbf{x}) =f(\\textbf{a}) .$$"
      ]
    },
    {
      "cell_type": "markdown",
      "metadata": {
        "id": "VtCA9D_FndRP"
      },
      "source": [
        "####Lemma 3.2.3 (Composition of Continuous Functions) \n",
        "Let $f D_1 \\to \\mathbb{R}^m$, where $ D_1 \\subseteq \\mathbb{R}^d$, and $g : D_2 \\to \\mathbb{R}^p$, where $ D_2 \\subseteq \\mathbb{R}^m$. Assume that $f$ is continuous at $\\textbf{x}_0$ and that $g$ is continuous $f(\\textbf{x}_0)$. Then $g ◦ f$ is continuous at $\\textbf{x}_0$.\n"
      ]
    },
    {
      "cell_type": "code",
      "metadata": {
        "id": "DLbUPaNrWkzd"
      },
      "source": [
        "# Function to combine two\n",
        "def composite_function(f, g):\n",
        "    return lambda x : f(g(x))\n",
        "  \n",
        "# Function to add 2\n",
        "def add(x):\n",
        "    return x + 2\n",
        "  \n",
        "# Function to multiply 2\n",
        "def multiply(x):\n",
        "    return x * 2\n",
        "  \n",
        "# Composite function returns a lambda function\n",
        "add_multiply = composite_function(multiply, add)\n",
        "  \n",
        "print(\"Adding 2 to 5 and multiplying the result with 2: \",\n",
        "      add_multiply(5))"
      ],
      "execution_count": null,
      "outputs": []
    },
    {
      "cell_type": "markdown",
      "metadata": {
        "id": "Mu5qLip_oMgt"
      },
      "source": [
        "####Definition 3.2.4 (Extremum) \n",
        "Suppose $f: D \\to R$ is defined on a set $D \\subseteq \\mathbb{R}^d$.\n",
        "We say that $f$ attains a maximum value $M$ at $\\textbf{z}^*$ if $f(\\textbf{z}^*)=M$ and $M \\geq f(x)$ for all $x \\in D$. Similarly, we say $f$ attains a minimum value m at $\\textbf{z}_*$ if $f(z_*) = m$ and $m \\leq f(\\textbf{x})$ for all $x \\in D$.\n",
        "\n",
        "####Theorem 3.2.5 (Extreme Value) \n",
        "Let $f : D \\to\\mathbb{ R}$ be a real-valued, continuous function on a nonempty, closed, bounded set $D \\subseteq \\mathbb{R}^d$. Then $f$ attains a maximum and a minimum on $D$."
      ]
    },
    {
      "cell_type": "markdown",
      "metadata": {
        "id": "ZBSqXdmy-pgU"
      },
      "source": [
        "##3.2.2 Derivatives\n",
        "###3.2.2.1 Single-variable case"
      ]
    },
    {
      "cell_type": "markdown",
      "metadata": {
        "id": "-pccvNtop0z-"
      },
      "source": [
        "####Definition 3.2.6 (Derivative)\n",
        " Let $f : D \\to\\mathbb{ R}$ where $D \\subseteq \\mathbb{R}$ and let $x_0 \\in D$ be an interior point of $D$. The derivative of $f$ at $x_0$ is \n",
        " $$f′(x_0) = \\frac{d f(x_0)}{dx}= \\lim_{h\\to 0}\\frac{f(x_0 +h)− f(x_0)}{h}$$\n",
        "provided the limit exists.\n"
      ]
    },
    {
      "cell_type": "markdown",
      "metadata": {
        "id": "yBghoK5rVmfT"
      },
      "source": [
        "**Example 3**<br>\n",
        "$f(x)=\\sin(x)+x^2+e^{4x}$"
      ]
    },
    {
      "cell_type": "code",
      "metadata": {
        "id": "7RzRn9_oVnK6"
      },
      "source": [
        "import sympy as sp\n",
        "x=sp.Symbol('x')\n",
        "f=sp.sin(x)+x**2+sp.exp(4*x)\n",
        "print(f)\n",
        "df=sp.diff(f,x)\n",
        "print(df)\n",
        "ddf=sp.diff(f,x,2)\n",
        "print(ddf)"
      ],
      "execution_count": null,
      "outputs": []
    },
    {
      "cell_type": "markdown",
      "metadata": {
        "id": "gXSfZS0TWGpk"
      },
      "source": [
        "**Example 4**<br>\n",
        "$f(y)=\\cos(y)+4y^2+y^{3}$"
      ]
    },
    {
      "cell_type": "code",
      "metadata": {
        "id": "gx9dv-WKWBkw"
      },
      "source": [
        "y=sp.Symbol('y')\n",
        "f=sp.cos(y)+4*y+y**3\n",
        "print(f)\n",
        "df=sp.diff(f,y)\n",
        "print(df)"
      ],
      "execution_count": null,
      "outputs": []
    },
    {
      "cell_type": "markdown",
      "metadata": {
        "id": "WpP_hVA4Jk8y"
      },
      "source": [
        "####Proposition 3.2.7 \n",
        "Let $f$ and $g$ have derivatives at $x$ and let $\\alpha$ and $\\beta$ be\n",
        "constants. The following results hold\n",
        "$$[\\alpha f(x) +\\beta g(x)]' = \\alpha  f'(x) +\\beta g'(x).$$\n"
      ]
    },
    {
      "cell_type": "markdown",
      "metadata": {
        "id": "RWmb57BkJnRU"
      },
      "source": [
        "####Lemma 3.2.8 \n",
        "Let $f : D \\to\\mathbb{R}$ with $D \\subseteq \\mathbb{R}$ and let $x_0 \\in D$ be an interior point of $D$ where $f'(x_0)$ exists. If $f'(x_0)>0$, then there is an open ball $B_\\delta(x_0) \\subseteq D$ around $x_0$ such that for each $x$ in $B_\\delta(x_0):$ \n",
        "$$(a) f(x) > f(x_0) \\text{ if } x > x0,$$\n",
        "$$(b) f(x) < f(x_0) if x < x_0.$$\n",
        "If instead $ f'(x_0) < 0$, the opposite holds.\n",
        "\n"
      ]
    },
    {
      "cell_type": "markdown",
      "metadata": {
        "id": "c6H3kHHiJqz4"
      },
      "source": [
        "####Theorem 3.2.9 (Rolle) \n",
        "Let $f : [a,b] \\to\\mathbb{R}$ be a continuous function and assume\n",
        "that its derivative exists on $(a,b)$. If $f(a) = f(b)$ then there is $a < c < b$ such that $f'(c) = 0$.\n",
        "\n"
      ]
    },
    {
      "cell_type": "markdown",
      "metadata": {
        "id": "D0XAsNwtYDYw"
      },
      "source": [
        "**Rolle's Theorem**\n",
        "Illustratr the geometric meaning of Rolle's Theorem of the following:<br>\n",
        "$f(x)=x^3-4x$ for $[-2,2]$"
      ]
    },
    {
      "cell_type": "code",
      "metadata": {
        "colab": {
          "base_uri": "https://localhost:8080/",
          "height": 332
        },
        "id": "sMTbmnNXXV3l",
        "outputId": "6ae3c0c7-fdb2-4fdc-a1c9-105b594f6830"
      },
      "source": [
        "from sympy import *\n",
        "from random import randrange\n",
        "import cmath\n",
        "x,y,z=symbols('x y z')\n",
        "init_printing(use_unicode=True)\n",
        "flagcontinuity = False\n",
        "flagdifferentiability = False\n",
        "flagequality = False\n",
        "def h(x):\n",
        "  expr = x**3-4*x\n",
        "  return expr\n",
        "print(h(x))\n",
        "plot(h(x),(x,-2,2))"
      ],
      "execution_count": 3,
      "outputs": [
        {
          "output_type": "stream",
          "name": "stdout",
          "text": [
            "x**3 - 4*x\n"
          ]
        },
        {
          "output_type": "display_data",
          "data": {
            "image/png": "[encoded data removed]",
            "text/plain": [
              "<Figure size 432x288 with 1 Axes>"
            ]
          },
          "metadata": {
            "needs_background": "light"
          }
        },
        {
          "output_type": "execute_result",
          "data": {
            "text/plain": [
              "<sympy.plotting.plot.Plot at 0x7ffa353d09d0>"
            ]
          },
          "metadata": {},
          "execution_count": 3
        }
      ]
    },
    {
      "cell_type": "code",
      "metadata": {
        "colab": {
          "base_uri": "https://localhost:8080/"
        },
        "id": "NyndtV6qYaN9",
        "outputId": "edfe31a8-242f-45a0-d6e2-24671aa18f51"
      },
      "source": [
        "lnhdlimit_pos=limit(h(x),x,-2,'+')\n",
        "lnhdlimit_neg=limit(h(x),x,-2,'-')\n",
        "print(lnhdlimit_pos)\n",
        "print(lnhdlimit_neg)\n",
        "rnhdlimit_pos=limit(h(x),x,-2,'+')\n",
        "rnhdlimit_neg=limit(h(x),x,-2,'-')\n",
        "print(rnhdlimit_pos)\n",
        "print(rnhdlimit_neg)\n",
        "if (lnhdlimit_pos==lnhdlimit_neg) and (lnhdlimit_neg==h(-2)) and (rnhdlimit_pos==rnhdlimit_neg) and (rnhdlimit_neg==h(2)):\n",
        "  print('function is continuous')\n",
        "else:\n",
        "    print('function is discontinuous')\n",
        "    flagcontinuity=True"
      ],
      "execution_count": 6,
      "outputs": [
        {
          "output_type": "stream",
          "name": "stdout",
          "text": [
            "0\n",
            "0\n",
            "0\n",
            "0\n",
            "function is continuous\n"
          ]
        }
      ]
    },
    {
      "cell_type": "code",
      "metadata": {
        "colab": {
          "base_uri": "https://localhost:8080/"
        },
        "id": "UjSYi-bKZsrj",
        "outputId": "051b8f9f-4a78-4df8-88c9-1e39e99baac0"
      },
      "source": [
        "for i in range(0,1):\n",
        "  j = randrange(-2,2)\n",
        "  difflnhd = diff(limit(h(x),x,j,'+'))\n",
        "  diffrnhd = diff(limit(h(x),x,j,'-'))\n",
        "print(difflnhd)\n",
        "print(diffrnhd)\n",
        "if (difflnhd==diffrnhd):\n",
        "  print('function is differentiable')\n",
        "else:\n",
        "  print('function is not differentiable')\n",
        "  flagdifferentiability=True"
      ],
      "execution_count": 7,
      "outputs": [
        {
          "output_type": "stream",
          "name": "stdout",
          "text": [
            "0\n",
            "0\n",
            "function is differentiable\n"
          ]
        }
      ]
    },
    {
      "cell_type": "code",
      "metadata": {
        "colab": {
          "base_uri": "https://localhost:8080/"
        },
        "id": "JbRB42pJaRNU",
        "outputId": "41c5c92e-7b5c-43be-bc0c-7b1284be0444"
      },
      "source": [
        "r1=h(-2)\n",
        "r2=h(2)\n",
        "if (r1==r2):\n",
        "  print('f(a)=f(b)')\n",
        "else:\n",
        "  print('f(a)!=f(b)')\n",
        "  flagequality=True"
      ],
      "execution_count": 8,
      "outputs": [
        {
          "output_type": "stream",
          "name": "stdout",
          "text": [
            "f(a)=f(b)\n"
          ]
        }
      ]
    },
    {
      "cell_type": "code",
      "metadata": {
        "colab": {
          "base_uri": "https://localhost:8080/",
          "height": 435
        },
        "id": "2QLvC7RpYaFF",
        "outputId": "ac029964-891a-48b5-9db0-16c2666499ca"
      },
      "source": [
        "if (flagcontinuity==True) or (flagdifferentiability==True) or (flagequality==True):\n",
        "  print('all conditions of rolles theorem is not satisfied')\n",
        "else: \n",
        "    print('all conditions of rolles theorem is satisfied')\n",
        "d1=diff(h(x),x)\n",
        "print('derivative of h(x) is', d1)\n",
        "print('There exist some constant c')\n",
        "a = int(input())\n",
        "b = int(input())\n",
        "c = int(input())\n",
        "disc = b**2-4*a*c\n",
        "root1=-b+cmath.sqrt(disc)/(2*a)\n",
        "root2=-b-cmath.sqrt(disc)/(2*a)\n",
        "print('The derivative of equation are {0} and {1}'.format(root1,root2),'where derivative is zero')\n",
        "plot(h(x),(x,-2,2),root1,root2)"
      ],
      "execution_count": 11,
      "outputs": [
        {
          "output_type": "stream",
          "name": "stdout",
          "text": [
            "all conditions of rolles theorem is satisfied\n",
            "derivative of h(x) is 3*x**2 - 4\n",
            "There exist some constant c\n",
            "4\n",
            "5\n",
            "6\n",
            "The derivative of equation are (-5+1.0532687216470449j) and (-5-1.0532687216470449j) where derivative is zero\n"
          ]
        },
        {
          "output_type": "display_data",
          "data": {
            "image/png": "[encoded data removed]",
            "text/plain": [
              "<Figure size 432x288 with 1 Axes>"
            ]
          },
          "metadata": {
            "needs_background": "light"
          }
        },
        {
          "output_type": "execute_result",
          "data": {
            "text/plain": [
              "<sympy.plotting.plot.Plot at 0x7ffa280aba90>"
            ]
          },
          "metadata": {},
          "execution_count": 11
        }
      ]
    },
    {
      "cell_type": "markdown",
      "metadata": {
        "id": "6y7G4LwhJsWB"
      },
      "source": [
        "####Theorem 3.2.10 (Mean Value) \n",
        "Let $f : [a,b] \\to\\mathbb{ R}$ be a continuous function and\n",
        "assume that its derivative exists on $(a,b)$. Then there is $a < c < b$ such that \n",
        "$$f(b) = f(a) + (b−a)f'(c),$$\n",
        "or put differently\n",
        "$$\\frac{f(b)− f(a)}{b−a}= f'(c).$$"
      ]
    },
    {
      "cell_type": "code",
      "metadata": {
        "colab": {
          "base_uri": "https://localhost:8080/",
          "height": 331
        },
        "id": "jNK7NXk8cChD",
        "outputId": "04599110-0bb6-4da0-9a23-a6ba2956a953"
      },
      "source": [
        "from mpmath import*\n",
        "from sympy import*\n",
        "import random\n",
        "import cmath\n",
        "x,y,z,a,b,c=symbols('x y z a b c')\n",
        "init_printing(use_unicode=True)\n",
        "flagcontinuity=False\n",
        "flagdifferentiability=False\n",
        "def h(x):\n",
        "  expr=x*(x-1)*(x-2)\n",
        "  return expr\n",
        "print(h(x))\n",
        "plot(h(x),(x,0,1/2))"
      ],
      "execution_count": 13,
      "outputs": [
        {
          "output_type": "stream",
          "name": "stdout",
          "text": [
            "x*(x - 2)*(x - 1)\n"
          ]
        },
        {
          "output_type": "display_data",
          "data": {
            "image/png": "[encoded data removed]",
            "text/plain": [
              "<Figure size 432x288 with 1 Axes>"
            ]
          },
          "metadata": {
            "needs_background": "light"
          }
        },
        {
          "output_type": "execute_result",
          "data": {
            "text/plain": [
              "<sympy.plotting.plot.Plot at 0x7ffa28045ed0>"
            ]
          },
          "metadata": {},
          "execution_count": 13
        }
      ]
    },
    {
      "cell_type": "code",
      "metadata": {
        "colab": {
          "base_uri": "https://localhost:8080/"
        },
        "id": "V1956uUbcs3r",
        "outputId": "a98efbd2-8fb0-4fff-fa8e-426b96bfc2f7"
      },
      "source": [
        "lnhdlimit_pos=limit(h(x),x,0,'+')\n",
        "lnhdlimit_neg=limit(h(x),x,0,'-')\n",
        "print(lnhdlimit_pos)\n",
        "print(lnhdlimit_neg)\n",
        "rnhdlimit_pos=limit(h(x),x,1/2,'+')\n",
        "rnhdlimit_neg=limit(h(x),x,1/2,'-')\n",
        "print(rnhdlimit_pos)\n",
        "print(rnhdlimit_neg)\n",
        "if (lnhdlimit_pos==lnhdlimit_neg) and (lnhdlimit_neg==h(0)) and (rnhdlimit_pos==rnhdlimit_neg) and (rnhdlimit_neg==h(1/2)):\n",
        "  print('function is continuous')\n",
        "else:\n",
        "    print('function is discontinuous')\n",
        "    flagcontinuity=True"
      ],
      "execution_count": 14,
      "outputs": [
        {
          "output_type": "stream",
          "name": "stdout",
          "text": [
            "0\n",
            "0\n",
            "0.375000000000000\n",
            "0.375000000000000\n",
            "function is continuous\n"
          ]
        }
      ]
    },
    {
      "cell_type": "code",
      "metadata": {
        "colab": {
          "base_uri": "https://localhost:8080/"
        },
        "id": "o42Z_9qec8LU",
        "outputId": "f93c508e-b3a3-4b65-a60d-f05344bb3c3a"
      },
      "source": [
        "for i in range(0,1):\n",
        "  j = random.uniform(0,1/2)\n",
        "  difflnhd = diff(limit(h(x),x,j,'+'))\n",
        "  diffrnhd = diff(limit(h(x),x,j,'-'))\n",
        "print(difflnhd)\n",
        "print(diffrnhd)\n",
        "if (difflnhd==diffrnhd):\n",
        "  print('function is differentiable')\n",
        "else:\n",
        "  print('function is not differentiable')\n",
        "  flagdifferentiability=True"
      ],
      "execution_count": 16,
      "outputs": [
        {
          "output_type": "stream",
          "name": "stdout",
          "text": [
            "0\n",
            "0\n",
            "function is differentiable\n"
          ]
        }
      ]
    },
    {
      "cell_type": "code",
      "metadata": {
        "colab": {
          "base_uri": "https://localhost:8080/",
          "height": 505
        },
        "id": "fAjcR2JOdGVi",
        "outputId": "7410388c-f413-4e1a-caa9-230e56a3e206"
      },
      "source": [
        "if (flagcontinuity==True) or (flagdifferentiability==True):\n",
        "  print('Lagrange Theorem is not applicable')\n",
        "else: \n",
        "    print('Lagrange Theorem is applicable')\n",
        "d2=diff(h(x),x)\n",
        "print('derivative of h(x) is', d2)\n",
        "print('There exist some constant c')\n",
        "a = float(int(input()))\n",
        "b = float(int(input()))\n",
        "ratio = (h(b)-h(a))/(b-1)\n",
        "print(ratio)\n",
        "rd=round(ratio,2)\n",
        "print('Round value of ratio at two decimal points',rd)\n",
        "print(diff(h(c),c),'=',rd)\n",
        "z=diff(h(c),c)\n",
        "simplify(diff(h(c),c))\n",
        "print(solve((c*(c-2)+c*(c-1)+(c-2)*(c-1)-rd),c))\n",
        "ar=solve((c*(c-2)+c*(c-1)+(c-2)*(c-1)-rd),c)\n",
        "print('value of c is', ar)\n",
        "print('It lies between a and b',a,b)\n",
        "plot(h(x),(x,0,1/2),ar[0],ar[1])"
      ],
      "execution_count": 21,
      "outputs": [
        {
          "output_type": "stream",
          "name": "stdout",
          "text": [
            "Lagrange Theorem is applicable\n",
            "derivative of h(x) is x*(x - 2) + x*(x - 1) + (x - 2)*(x - 1)\n",
            "There exist some constant c\n",
            "5\n",
            "2\n",
            "-60.0\n",
            "Round value of ratio at two decimal points -60.0\n",
            "c*(c - 2) + c*(c - 1) + (c - 2)*(c - 1) = -60.0\n",
            "[1.0 - 4.43471156521669*I, 1.0 + 4.43471156521669*I]\n",
            "value of c is [1.0 - 4.43471156521669*I, 1.0 + 4.43471156521669*I]\n",
            "it lies between a and b 5.0 2.0\n"
          ]
        },
        {
          "output_type": "display_data",
          "data": {
            "image/png": "[encoded data removed]",
            "text/plain": [
              "<Figure size 432x288 with 1 Axes>"
            ]
          },
          "metadata": {
            "needs_background": "light"
          }
        },
        {
          "output_type": "execute_result",
          "data": {
            "text/plain": [
              "<sympy.plotting.plot.Plot at 0x7ffa27ba8cd0>"
            ]
          },
          "metadata": {},
          "execution_count": 21
        }
      ]
    },
    {
      "cell_type": "markdown",
      "metadata": {
        "id": "Xlify2tB-wsA"
      },
      "source": [
        "###3.2.2.2 General case"
      ]
    },
    {
      "cell_type": "markdown",
      "metadata": {
        "id": "nXaEQ3nxKIHW"
      },
      "source": [
        "####Definition 3.2.11 (Partial Derivative) \n",
        "Let $f : D \\to\\mathbb{ R}$ where $D \\subseteq \\mathbb{R}^d$\n",
        " and let $\\textbf{x}_0 \\in D$ be an interior point of $D$. The partial derivative of f at $\\textbf{x}_0$ with respect o $x_i$ is\n",
        "$$\\frac{\\partial f(\\textbf{x}_0)}{\\partial x_i} = \\lim_{h\\to 0}\\frac{f(\\textbf{x}_0 +h\\textbf{e}_i)− f(\\textbf{x}_0)}{h}$$\n",
        "provided the limit exists. If $\\frac{\\partial f(\\textbf{x}_0)}{\\partial x_i} $ exists and is continuous in an open ball around $\\textbf{x}_0$ for all $i$, then we say that $f$ continuously differentiable at $\\textbf{x}_0$.\n",
        "\n"
      ]
    },
    {
      "cell_type": "code",
      "metadata": {
        "colab": {
          "base_uri": "https://localhost:8080/",
          "height": 39
        },
        "id": "rvJEuQ7Mgw6x",
        "outputId": "3957a8a8-fc13-4ecb-f111-5309b05f1508"
      },
      "source": [
        "from sympy import Symbol, Derivative\n",
        "\n",
        "x= Symbol('x')\n",
        "\n",
        "y= Symbol('y')\n",
        "\n",
        "function= x**2 * y**3 + 12*y**4\n",
        "\n",
        "partialderiv= Derivative(function, y)\n",
        "partialderiv.doit()"
      ],
      "execution_count": 22,
      "outputs": [
        {
          "output_type": "execute_result",
          "data": {
            "image/png": "[encoded data removed]",
            "text/latex": "$\\displaystyle 3 x^{2} y^{2} + 48 y^{3}$",
            "text/plain": [
              "   2  2       3\n",
              "3⋅x ⋅y  + 48⋅y "
            ]
          },
          "metadata": {},
          "execution_count": 22
        }
      ]
    },
    {
      "cell_type": "markdown",
      "metadata": {
        "id": "ykzuEOP8KKge"
      },
      "source": [
        "####Definition 3.2.12 (Jacobian) \n",
        "Let $\\textbf{f} = (f_1,\\cdots, f_m) : D \\to \\mathbb{R}^m$ where $D \\subseteq \\mathbb{R}^d$ and let $\\textbf{x}_0 \\in D$ be an interior point of $D$ where $\\frac{\\partial f(\\textbf{x}_0)}{\\partial x_i} $ exists for all $i, j$. \n",
        "The Jacobian of $\\textbf{f}$ at $\\textbf{x}_0$ is the $d \\times m$ matrix\n",
        "$$\\textbf{J}_\\textbf{f}(\\textbf{x}_0) = \\begin{pmatrix}\n",
        "\\frac{\\partial f_1(\\textbf{x}_0)}{\\partial x_1} &\\cdots &\\frac{\\partial f_1(\\textbf{x}_0)}{\\partial x_d}\\\\\n",
        "\\vdots&\\vdots&\\vdots\\\\\n",
        "\\frac{\\partial f_m(\\textbf{x}_0)}{\\partial x_1} &\\cdots&\\frac{\\partial f_m(\\textbf{x}_0)}{\\partial x_d}\n",
        "\\end{pmatrix}$$\n",
        "For a real-valued function $f : D \\to \\mathbb{R}$, the Jacobian reduces to the row vector $\\textbf{J}_f(\\textbf{x}_0) = \\nabla f(\\textbf{x}_0)^T$ where the vector $$\\nabla f(\\textbf{x}_0)=\\left(\\frac{\\partial f(\\textbf{x}_0)}{\\partial x_i} ,\\cdots,\\frac{\\partial f(\\textbf{x}_0)}{\\partial x_d} \\right)^T$$\n",
        "is the gradient of $f$ at $\\textbf{x}_0$."
      ]
    },
    {
      "cell_type": "code",
      "metadata": {
        "colab": {
          "base_uri": "https://localhost:8080/"
        },
        "id": "Lzkn-LmAg1pO",
        "outputId": "378db095-c4c9-4d5e-a102-fd17d020661c"
      },
      "source": [
        "import autograd.numpy as np\n",
        "from autograd import grad, jacobian\n",
        "\n",
        "x = np.array([5,3], dtype=float)\n",
        "\n",
        "def cost(x):\n",
        "    return x[0]**2 / x[1] - np.log(x[1])\n",
        "\n",
        "gradient_cost = grad(cost)\n",
        "jacobian_cost = jacobian(cost)\n",
        "\n",
        "gradient_cost(x)\n",
        "jacobian_cost(np.array([x,x,x]))"
      ],
      "execution_count": 23,
      "outputs": [
        {
          "output_type": "execute_result",
          "data": {
            "text/plain": [
              "array([[[ 2.        ,  0.        ],\n",
              "        [-1.2       ,  0.        ],\n",
              "        [ 0.        ,  0.        ]],\n",
              "\n",
              "       [[ 0.        ,  2.        ],\n",
              "        [ 0.        , -1.33333333],\n",
              "        [ 0.        ,  0.        ]]])"
            ]
          },
          "metadata": {},
          "execution_count": 23
        }
      ]
    },
    {
      "cell_type": "code",
      "metadata": {
        "colab": {
          "base_uri": "https://localhost:8080/",
          "height": 78
        },
        "id": "M64KHk_-g7Xj",
        "outputId": "ea17b15e-62b8-4610-854f-8d29db49b335"
      },
      "source": [
        "from sympy import sin, cos, Matrix\n",
        "from sympy.abc import rho, phi\n",
        "\n",
        "X = Matrix([rho*cos(phi), rho*sin(phi), rho**2])\n",
        "Y = Matrix([rho, phi])\n",
        "\n",
        "X.jacobian(Y)"
      ],
      "execution_count": 24,
      "outputs": [
        {
          "output_type": "execute_result",
          "data": {
            "text/latex": "$\\displaystyle \\left[\\begin{matrix}\\cos{\\left(\\phi \\right)} & - \\rho \\sin{\\left(\\phi \\right)}\\\\\\sin{\\left(\\phi \\right)} & \\rho \\cos{\\left(\\phi \\right)}\\\\2 \\rho & 0\\end{matrix}\\right]$",
            "text/plain": [
              "⎡cos(φ)  -ρ⋅sin(φ)⎤\n",
              "⎢                 ⎥\n",
              "⎢sin(φ)  ρ⋅cos(φ) ⎥\n",
              "⎢                 ⎥\n",
              "⎣ 2⋅ρ        0    ⎦"
            ]
          },
          "metadata": {},
          "execution_count": 24
        }
      ]
    },
    {
      "cell_type": "markdown",
      "metadata": {
        "id": "Gza8xGE_LFGj"
      },
      "source": [
        "####Theorem 3.2.15 (Chain Rule) \n",
        "Let $\\textbf{f} : D_1 \\to\\mathbb{ R}^m$, where $D_1 \\subseteq \\mathbb{R}^d$, and let $\\textbf{g} : D_2 \\to\\mathbb{ R}^p$, where $D_2 \\subseteq\\mathbb{R}^m$. Assume that $\\textbf{f}$ is continuously differentiable at $\\textbf{x}_0$, an interior point of $D_1$, and that $\\textbf{g}$ is continuously differentiable at $\\textbf{f}(\\textbf{x}_0)$, an\n",
        "interior point of $D_2$. Then\n",
        "$$\\textbf{J}_{\\textbf{g}\\circ \\textbf{f}}(\\textbf{x}_0) = \\textbf{J}_\\textbf{g}(\\textbf{f}(\\textbf{x}_0))\\textbf{J}_\\textbf{f}(\\textbf{x}_0)$$\n",
        "as a product of matrices."
      ]
    },
    {
      "cell_type": "markdown",
      "metadata": {
        "id": "MB_nU048-0Cy"
      },
      "source": [
        "###3.2.2.3 Further derivatives"
      ]
    },
    {
      "cell_type": "markdown",
      "metadata": {
        "id": "s3xYEDXZLrZu"
      },
      "source": [
        "####Definition 3.2.16 (Directional Derivative) \n",
        "Let $f : D \\to \\mathbb{R}$ where $D \\subseteq \\mathbb{R}^d$, let\n",
        "$\\textbf{x}_0 \\in D$ be an interior point of $D$ and let $\\textbf{v} \\in \\mathbb{R}^d$  be a unit vector. The directional\n",
        "derivative of $f$ at $\\textbf{x}_0$ in the direction $\\textbf{v}$ is\n",
        "$$\\frac{\\partial f(\\textbf{x}_0)}{\\partial \\textbf{v}}=\\lim_{h\\to 0}\\frac{f(\\textbf{x}_0+h\\textbf{v})-f(\\textbf{x}_0)}{h} $$\n",
        "provided the limit exists.\n",
        "\n"
      ]
    },
    {
      "cell_type": "markdown",
      "metadata": {
        "id": "_9LcabJELtYU"
      },
      "source": [
        "####Theorem 3.2.17 (Directional Derivative from Gradient) \n",
        "Let $f : D \\to\\mathbb{ R}$ where $D \\subseteq \\mathbb{R}^d$, let $\\textbf{x}_0 \\in D$ be an interior point of $D$ and let $\\textbf{v }\\in \\mathbb{R}^d$ be a unit vector. Assume that $f$ is continuously differentiable at $\\textbf{x}_0$. Then the directional derivative of $f$ at $\\textbf{x}_0$ in the direction $\\textbf{v}$ is given by\n",
        "$$\\frac{\\partial f(\\textbf{x}_0)}{\\partial \\textbf{v}} =\\textbf{J}_f(\\textbf{x}_0)\\textbf{v}=\\nabla f(\\textbf{x}_0)^T \\textbf{v}.$$\n"
      ]
    },
    {
      "cell_type": "markdown",
      "metadata": {
        "id": "Ub7qCEQCL-47"
      },
      "source": [
        "####Definition 3.2.18 (Second Partial Derivatives and Hessian) \n",
        "Let $f : D\\to\\mathbb{R}$ where $D \\subseteq \\mathbb{R}^d$  and let $\\textbf{x}_0 \\in D$ be an interior point of $D$. Assume that $f$ is continuously differentiable in an open ball around $\\textbf{x}_0$. Then $\\frac{\\partial f(\\textbf{x}_0)}{\\partial x_i} $\n",
        "is itself a function of $\\textbf{x}$ and its partial derivative with respect to $x_j$, if it exists, is denoted by\n",
        "$$\\frac{\\partial^2 f(\\textbf{x}_0)}{\\partial x_j\\partial x_i} =\\lim_{h\\to 0}\\frac{\\partial f(\\textbf{x}_0+h\\textbf{e}_j)/\\partial x_i-\\partial f(\\textbf{x}_0)/\\partial x_i}{h}.$$"
      ]
    },
    {
      "cell_type": "markdown",
      "metadata": {
        "id": "ta7P7PcrMKOu"
      },
      "source": [
        "####Theorem 3.2.19 (Symmetry of the Hessian) \n",
        "Let $f : D \\to\\mathbb{ R}$ where $D \\subseteq \\mathbb{R}^d$ and\n",
        "let $\\textbf{x}_0 \\in D$ be an interior point of $D$. Assume that $f$ is twice continuously differentiable at $\\textbf{x}_0$. Then for all $i \\neq j$\n",
        "$$\\frac{\\partial^2 f(\\textbf{x}_0)}{\\partial x_j\\partial x_i} =\\frac{\\partial^2 f(\\textbf{x}_0)}{\\partial x_i\\partial x_j}. $$"
      ]
    },
    {
      "cell_type": "code",
      "metadata": {
        "colab": {
          "base_uri": "https://localhost:8080/"
        },
        "id": "C1ePtld3jZCx",
        "outputId": "b36ecfee-264b-413a-f9df-d50916324607"
      },
      "source": [
        "!pip install algopy"
      ],
      "execution_count": 50,
      "outputs": [
        {
          "output_type": "stream",
          "name": "stdout",
          "text": [
            "Collecting algopy\n",
            "  Downloading algopy-0.5.7.zip (189 kB)\n",
            "\u001b[?25l\r\u001b[K     |█▊                              | 10 kB 25.8 MB/s eta 0:00:01\r\u001b[K     |███▌                            | 20 kB 7.6 MB/s eta 0:00:01\r\u001b[K     |█████▏                          | 30 kB 5.4 MB/s eta 0:00:01\r\u001b[K     |███████                         | 40 kB 5.1 MB/s eta 0:00:01\r\u001b[K     |████████▋                       | 51 kB 2.5 MB/s eta 0:00:01\r\u001b[K     |██████████▍                     | 61 kB 2.8 MB/s eta 0:00:01\r\u001b[K     |████████████                    | 71 kB 2.8 MB/s eta 0:00:01\r\u001b[K     |█████████████▉                  | 81 kB 3.2 MB/s eta 0:00:01\r\u001b[K     |███████████████▋                | 92 kB 3.3 MB/s eta 0:00:01\r\u001b[K     |█████████████████▎              | 102 kB 2.7 MB/s eta 0:00:01\r\u001b[K     |███████████████████             | 112 kB 2.7 MB/s eta 0:00:01\r\u001b[K     |████████████████████▊           | 122 kB 2.7 MB/s eta 0:00:01\r\u001b[K     |██████████████████████▌         | 133 kB 2.7 MB/s eta 0:00:01\r\u001b[K     |████████████████████████▏       | 143 kB 2.7 MB/s eta 0:00:01\r\u001b[K     |██████████████████████████      | 153 kB 2.7 MB/s eta 0:00:01\r\u001b[K     |███████████████████████████▋    | 163 kB 2.7 MB/s eta 0:00:01\r\u001b[K     |█████████████████████████████▍  | 174 kB 2.7 MB/s eta 0:00:01\r\u001b[K     |███████████████████████████████▏| 184 kB 2.7 MB/s eta 0:00:01\r\u001b[K     |████████████████████████████████| 189 kB 2.7 MB/s \n",
            "\u001b[?25hBuilding wheels for collected packages: algopy\n",
            "  Building wheel for algopy (setup.py) ... \u001b[?25l\u001b[?25hdone\n",
            "  Created wheel for algopy: filename=algopy-0.5.7-py3-none-any.whl size=107608 sha256=4ff0c40eb878b799e1bf0a6c25775233b28a5a1a2357ed45fb31cf385fedd1a8\n",
            "  Stored in directory: /root/.cache/pip/wheels/a8/fd/06/21dc6aba9f680fdbde386c06b1a8a1cf3d9a5f6bd96e31dcd4\n",
            "Successfully built algopy\n",
            "Installing collected packages: algopy\n",
            "Successfully installed algopy-0.5.7\n"
          ]
        }
      ]
    },
    {
      "cell_type": "code",
      "metadata": {
        "colab": {
          "base_uri": "https://localhost:8080/"
        },
        "id": "cBzW14hiiSqv",
        "outputId": "864121a6-35be-4164-f8b8-fa21504f123f"
      },
      "source": [
        "import numpy, algopy\n",
        "from algopy import UTPM, exp\n",
        "\n",
        "def eval_f(x):\n",
        "  return x[0]*x[1]*x[2] + exp(x[0])*x[1]\n",
        "\n",
        "# forward mode without building the computational graph\n",
        "# -----------------------------------------------------\n",
        "x = UTPM.init_jacobian([3,5,7])\n",
        "y = eval_f(x)\n",
        "algopy_jacobian = UTPM.extract_jacobian(y)\n",
        "print('jacobian = ',algopy_jacobian)\n",
        "\n",
        "# reverse mode using a computational graph\n",
        "# ----------------------------------------\n",
        "\n",
        "# STEP 1: trace the function evaluation\n",
        "cg = algopy.CGraph()\n",
        "x = algopy.Function([1,2,3])\n",
        "y = eval_f(x)\n",
        "cg.trace_off()\n",
        "cg.independentFunctionList = [x]\n",
        "cg.dependentFunctionList = [y]\n",
        "\n",
        "# STEP 2: use the computational graph to evaluate derivatives\n",
        "print('gradient =', cg.gradient([3.,5,7]))\n",
        "print('Jacobian =', cg.jacobian([3.,5,7]))\n",
        "print('Hessian =', cg.hessian([3.,5.,7.]))\n",
        "print('Hessian vector product =', cg.hess_vec([3.,5.,7.],[4,5,6]))"
      ],
      "execution_count": 51,
      "outputs": [
        {
          "output_type": "stream",
          "name": "stdout",
          "text": [
            "jacobian =  [135.42768462  41.08553692  15.        ]\n",
            "gradient = [array([135.42768462,  41.08553692,  15.        ])]\n",
            "Jacobian = [[135.42768462  41.08553692  15.        ]]\n",
            "Hessian = [[100.42768462  27.08553692   5.        ]\n",
            " [ 27.08553692   0.           3.        ]\n",
            " [  5.           3.           0.        ]]\n",
            "Hessian vector product = [567.13842308 126.34214769  35.        ]\n"
          ]
        }
      ]
    },
    {
      "cell_type": "markdown",
      "metadata": {
        "id": "GYqIsF6p-3Zb"
      },
      "source": [
        "##3.2.3 Taylor’s theorem"
      ]
    },
    {
      "cell_type": "markdown",
      "metadata": {
        "id": "UzgBmKK-MUVz"
      },
      "source": [
        "####Theorem 3.2.21 (Taylor): \n",
        "Let $f : D \\to\\mathbb{ R}$ where $D \\subseteq \\mathbb{R}$. Suppose $f$ has a $m$ times continuous derivative on $[a,b]$. Then \n",
        "$$f(b) = f(a) + (b−a)f'(a)+\\frac{1}{2}(b-a)^2f''(a)+\\cdots +\\frac{(b-a)^{m-1}}{(m-1)!}f^{(m-1)}(a)+\\textbf{R}_m$$\n",
        "where $R_m=\\frac{(b-a)^m}{m!}f^(m)(a+\\theta (b-a))$\n",
        "for some $0 < \\theta < 1$. In particular, for $m=2$, we have \n",
        "$$f(b)=f(a)+(b-a)f'(a)+\\frac{1}{2}(b-a)^2 f''(\\xi)$$\n",
        "for some $a<\\xi < b$.\n",
        "\n"
      ]
    },
    {
      "cell_type": "markdown",
      "metadata": {
        "id": "pucFyrLfMXAQ"
      },
      "source": [
        "####Theorem 3.2.22 (Multivariate Mean Value)\n",
        "Let $f : D \\to\\mathbb{ R}$ where $D \\subseteq \\mathbb{R}^d$. Let\n",
        "$\\textbf{x}_0 \\in D$ and $\\delta > 0$ be such that $B_\\delta(\\textbf{x}_0) \\subseteq D$. If $f$ is continuously differentiable on $B_\\delta(\\textbf{x}_0)$, then for any $\\textbf{x} \\in B_\\delta(\\textbf{x}_0)$\n",
        "$$f(\\textbf{x}) = f(\\textbf{x}_0) +\\nabla f(\\textbf{x}_0 +\\xi \\textbf{p})^T\\textbf{ p} $$\n",
        "for some $\\xi\\in(0,1)$, where $\\textbf{p} = \\textbf{x}−\\textbf{x}_0$."
      ]
    },
    {
      "cell_type": "markdown",
      "metadata": {
        "id": "RPEmQuU9MwFP"
      },
      "source": [
        "####Theorem 3.2.23 (Multivariate Taylor): \n",
        "Let $f : D \\to\\mathbb{ R}$ where $D \\subseteq \\mathbb{R}^d$. Let\n",
        "$\\textbf{x}_0 \\in D$ and $\\delta > 0$ be such that $B_\\delta(\\textbf{x}_0) \\subseteq D$. If $f$ is three times continuously differentiable on $B_\\delta(\\textbf{x}_0)$, then for any $\\textbf{x} \\in B_\\delta(\\textbf{x}_0)$\n",
        "$$f(\\textbf{x}) = f(\\textbf{x}_0) +\\nabla f(\\textbf{x}_0)^T \\textbf{p}+\\frac{1}{2}\\textbf{p}^T \\textbf{H}_f(\\textbf{x}_0)\\textbf{p}+O(||\\textbf{p}||^3)$$\n",
        "where $\\textbf{p} = \\textbf{x}−\\textbf{x}_0$.\n",
        "If $f$ is twice continuously differentiable on $B_\\delta(\\textbf{x}_0)$, then for any $\\textbf{x} \\in B_\\delta(\\textbf{x}_0)$\n",
        "$$f(\\textbf{x}) = f(\\textbf{x}_0) +\\nabla f(\\textbf{x}_0)^T \\textbf{p}+\\frac{1}{2}\\textbf{p}^T \\textbf{H}_f(\\textbf{x}_0 +\\xi \\textbf{p})\\textbf{p} $$\n",
        "for some $\\xi \\in (0,1)$, where $\\textbf{p} = \\textbf{x}−\\textbf{x}_0$."
      ]
    },
    {
      "cell_type": "code",
      "metadata": {
        "id": "Sbd1fYmghNFT"
      },
      "source": [
        "import sympy as sy\n",
        "from sympy.matrices import *\n",
        "x, t, a, h, k = sy.symbols('x t a h k')\n",
        "x0, t0 = sy.symbols('x_0, t_0')\n",
        "\n",
        "v = sy.Function('v')(x, t)\n",
        "X = Matrix([x,t])\n",
        "dX = Matrix([h,k])\n",
        "sy.init_printing()"
      ],
      "execution_count": 25,
      "outputs": []
    },
    {
      "cell_type": "code",
      "metadata": {
        "colab": {
          "base_uri": "https://localhost:8080/",
          "height": 58
        },
        "id": "m4_Xyd9ZhNk2",
        "outputId": "2781e739-cef5-4c14-e688-f0e6ec14be8a"
      },
      "source": [
        "dX"
      ],
      "execution_count": 26,
      "outputs": [
        {
          "output_type": "execute_result",
          "data": {
            "text/latex": "$\\displaystyle \\left[\\begin{matrix}h\\\\k\\end{matrix}\\right]$",
            "text/plain": [
              "⎡h⎤\n",
              "⎢ ⎥\n",
              "⎣k⎦"
            ]
          },
          "metadata": {},
          "execution_count": 26
        }
      ]
    },
    {
      "cell_type": "code",
      "metadata": {
        "colab": {
          "base_uri": "https://localhost:8080/",
          "height": 58
        },
        "id": "zp5EkBO1hOzV",
        "outputId": "0f00ba3c-b648-4ef3-ae08-caf56a0ed6d2"
      },
      "source": [
        "X"
      ],
      "execution_count": 27,
      "outputs": [
        {
          "output_type": "execute_result",
          "data": {
            "text/latex": "$\\displaystyle \\left[\\begin{matrix}x\\\\t\\end{matrix}\\right]$",
            "text/plain": [
              "⎡x⎤\n",
              "⎢ ⎥\n",
              "⎣t⎦"
            ]
          },
          "metadata": {},
          "execution_count": 27
        }
      ]
    },
    {
      "cell_type": "code",
      "metadata": {
        "colab": {
          "base_uri": "https://localhost:8080/",
          "height": 39
        },
        "id": "jVJIJLyihPp0",
        "outputId": "68a30557-e4e5-44e6-8894-a67d5606ecd7"
      },
      "source": [
        "TE = 0\n",
        "v0 = v\n",
        "for idx, x in enumerate(X):\n",
        "    v0 = v0.subs(x, 0)\n",
        "TE += v0\n",
        "TE"
      ],
      "execution_count": 30,
      "outputs": [
        {
          "output_type": "execute_result",
          "data": {
            "image/png": "[encoded data removed]",
            "text/latex": "$\\displaystyle v{\\left(0,0 \\right)}$",
            "text/plain": [
              "v(0, 0)"
            ]
          },
          "metadata": {},
          "execution_count": 30
        }
      ]
    },
    {
      "cell_type": "code",
      "metadata": {
        "colab": {
          "base_uri": "https://localhost:8080/",
          "height": 59
        },
        "id": "-mhoIK5MhR8m",
        "outputId": "76406cfa-2693-4602-9d4d-7d43f837e2a0"
      },
      "source": [
        "# The first order term\n",
        "gradV = Matrix([v.diff(xi,1) for xi in X])\n",
        "gradV"
      ],
      "execution_count": 31,
      "outputs": [
        {
          "output_type": "execute_result",
          "data": {
            "text/latex": "$\\displaystyle \\left[\\begin{matrix}\\frac{\\partial}{\\partial x} v{\\left(x,t \\right)}\\\\\\frac{\\partial}{\\partial t} v{\\left(x,t \\right)}\\end{matrix}\\right]$",
            "text/plain": [
              "⎡∂          ⎤\n",
              "⎢──(v(x, t))⎥\n",
              "⎢∂x         ⎥\n",
              "⎢           ⎥\n",
              "⎢∂          ⎥\n",
              "⎢──(v(x, t))⎥\n",
              "⎣∂t         ⎦"
            ]
          },
          "metadata": {},
          "execution_count": 31
        }
      ]
    },
    {
      "cell_type": "code",
      "metadata": {
        "colab": {
          "base_uri": "https://localhost:8080/",
          "height": 53
        },
        "id": "YG0QZOLHhSpb",
        "outputId": "01109ba4-81bc-46c8-f27f-e79d26d19014"
      },
      "source": [
        "firstTerm = gradV.T*dX\n",
        "TE += sum(firstTerm)\n",
        "firstTerm[0]"
      ],
      "execution_count": 32,
      "outputs": [
        {
          "output_type": "execute_result",
          "data": {
            "image/png": "[encoded data removed]",
            "text/latex": "$\\displaystyle h \\frac{\\partial}{\\partial x} v{\\left(x,t \\right)} + k \\frac{\\partial}{\\partial t} v{\\left(x,t \\right)}$",
            "text/plain": [
              "  ∂               ∂          \n",
              "h⋅──(v(x, t)) + k⋅──(v(x, t))\n",
              "  ∂x              ∂t         "
            ]
          },
          "metadata": {},
          "execution_count": 32
        }
      ]
    },
    {
      "cell_type": "code",
      "metadata": {
        "colab": {
          "base_uri": "https://localhost:8080/",
          "height": 53
        },
        "id": "Ff5Rwq6fheJi",
        "outputId": "30ff96a7-b4a5-4206-80a5-a14f7c6800e4"
      },
      "source": [
        "def factorial(n):\n",
        "    if n <= 0:\n",
        "        return 1\n",
        "    else:\n",
        "        return n * factorial(n - 1)\n",
        "tsOrderGroup = lambda f, X, n: dX.T * Matrix([f.diff(xi,1) for xi in X]) / factorial(n)\n",
        "grad = tsOrderGroup(v, X, 1).T\n",
        "fir = grad\n",
        "sum(fir)"
      ],
      "execution_count": 33,
      "outputs": [
        {
          "output_type": "execute_result",
          "data": {
            "image/png": "[encoded data removed]",
            "text/latex": "$\\displaystyle h \\frac{\\partial}{\\partial x} v{\\left(x,t \\right)} + k \\frac{\\partial}{\\partial t} v{\\left(x,t \\right)}$",
            "text/plain": [
              "  ∂               ∂          \n",
              "h⋅──(v(x, t)) + k⋅──(v(x, t))\n",
              "  ∂x              ∂t         "
            ]
          },
          "metadata": {},
          "execution_count": 33
        }
      ]
    },
    {
      "cell_type": "code",
      "metadata": {
        "colab": {
          "base_uri": "https://localhost:8080/",
          "height": 55
        },
        "id": "zZCJ14FLhjQD",
        "outputId": "a17ef5df-caae-4448-8cbc-d7ee53efa6f5"
      },
      "source": [
        "# The second order term\n",
        "sy.hessian(v, X)\n",
        "secondTerm = .5*dX.T*sy.hessian(v, X)*dX\n",
        "TE += sum(secondTerm)\n",
        "sy.simplify(sum(secondTerm))"
      ],
      "execution_count": 34,
      "outputs": [
        {
          "output_type": "execute_result",
          "data": {
            "image/png": "[encoded data removed]",
            "text/latex": "$\\displaystyle 0.5 h^{2} \\frac{\\partial^{2}}{\\partial x^{2}} v{\\left(x,t \\right)} + 1.0 h k \\frac{\\partial^{2}}{\\partial x\\partial t} v{\\left(x,t \\right)} + 0.5 k^{2} \\frac{\\partial^{2}}{\\partial t^{2}} v{\\left(x,t \\right)}$",
            "text/plain": [
              "         2                       2                      2         \n",
              "     2  ∂                       ∂                   2  ∂          \n",
              "0.5⋅h ⋅───(v(x, t)) + 1.0⋅h⋅k⋅─────(v(x, t)) + 0.5⋅k ⋅───(v(x, t))\n",
              "         2                    ∂x ∂t                     2         \n",
              "       ∂x                                             ∂t          "
            ]
          },
          "metadata": {},
          "execution_count": 34
        }
      ]
    },
    {
      "cell_type": "code",
      "metadata": {
        "colab": {
          "base_uri": "https://localhost:8080/",
          "height": 59
        },
        "id": "F8RBNBOjhqe5",
        "outputId": "e086a264-375f-4d32-acd3-e88551eeab38"
      },
      "source": [
        "gNext = Matrix([tsOrderGroup(dv, X, 2) for dv in grad * factorial(2 - 1)])\n",
        "sy.simplify(sum(gNext))"
      ],
      "execution_count": 35,
      "outputs": [
        {
          "output_type": "execute_result",
          "data": {
            "image/png": "[encoded data removed]",
            "text/latex": "$\\displaystyle \\frac{h^{2} \\frac{\\partial^{2}}{\\partial x^{2}} v{\\left(x,t \\right)}}{2} + h k \\frac{\\partial^{2}}{\\partial x\\partial t} v{\\left(x,t \\right)} + \\frac{k^{2} \\frac{\\partial^{2}}{\\partial t^{2}} v{\\left(x,t \\right)}}{2}$",
            "text/plain": [
              "     2                                      2         \n",
              " 2  ∂                                   2  ∂          \n",
              "h ⋅───(v(x, t))                        k ⋅───(v(x, t))\n",
              "     2                   2                  2         \n",
              "   ∂x                   ∂                 ∂t          \n",
              "─────────────── + h⋅k⋅─────(v(x, t)) + ───────────────\n",
              "       2              ∂x ∂t                   2       "
            ]
          },
          "metadata": {},
          "execution_count": 35
        }
      ]
    },
    {
      "cell_type": "code",
      "metadata": {
        "colab": {
          "base_uri": "https://localhost:8080/",
          "height": 59
        },
        "id": "XoB3mpPVhsh2",
        "outputId": "f44c3f37-57bb-40cf-bbac-7566108b94ea"
      },
      "source": [
        "# The remaining term\n",
        "gNext = Matrix([tsOrderGroup(dv, X, 3) for dv in gNext * factorial(3 - 1)])\n",
        "TE += sum(gNext)\n",
        "sy.simplify(sum(gNext))"
      ],
      "execution_count": 36,
      "outputs": [
        {
          "output_type": "execute_result",
          "data": {
            "image/png": "[encoded data removed]",
            "text/latex": "$\\displaystyle \\frac{h^{3} \\frac{\\partial^{3}}{\\partial x^{3}} v{\\left(x,t \\right)}}{6} + \\frac{h^{2} k \\frac{\\partial^{3}}{\\partial x^{2}\\partial t} v{\\left(x,t \\right)}}{2} + \\frac{h k^{2} \\frac{\\partial^{3}}{\\partial x\\partial t^{2}} v{\\left(x,t \\right)}}{2} + \\frac{k^{3} \\frac{\\partial^{3}}{\\partial t^{3}} v{\\left(x,t \\right)}}{6}$",
            "text/plain": [
              "     3                    3                      3                   3        \n",
              " 3  ∂              2     ∂                  2   ∂                3  ∂         \n",
              "h ⋅───(v(x, t))   h ⋅k⋅──────(v(x, t))   h⋅k ⋅──────(v(x, t))   k ⋅───(v(x, t)\n",
              "     3                   2                         2                 3        \n",
              "   ∂x                  ∂x  ∂t                 ∂x ∂t                ∂t         \n",
              "─────────────── + ──────────────────── + ──────────────────── + ──────────────\n",
              "       6                   2                      2                    6      \n",
              "\n",
              " \n",
              " \n",
              ")\n",
              " \n",
              " \n",
              "─\n",
              " "
            ]
          },
          "metadata": {},
          "execution_count": 36
        }
      ]
    },
    {
      "cell_type": "code",
      "metadata": {
        "colab": {
          "base_uri": "https://localhost:8080/",
          "height": 92
        },
        "id": "TF8Cs1uNhwo0",
        "outputId": "870175be-3102-4fd6-cca1-d3d54e384f6d"
      },
      "source": [
        "TE += sy.O(h**4) + sy.O(k**4)\n",
        "sy.simplify(TE)"
      ],
      "execution_count": 37,
      "outputs": [
        {
          "output_type": "execute_result",
          "data": {
            "image/png": "[encoded data removed]",
            "text/latex": "$\\displaystyle 1.0 v{\\left(0,0 \\right)} + 1.0 k \\frac{\\partial}{\\partial t} v{\\left(x,t \\right)} + 0.5 k^{2} \\frac{\\partial^{2}}{\\partial t^{2}} v{\\left(x,t \\right)} + 0.166666666666667 k^{3} \\frac{\\partial^{3}}{\\partial t^{3}} v{\\left(x,t \\right)} + 1.0 h \\frac{\\partial}{\\partial x} v{\\left(x,t \\right)} + 1.0 h k \\frac{\\partial^{2}}{\\partial x\\partial t} v{\\left(x,t \\right)} + 0.5 h k^{2} \\frac{\\partial^{3}}{\\partial x\\partial t^{2}} v{\\left(x,t \\right)} + 0.5 h^{2} \\frac{\\partial^{2}}{\\partial x^{2}} v{\\left(x,t \\right)} + 0.5 h^{2} k \\frac{\\partial^{3}}{\\partial x^{2}\\partial t} v{\\left(x,t \\right)} + 0.166666666666667 h^{3} \\frac{\\partial^{3}}{\\partial x^{3}} v{\\left(x,t \\right)} + O\\left(k^{4}\\right) + O\\left(h^{4}\\right)$",
            "text/plain": [
              "                                           2                                  \n",
              "                    ∂                  2  ∂                                3  \n",
              "1.0⋅v(0, 0) + 1.0⋅k⋅──(v(x, t)) + 0.5⋅k ⋅───(v(x, t)) + 0.166666666666667⋅k ⋅─\n",
              "                    ∂t                     2                                  \n",
              "                                         ∂t                                  ∂\n",
              "\n",
              " 3                                           2                         3      \n",
              "∂                   ∂                       ∂                     2   ∂       \n",
              "──(v(x, t)) + 1.0⋅h⋅──(v(x, t)) + 1.0⋅h⋅k⋅─────(v(x, t)) + 0.5⋅h⋅k ⋅──────(v(x\n",
              " 3                  ∂x                    ∂x ∂t                          2    \n",
              "t                                                                   ∂x ∂t     \n",
              "\n",
              "                 2                        3                                   \n",
              "             2  ∂                  2     ∂                                  3 \n",
              ", t)) + 0.5⋅h ⋅───(v(x, t)) + 0.5⋅h ⋅k⋅──────(v(x, t)) + 0.166666666666667⋅h ⋅\n",
              "                 2                       2                                    \n",
              "               ∂x                      ∂x  ∂t                                 \n",
              "\n",
              "  3                         \n",
              " ∂              ⎛ 4⎞    ⎛ 4⎞\n",
              "───(v(x, t)) + O⎝k ⎠ + O⎝h ⎠\n",
              "  3                         \n",
              "∂x                          "
            ]
          },
          "metadata": {},
          "execution_count": 37
        }
      ]
    },
    {
      "cell_type": "code",
      "metadata": {
        "colab": {
          "base_uri": "https://localhost:8080/",
          "height": 124
        },
        "id": "LKRPldRfh24u",
        "outputId": "fa1d17ec-d267-40a0-ff81-cdf534818863"
      },
      "source": [
        "TE.removeO()"
      ],
      "execution_count": 38,
      "outputs": [
        {
          "output_type": "execute_result",
          "data": {
            "image/png": "[encoded data removed]",
            "text/latex": "$\\displaystyle \\frac{h \\left(h \\left(h \\frac{\\partial^{3}}{\\partial x^{3}} v{\\left(x,t \\right)} + k \\frac{\\partial^{3}}{\\partial x^{2}\\partial t} v{\\left(x,t \\right)}\\right) + k \\left(h \\frac{\\partial^{3}}{\\partial x^{2}\\partial t} v{\\left(x,t \\right)} + k \\frac{\\partial^{3}}{\\partial x\\partial t^{2}} v{\\left(x,t \\right)}\\right)\\right)}{6} + h \\left(0.5 h \\frac{\\partial^{2}}{\\partial x^{2}} v{\\left(x,t \\right)} + 0.5 k \\frac{\\partial^{2}}{\\partial x\\partial t} v{\\left(x,t \\right)}\\right) + h \\frac{\\partial}{\\partial x} v{\\left(x,t \\right)} + \\frac{k \\left(h \\left(h \\frac{\\partial^{3}}{\\partial x^{2}\\partial t} v{\\left(x,t \\right)} + k \\frac{\\partial^{3}}{\\partial x\\partial t^{2}} v{\\left(x,t \\right)}\\right) + k \\left(h \\frac{\\partial^{3}}{\\partial x\\partial t^{2}} v{\\left(x,t \\right)} + k \\frac{\\partial^{3}}{\\partial t^{3}} v{\\left(x,t \\right)}\\right)\\right)}{6} + k \\left(0.5 h \\frac{\\partial^{2}}{\\partial x\\partial t} v{\\left(x,t \\right)} + 0.5 k \\frac{\\partial^{2}}{\\partial t^{2}} v{\\left(x,t \\right)}\\right) + k \\frac{\\partial}{\\partial t} v{\\left(x,t \\right)} + v{\\left(0,0 \\right)}$",
            "text/plain": [
              "  ⎛  ⎛    3                 3           ⎞     ⎛     3                   3     \n",
              "  ⎜  ⎜   ∂                 ∂            ⎟     ⎜    ∂                   ∂      \n",
              "h⋅⎜h⋅⎜h⋅───(v(x, t)) + k⋅──────(v(x, t))⎟ + k⋅⎜h⋅──────(v(x, t)) + k⋅──────(v(\n",
              "  ⎜  ⎜    3                2            ⎟     ⎜    2                      2   \n",
              "  ⎝  ⎝  ∂x               ∂x  ∂t         ⎠     ⎝  ∂x  ∂t              ∂x ∂t    \n",
              "──────────────────────────────────────────────────────────────────────────────\n",
              "                                          6                                   \n",
              "                                                                              \n",
              "\n",
              "      ⎞⎞                                                                     ⎛\n",
              "      ⎟⎟                                                                     ⎜\n",
              "x, t))⎟⎟                                                                   k⋅⎜\n",
              "      ⎟⎟     ⎛        2                     2          ⎞                     ⎜\n",
              "      ⎠⎠     ⎜       ∂                     ∂           ⎟     ∂               ⎝\n",
              "──────── + h⋅⎜0.5⋅h⋅───(v(x, t)) + 0.5⋅k⋅─────(v(x, t))⎟ + h⋅──(v(x, t)) + ───\n",
              "             ⎜        2                  ∂x ∂t         ⎟     ∂x               \n",
              "             ⎝      ∂x                                 ⎠                      \n",
              "\n",
              "  ⎛     3                   3           ⎞     ⎛     3                  3      \n",
              "  ⎜    ∂                   ∂            ⎟     ⎜    ∂                  ∂       \n",
              "h⋅⎜h⋅──────(v(x, t)) + k⋅──────(v(x, t))⎟ + k⋅⎜h⋅──────(v(x, t)) + k⋅───(v(x, \n",
              "  ⎜    2                      2         ⎟     ⎜       2                3      \n",
              "  ⎝  ∂x  ∂t              ∂x ∂t          ⎠     ⎝  ∂x ∂t               ∂t       \n",
              "──────────────────────────────────────────────────────────────────────────────\n",
              "                                       6                                      \n",
              "                                                                              \n",
              "\n",
              "   ⎞⎞                                                                         \n",
              "   ⎟⎟                                                                         \n",
              "t))⎟⎟                                                                         \n",
              "   ⎟⎟     ⎛         2                     2         ⎞                         \n",
              "   ⎠⎠     ⎜        ∂                     ∂          ⎟     ∂                   \n",
              "───── + k⋅⎜0.5⋅h⋅─────(v(x, t)) + 0.5⋅k⋅───(v(x, t))⎟ + k⋅──(v(x, t)) + v(0, 0\n",
              "          ⎜      ∂x ∂t                    2         ⎟     ∂t                  \n",
              "          ⎝                             ∂t          ⎠                         \n",
              "\n",
              " \n",
              " \n",
              " \n",
              " \n",
              " \n",
              ")\n",
              " \n",
              " "
            ]
          },
          "metadata": {},
          "execution_count": 38
        }
      ]
    },
    {
      "cell_type": "code",
      "metadata": {
        "id": "jrgF6CKyh4t_"
      },
      "source": [
        "def myTaylorSeries(v, nOrder, X, dX):\n",
        "    TE = 0\n",
        "    v0 = v\n",
        "    for idx, x in enumerate(X):\n",
        "        v0 = v0.subs(x, 0)\n",
        "        TE += sy.O(x**(nOrder+1))\n",
        "    TE += v0\n",
        "    tsOrderGroup = lambda f, X, n: dX.T * Matrix([f.diff(xi,1) for xi in X])\n",
        "    grad = tsOrderGroup(v, X, 1).T\n",
        "    TE += sum(grad)\n",
        "    gNext = grad\n",
        "    for nord in range(2, nOrder+1):\n",
        "        gNext = Matrix([tsOrderGroup(dv, X, nord) for dv in gNext])\n",
        "        TE += sum(gNext)/factorial(nord)\n",
        "    return TE"
      ],
      "execution_count": 40,
      "outputs": []
    },
    {
      "cell_type": "code",
      "metadata": {
        "colab": {
          "base_uri": "https://localhost:8080/",
          "height": 101
        },
        "id": "omr5ZI4ah69a",
        "outputId": "36a8086a-5010-4f0b-a7eb-68f94dbcad25"
      },
      "source": [
        "sy.simplify(myTaylorSeries(v, 4, X, dX))"
      ],
      "execution_count": 41,
      "outputs": [
        {
          "output_type": "execute_result",
          "data": {
            "image/png": "[encoded data removed]",
            "text/latex": "$\\displaystyle v{\\left(0,0 \\right)} + k \\frac{\\partial}{\\partial t} v{\\left(x,t \\right)} + \\frac{k^{2} \\frac{\\partial^{2}}{\\partial t^{2}} v{\\left(x,t \\right)}}{2} + \\frac{k^{3} \\frac{\\partial^{3}}{\\partial t^{3}} v{\\left(x,t \\right)}}{6} + \\frac{k^{4} \\frac{\\partial^{4}}{\\partial t^{4}} v{\\left(x,t \\right)}}{24} + h \\frac{\\partial}{\\partial x} v{\\left(x,t \\right)} + h k \\frac{\\partial^{2}}{\\partial x\\partial t} v{\\left(x,t \\right)} + \\frac{h k^{2} \\frac{\\partial^{3}}{\\partial x\\partial t^{2}} v{\\left(x,t \\right)}}{2} + \\frac{h k^{3} \\frac{\\partial^{4}}{\\partial x\\partial t^{3}} v{\\left(x,t \\right)}}{6} + \\frac{h^{2} \\frac{\\partial^{2}}{\\partial x^{2}} v{\\left(x,t \\right)}}{2} + \\frac{h^{2} k \\frac{\\partial^{3}}{\\partial x^{2}\\partial t} v{\\left(x,t \\right)}}{2} + \\frac{h^{2} k^{2} \\frac{\\partial^{4}}{\\partial x^{2}\\partial t^{2}} v{\\left(x,t \\right)}}{4} + \\frac{h^{3} \\frac{\\partial^{3}}{\\partial x^{3}} v{\\left(x,t \\right)}}{6} + \\frac{h^{3} k \\frac{\\partial^{4}}{\\partial x^{3}\\partial t} v{\\left(x,t \\right)}}{6} + \\frac{h^{4} \\frac{\\partial^{4}}{\\partial x^{4}} v{\\left(x,t \\right)}}{24} + O\\left(x^{5}\\right) + O\\left(t^{5}\\right)$",
            "text/plain": [
              "                               2                 3                 4          \n",
              "                           2  ∂              3  ∂              4  ∂           \n",
              "                          k ⋅───(v(x, t))   k ⋅───(v(x, t))   k ⋅───(v(x, t)) \n",
              "                               2                 3                 4          \n",
              "            ∂                ∂t                ∂t                ∂t           \n",
              "v(0, 0) + k⋅──(v(x, t)) + ─────────────── + ─────────────── + ─────────────── \n",
              "            ∂t                   2                 6                 24       \n",
              "\n",
              "                                               3                      4       \n",
              "                                          2   ∂                  3   ∂        \n",
              "                                       h⋅k ⋅──────(v(x, t))   h⋅k ⋅──────(v(x,\n",
              "                         2                       2                      3     \n",
              "    ∂                   ∂                   ∂x ∂t                  ∂x ∂t      \n",
              "+ h⋅──(v(x, t)) + h⋅k⋅─────(v(x, t)) + ──────────────────── + ────────────────\n",
              "    ∂x                ∂x ∂t                     2                      6      \n",
              "\n",
              "            2                    3                        4                   \n",
              "        2  ∂              2     ∂                2  2    ∂                3  ∂\n",
              " t))   h ⋅───(v(x, t))   h ⋅k⋅──────(v(x, t))   h ⋅k ⋅───────(v(x, t))   h ⋅──\n",
              "            2                   2                       2   2                 \n",
              "          ∂x                  ∂x  ∂t                  ∂x  ∂t                ∂x\n",
              "──── + ─────────────── + ──────────────────── + ────────────────────── + ─────\n",
              "              2                   2                       4                   \n",
              "\n",
              "3                    4                   4                         \n",
              "              3     ∂                4  ∂                          \n",
              "─(v(x, t))   h ⋅k⋅──────(v(x, t))   h ⋅───(v(x, t))                \n",
              "3                   3                    4                         \n",
              "                  ∂x  ∂t               ∂x              ⎛ 5⎞    ⎛ 5⎞\n",
              "────────── + ──────────────────── + ─────────────── + O⎝x ⎠ + O⎝t ⎠\n",
              "  6                   6                    24                      "
            ]
          },
          "metadata": {},
          "execution_count": 41
        }
      ]
    },
    {
      "cell_type": "code",
      "metadata": {
        "id": "l0ECKPPah92W"
      },
      "source": [
        "x, y, z, t, h, l, m, k = sy.symbols('x, y, z, t, h, l, m, k')\n",
        "S = Matrix([x, y, z, t])\n",
        "dS = Matrix([h, l, m, k])\n",
        "f = sy.Function('f')(x, y, z, t)\n",
        "fTS = myTaylorSeries(f, 2, S, dS)"
      ],
      "execution_count": 42,
      "outputs": []
    },
    {
      "cell_type": "code",
      "metadata": {
        "colab": {
          "base_uri": "https://localhost:8080/",
          "height": 151
        },
        "id": "mqqaOyZOh_6i",
        "outputId": "d97606d8-92b6-46bf-a947-89153992ec54"
      },
      "source": [
        "sy.simplify(fTS)"
      ],
      "execution_count": 43,
      "outputs": [
        {
          "output_type": "execute_result",
          "data": {
            "image/png": "[encoded data removed]",
            "text/latex": "$\\displaystyle f{\\left(0,0,0,0 \\right)} + m \\frac{\\partial}{\\partial z} f{\\left(x,y,z,t \\right)} + \\frac{m^{2} \\frac{\\partial^{2}}{\\partial z^{2}} f{\\left(x,y,z,t \\right)}}{2} + l \\frac{\\partial}{\\partial y} f{\\left(x,y,z,t \\right)} + l m \\frac{\\partial^{2}}{\\partial z\\partial y} f{\\left(x,y,z,t \\right)} + \\frac{l^{2} \\frac{\\partial^{2}}{\\partial y^{2}} f{\\left(x,y,z,t \\right)}}{2} + k \\frac{\\partial}{\\partial t} f{\\left(x,y,z,t \\right)} + k m \\frac{\\partial^{2}}{\\partial z\\partial t} f{\\left(x,y,z,t \\right)} + k l \\frac{\\partial^{2}}{\\partial y\\partial t} f{\\left(x,y,z,t \\right)} + \\frac{k^{2} \\frac{\\partial^{2}}{\\partial t^{2}} f{\\left(x,y,z,t \\right)}}{2} + h \\frac{\\partial}{\\partial x} f{\\left(x,y,z,t \\right)} + h m \\frac{\\partial^{2}}{\\partial z\\partial x} f{\\left(x,y,z,t \\right)} + h l \\frac{\\partial^{2}}{\\partial y\\partial x} f{\\left(x,y,z,t \\right)} + h k \\frac{\\partial^{2}}{\\partial x\\partial t} f{\\left(x,y,z,t \\right)} + \\frac{h^{2} \\frac{\\partial^{2}}{\\partial x^{2}} f{\\left(x,y,z,t \\right)}}{2} + O\\left(z^{3}\\right) + O\\left(y^{3}\\right) + O\\left(x^{3}\\right) + O\\left(t^{3}\\right)$",
            "text/plain": [
              "                                           2                                  \n",
              "                                       2  ∂                                   \n",
              "                                      m ⋅───(f(x, y, z, t))                   \n",
              "                                           2                                  \n",
              "                  ∂                      ∂z                     ∂             \n",
              "f(0, 0, 0, 0) + m⋅──(f(x, y, z, t)) + ───────────────────── + l⋅──(f(x, y, z, \n",
              "                  ∂z                            2               ∂y            \n",
              "\n",
              "                                      2                                       \n",
              "                                  2  ∂                                        \n",
              "                                 l ⋅───(f(x, y, z, t))                        \n",
              "             2                        2                                       \n",
              "            ∂                       ∂y                     ∂                  \n",
              "t)) + l⋅m⋅─────(f(x, y, z, t)) + ───────────────────── + k⋅──(f(x, y, z, t)) +\n",
              "          ∂z ∂y                            2               ∂t                 \n",
              "\n",
              "                                                            2                 \n",
              "                                                        2  ∂                  \n",
              "                                                       k ⋅───(f(x, y, z, t))  \n",
              "        2                          2                        2                 \n",
              "       ∂                          ∂                       ∂t                  \n",
              " k⋅m⋅─────(f(x, y, z, t)) + k⋅l⋅─────(f(x, y, z, t)) + ───────────────────── +\n",
              "     ∂z ∂t                      ∂y ∂t                            2            \n",
              "\n",
              "                                                                              \n",
              "                                                                              \n",
              "                                                                              \n",
              "                              2                          2                    \n",
              "   ∂                         ∂                          ∂                     \n",
              " h⋅──(f(x, y, z, t)) + h⋅m⋅─────(f(x, y, z, t)) + h⋅l⋅─────(f(x, y, z, t)) + h\n",
              "   ∂x                      ∂z ∂x                      ∂y ∂x                   \n",
              "\n",
              "                               2                                              \n",
              "                           2  ∂                                               \n",
              "                          h ⋅───(f(x, y, z, t))                               \n",
              "      2                        2                                              \n",
              "     ∂                       ∂x                    ⎛ 3⎞    ⎛ 3⎞    ⎛ 3⎞    ⎛ 3\n",
              "⋅k⋅─────(f(x, y, z, t)) + ───────────────────── + O⎝z ⎠ + O⎝y ⎠ + O⎝x ⎠ + O⎝t \n",
              "   ∂x ∂t                            2                                         \n",
              "\n",
              " \n",
              " \n",
              " \n",
              " \n",
              "⎞\n",
              "⎠\n",
              " "
            ]
          },
          "metadata": {},
          "execution_count": 43
        }
      ]
    },
    {
      "cell_type": "code",
      "metadata": {
        "id": "YCOpb6gtiCCa"
      },
      "source": [
        ""
      ],
      "execution_count": null,
      "outputs": []
    }
  ]
}