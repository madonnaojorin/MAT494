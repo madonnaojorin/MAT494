{
  "nbformat": 4,
  "nbformat_minor": 0,
  "metadata": {
    "colab": {
      "name": "3.3_Unconstrained_Optimization.ipynb",
      "provenance": [],
      "collapsed_sections": [],
      "authorship_tag": "ABX9TyNKyIhTHGlxMtnMBMg2ZwfT",
      "include_colab_link": true
    },
    "kernelspec": {
      "name": "python3",
      "display_name": "Python 3"
    },
    "language_info": {
      "name": "python"
    }
  },
  "cells": [
    {
      "cell_type": "markdown",
      "metadata": {
        "id": "view-in-github",
        "colab_type": "text"
      },
      "source": [
        "<a href=\"https://colab.research.google.com/github/madonnaojorin/MAT494/blob/main/3.3_Unconstrained_Optimization.ipynb\" target=\"_parent\"><img src=\"https://colab.research.google.com/assets/colab-badge.svg\" alt=\"Open In Colab\"/></a>"
      ]
    },
    {
      "cell_type": "markdown",
      "metadata": {
        "id": "2BqwoE5n_Ao9"
      },
      "source": [
        "##3.3.1 Necessary and Suﬀicent Conditions of Local Minimizers"
      ]
    },
    {
      "cell_type": "markdown",
      "metadata": {
        "id": "OlsJqGdpNXs0"
      },
      "source": [
        "####Definition 3.3.1 (Global minimizer):\n",
        "Let $f : \\mathbb{R}^d\\to\\mathbb{R}$. The point $\\textbf{x}^*\\in\\mathbb{ R}^d$\n",
        "is a global minimizer of $f$ over $\\mathbb{R}^d$ if\n",
        "$$f(\\textbf{x}) \\geq f(\\textbf{x}^*), \\forall \\textbf{x} \\in \\mathbb{ R}^d.$$\n"
      ]
    },
    {
      "cell_type": "markdown",
      "metadata": {
        "id": "9QgtMcqaNaad"
      },
      "source": [
        "####Definition 3.3.2 (Local minimizer):\n",
        "Let $f : \\mathbb{R}^d\\to\\mathbb{R}$. The point $\\textbf{x}^*\\in\\mathbb{ R}^d$\n",
        "is a global minimizer of $f$ over $\\mathbb{R}^d$ if there is $\\delta >0$ such that \n",
        "$$f(\\textbf{x})\\geq f(\\textbf{x}^*), \\forall \\textbf{x}\\in B_\\delta(\\textbf{x}^*)\\backslash \\{\\textbf{x}^*\\}.$$\n",
        "If the inequality is strict, we say that $\\textbf{x}^*$ is a strict local minimizer."
      ]
    },
    {
      "cell_type": "code",
      "metadata": {
        "colab": {
          "base_uri": "https://localhost:8080/"
        },
        "id": "kWM_q4UjRlIV",
        "outputId": "28eefb37-9ac6-4a82-859e-5f37915e2644"
      },
      "source": [
        "from scipy import optimize\n",
        "import numpy as np\n",
        "\n",
        "def f(x):\n",
        "  return -np.exp(-(x - 0.7)**2)\n",
        "result = optimize.minimize_scalar(f)\n",
        "result.success # check if solver was successful\n",
        "x_min = result.x\n",
        "print(x_min)"
      ],
      "execution_count": 2,
      "outputs": [
        {
          "output_type": "stream",
          "name": "stdout",
          "text": [
            "0.6999999997839409\n"
          ]
        }
      ]
    },
    {
      "cell_type": "code",
      "metadata": {
        "id": "DKhZTB28Rgjs"
      },
      "source": [
        "def f(x):   # The rosenbrock function\n",
        " return .5*(1 - x[0])**2 + (x[1] - x[0]**2)**2\n",
        " optimize.minimize(f, [2, -1], method=\"CG\")   "
      ],
      "execution_count": 3,
      "outputs": []
    },
    {
      "cell_type": "code",
      "metadata": {
        "colab": {
          "base_uri": "https://localhost:8080/"
        },
        "id": "0rlJJLnTU9hc",
        "outputId": "d3c861ad-d37b-4123-ab4f-cb612fe3189d"
      },
      "source": [
        "def jacobian(x):\n",
        "  return np.array((-2*.5*(1 - x[0]) - 4*x[0]*(x[1] - x[0]**2), 2*(x[1] - x[0]**2)))\n",
        "optimize.minimize(f, [2, 1], method=\"CG\", jac=jacobian) "
      ],
      "execution_count": 4,
      "outputs": [
        {
          "output_type": "execute_result",
          "data": {
            "text/plain": [
              "     fun: 2.95786590125255e-14\n",
              "     jac: array([ 7.18259503e-07, -2.99030307e-07])\n",
              " message: 'Optimization terminated successfully.'\n",
              "    nfev: 16\n",
              "     nit: 8\n",
              "    njev: 16\n",
              "  status: 0\n",
              " success: True\n",
              "       x: array([1.00000012, 1.00000009])"
            ]
          },
          "metadata": {},
          "execution_count": 4
        }
      ]
    },
    {
      "cell_type": "markdown",
      "metadata": {
        "id": "v6S4wwULNxn0"
      },
      "source": [
        "####Definition 3.3.3 (Descent Direction):\n",
        "Let $f : \\mathbb{R}^d\\to\\mathbb{R}$. A vector \\textbf{v} is a descent direction for $f$ at $\\textbf{x}_0$ if there is $\\alpha^*>0$ such that\n",
        "$$f(\\textbf{x}_0+\\alpha \\textbf{v})<f(\\textbf{x}_0), \\forall \\alpha\\in (0,\\alpha^*).$$\n",
        "\n"
      ]
    },
    {
      "cell_type": "markdown",
      "metadata": {
        "id": "548ZfpG_N9K0"
      },
      "source": [
        "####Lemma 3.3.4 (Descent Direction and Directional Derivative): \n",
        "Let $f : \\mathbb{R}^d\\to\\mathbb{R}$ be continuously differentiable at $\\textbf{x}_0$. A vector $\\textbf{v}$ is a descent direction for $f$ at\n",
        "$\\textbf{x}_0$ if \n",
        "$$\\frac{\\partial f(\\textbf{x}_0)}{\\partial \\textbf{v}}=\\nabla f(\\textbf{x}_0)^T\\textbf{v}<0$$\n",
        "that is, if the directional derivative of $f$ at $\\textbf{x}_0$ in the direction $\\textbf{v}$ is negative.\n",
        "\n",
        "\n"
      ]
    },
    {
      "cell_type": "markdown",
      "metadata": {
        "id": "3A5vet1dOPHD"
      },
      "source": [
        "####Lemma 3.3.5 (Existence of a Descent Direction):\n",
        "Let Let Let $f : \\mathbb{R}^d\\to\\mathbb{R}$ be continuously differentiable at $\\textbf{x}_0$ and assume that $\\nabla f(\\textbf{x}_0) \\neq 0$. Then $f$ has a descent direction at $\\textbf{x}_0$.\n",
        "\n"
      ]
    },
    {
      "cell_type": "code",
      "metadata": {
        "id": "yVLFBxz8VXDC"
      },
      "source": [
        "cur_x = 3 # The algorithm starts at x=3\n",
        "rate = 0.01 # Learning rate\n",
        "precision = 0.000001 #This tells us when to stop the algorithm\n",
        "previous_step_size = 1 #\n",
        "max_iters = 10000 # maximum number of iterations\n",
        "iters = 0 #iteration counter\n",
        "df = lambda x: 2*(x+5) #Gradient of our function"
      ],
      "execution_count": 5,
      "outputs": []
    },
    {
      "cell_type": "code",
      "metadata": {
        "colab": {
          "base_uri": "https://localhost:8080/"
        },
        "id": "ygLSV5ENVas1",
        "outputId": "142f6929-b51a-44cb-c0e9-24b4b064ca66"
      },
      "source": [
        "while previous_step_size > precision and iters < max_iters:\n",
        "    prev_x = cur_x #Store current x value in prev_x\n",
        "    cur_x = cur_x - rate * df(prev_x) #Grad descent\n",
        "    previous_step_size = abs(cur_x - prev_x) #Change in x\n",
        "    iters = iters+1 #iteration count\n",
        "    #print(\"Iteration\",iters,\"\\nX value is\",cur_x) #Print iterations\n",
        "    \n",
        "print(\"The local minimum occurs at\", cur_x)"
      ],
      "execution_count": 16,
      "outputs": [
        {
          "output_type": "stream",
          "name": "stdout",
          "text": [
            "The local minimum occurs at -4.9999518490318176\n"
          ]
        }
      ]
    },
    {
      "cell_type": "markdown",
      "metadata": {
        "id": "O8CYV7NtOXI2"
      },
      "source": [
        "####Theorem 3.3.6 (First-Order Necessary Condition):\n",
        "Let $f : \\mathbb{R}^d\\to\\mathbb{R}$ be continuously differentiable on $\\mathbb{R}^d$. If $\\textbf{x}_0$ is a local minimizer, then $\\nabla f(\\textbf{x}_0) = 0$.\n",
        "\n"
      ]
    },
    {
      "cell_type": "markdown",
      "metadata": {
        "id": "THxn3EJwOcAM"
      },
      "source": [
        "####Definition 3.3.7 \n",
        "A square symmetric $d \\times d$ matrix $H$ is positive semi-definite\n",
        "(PSD) if $\\textbf{x}^TH\\textbf{x}\\geq 0$ for any $\\textbf{x} \\in \\mathbb{R}^d$."
      ]
    },
    {
      "cell_type": "markdown",
      "metadata": {
        "id": "qp14H5W2Oqwr"
      },
      "source": [
        "####Theorem 3.3.8 (Second-Order Necessary Condition):\n",
        "Let  $f : \\mathbb{R}^d\\to\\mathbb{R}$ be continuously differentiable on $\\mathbb{R}^d$. If $\\textbf{x}_0$ is a local minimizer, then $H_f(\\textbf{x}_0)$ is PSD.\n"
      ]
    },
    {
      "cell_type": "markdown",
      "metadata": {
        "id": "_V2GchO8_Ewn"
      },
      "source": [
        "###3.3.1.1 Suﬀicient conditions for Local Minimizers"
      ]
    },
    {
      "cell_type": "markdown",
      "metadata": {
        "id": "kHngT7HFO0-e"
      },
      "source": [
        "####Theorem 3.3.10 (Second-Order Sufficient Condition):\n",
        " $f : \\mathbb{R}^d\\to\\mathbb{R}$ be twice\n",
        "continuously differentiable on $\\mathbb{R}^d$. If $\\nabla f(\\textbf{x}_0) = 0$ and $H_f(\\textbf{x}_0)$ is positive definite, then $\\textbf{x}_0$ is a strict local minimizer."
      ]
    },
    {
      "cell_type": "markdown",
      "metadata": {
        "id": "JEwysmcC_G_t"
      },
      "source": [
        "##3.3.2 Convexity and Global Minimizers\n",
        "###3.3.2.1 Convex Sets and functions"
      ]
    },
    {
      "cell_type": "code",
      "metadata": {
        "colab": {
          "base_uri": "https://localhost:8080/",
          "height": 316
        },
        "id": "u_4A_slMWTaX",
        "outputId": "6e6c762d-53fa-4e0f-81e6-5a9c96492369"
      },
      "source": [
        "import numpy as np\n",
        "import scipy.optimize as opt\n",
        "objective = np.poly1d([1.0, -2.0, 0.0]) \n",
        "print(objective)\n",
        "x0 = 3.0\n",
        "results = opt.minimize(objective,x0) \n",
        "print(\"Solution: x=%f\" % results.x)\n",
        "import matplotlib.pylab as plt\n",
        "x = np.linspace(-3,5,100) \n",
        "plt.plot(x,objective(x)) \n",
        "plt.plot(results.x,objective(results.x),'ro') \n",
        "plt.show()"
      ],
      "execution_count": 8,
      "outputs": [
        {
          "output_type": "stream",
          "name": "stdout",
          "text": [
            "   2\n",
            "1 x - 2 x\n",
            "Solution: x=1.000000\n"
          ]
        },
        {
          "output_type": "display_data",
          "data": {
            "image/png": "[encoded data removed]",
            "text/plain": [
              "<Figure size 432x288 with 1 Axes>"
            ]
          },
          "metadata": {
            "needs_background": "light"
          }
        }
      ]
    },
    {
      "cell_type": "code",
      "metadata": {
        "colab": {
          "base_uri": "https://localhost:8080/",
          "height": 368
        },
        "id": "1C9NKcv5WdNj",
        "outputId": "936b7a6c-42fd-48c7-9f01-31ae89763b33"
      },
      "source": [
        "def objective(x,coeffs):\n",
        "  return coeffs[0]*x**2 + coeffs[1]*x + coeffs[2]\n",
        "x0 = 3.0\n",
        "mycoeffs = [1.0,-2.0,0.0]\n",
        "myoptions={'disp':True}\n",
        "results = opt.minimize(objective,x0,args=mycoeffs,\n",
        "options = myoptions) \n",
        "print(\"Solution: x=%f\" % results.x)\n",
        "x = np.linspace(-3,5,100) \n",
        "plt.plot(x,objective(x,mycoeffs)) \n",
        "plt.plot(results.x,objective(results.x,mycoeffs),'ro') \n",
        "plt.show()"
      ],
      "execution_count": 11,
      "outputs": [
        {
          "output_type": "stream",
          "name": "stdout",
          "text": [
            "Optimization terminated successfully.\n",
            "         Current function value: -1.000000\n",
            "         Iterations: 2\n",
            "         Function evaluations: 9\n",
            "         Gradient evaluations: 3\n",
            "Solution: x=1.000000\n"
          ]
        },
        {
          "output_type": "display_data",
          "data": {
            "image/png": "[encoded data removed]",
            "text/plain": [
              "<Figure size 432x288 with 1 Axes>"
            ]
          },
          "metadata": {
            "needs_background": "light"
          }
        }
      ]
    },
    {
      "cell_type": "markdown",
      "metadata": {
        "id": "SgMNgj9pO_gY"
      },
      "source": [
        "####Definition 3.3.11 (Convex Set):\n",
        "A set $D \\subseteq\\mathbb{ R}^d$ is convex if for all $\\textbf{x},\\textbf{y}\\in D$ and\n",
        "all $\\alpha \\in [0,1]$\n",
        "$$(1-\\alpha)\\textbf{x}+\\alpha\\textbf{y}\\in D.$$"
      ]
    },
    {
      "cell_type": "markdown",
      "metadata": {
        "id": "2ejJCveQPJ9O"
      },
      "source": [
        "####Definition 3.3.13 (Convex Function):\n",
        "A function  $f : \\mathbb{R}^d\\to\\mathbb{R}$  is convex if, for\n",
        "all $\\textbf{x},\\textbf{y} \\in \\mathbb{R}^d$ and all $\\alpha \\in [0,1]$\n",
        "$$f((1−\\alpha)\\textbf{x}+\\alpha\\textbf{y}) \\leq (1−\\alpha)f(\\textbf{x}) +\\alpha f(\\textbf{y}).$$"
      ]
    },
    {
      "cell_type": "markdown",
      "metadata": {
        "id": "6CvWfax1PUzO"
      },
      "source": [
        "\n",
        "####Lemma 3.3.14 (Affine Functions are Convex):\n",
        "Let $\\textbf{w} \\in\\mathbb{ R}^d$ and $b \\in\\mathbb{R}$. The function $f(\\textbf{x}) = \\textbf{w}^T \\textbf{x}+b$ is convex."
      ]
    },
    {
      "cell_type": "markdown",
      "metadata": {
        "id": "CE9QHtuwPc59"
      },
      "source": [
        "####Lemma 3.3.15 (First-Order Convexity Condition): \n",
        "Let $f : \\mathbb{R}^d\\to\\mathbb{R}$ be continuously differentiable. Then $f$ is convex if and only if for all $\\textbf{x},\\textbf{y}\\in\\mathbb{ R}^d$\n",
        "$$f(\\textbf{y}) \\geq f(\\textbf{x}) +\\nabla f(\\textbf{x})^T(\\textbf{y}−\\textbf{x}).$$"
      ]
    },
    {
      "cell_type": "markdown",
      "metadata": {
        "id": "7QazOmWWPpLm"
      },
      "source": [
        "####Lemma 3.3.16 (Second-Order Convexity Condition):\n",
        "Let  $f : \\mathbb{R}^d\\to\\mathbb{R}$ be twice continuously differentiable. Then $f$ is convex if and only if, for all $\\textbf{x} \\in\\mathbb{ R}^d$, $\\textbf{H}_f(\\textbf{x})$ is PSD."
      ]
    },
    {
      "cell_type": "markdown",
      "metadata": {
        "id": "Zb1zWv2gP5YT"
      },
      "source": [
        "###3.3.2.2 Global Minimizers of Convex Functions"
      ]
    },
    {
      "cell_type": "markdown",
      "metadata": {
        "id": "_xncGwDFP62K"
      },
      "source": [
        "####Theorem 3.3.18 \n",
        "Let  $f : \\mathbb{R}^d\\to\\mathbb{R}$ be a continuously differentiable, convex function. If $\\nabla f(\\textbf{x}_0) = 0$ then $\\textbf{x}_0$ is a global minimizer.\n"
      ]
    },
    {
      "cell_type": "markdown",
      "metadata": {
        "id": "PvLxJaEjQBa_"
      },
      "source": [
        "\n",
        "####Theorem 3.3.19 (Global Minimizers of Convex Functions):\n",
        "Let  $f : \\mathbb{R}^d\\to\\mathbb{R}$ be a convex function. Then any local minimizer of $f$ is also a global minimizer."
      ]
    },
    {
      "cell_type": "code",
      "metadata": {
        "colab": {
          "base_uri": "https://localhost:8080/"
        },
        "id": "4kr4ZMA-Xl6E",
        "outputId": "192a6b8d-fb10-4393-cb65-65886b9e30b8"
      },
      "source": [
        "def f(x):   # The rosenbrock function\n",
        "  return .5*(1 - x[0])**2 + (x[1] - x[0]**2)**2\n",
        "optimize.brute(f, ((-1, 2), (-1, 2))) "
      ],
      "execution_count": 15,
      "outputs": [
        {
          "output_type": "execute_result",
          "data": {
            "text/plain": [
              "array([1.00001462, 1.00001547])"
            ]
          },
          "metadata": {},
          "execution_count": 15
        }
      ]
    },
    {
      "cell_type": "markdown",
      "metadata": {
        "id": "TiR6lAII_OCP"
      },
      "source": [
        "##3.3.3 Gradient Descent"
      ]
    },
    {
      "cell_type": "markdown",
      "metadata": {
        "id": "JIP-8E72_QlX"
      },
      "source": [
        "###3.3.3.1 Steepest Descent"
      ]
    },
    {
      "cell_type": "markdown",
      "metadata": {
        "id": "mp3hiKdoQEG9"
      },
      "source": [
        "####Lemma 3.3.22 (Steepest Descent):\n",
        "Let $f : \\mathbb{R}^d\\to\\mathbb{R}$ be continuously differentiable at $\\textbf{x}_0$. For any unit vector $\\textbf{v}\\in\\mathbb{R}^d$,\n",
        "$$\\frac{\\partial f(\\textbf{x}_0)}{\\partial \\textbf{v}}\\geq\\frac{\\partial f(\\textbf{x}_0)}{\\partial\\textbf{v}^*}$$\n",
        "\n"
      ]
    },
    {
      "cell_type": "markdown",
      "metadata": {
        "id": "KDCq2xUWQWno"
      },
      "source": [
        "####Theorem 3.3.23 \n",
        "Suppose that  $f : \\mathbb{R}^d\\to\\mathbb{R}$ is twice continuously differentiable. The step size is chosen to minimize\n",
        "$$\\alpha_k = \\arg \\min_{\\alpha >0}f(\\textbf{x}^k −\\alpha\\nabla f(\\textbf{x}^k\n",
        "))$$\n",
        "Then steepest descent started from any $\\textbf{x}^0$ produces a sequence $\\textbf{x}^k$, $k = 1,2,\\cdots$ such that if $\\nabla f(\\textbf{x}^k)\\neq 0$, then\n",
        "$$f(\\textbf{x}^{k+1}) \\leq f(\\textbf{x}^k), \\forall k \\geq 1$$"
      ]
    },
    {
      "cell_type": "code",
      "metadata": {
        "colab": {
          "base_uri": "https://localhost:8080/"
        },
        "id": "TljdHuBIXADb",
        "outputId": "db5b458b-71a3-4347-970d-59481bed1272"
      },
      "source": [
        "def f(x):   # The rosenbrock function\n",
        " return .5*(1 - x[0])**2 + (x[1] - x[0]**2)**2\n",
        "optimize.minimize(f, [2, -1], method=\"CG\") "
      ],
      "execution_count": 14,
      "outputs": [
        {
          "output_type": "execute_result",
          "data": {
            "text/plain": [
              "     fun: 1.650917861123459e-11\n",
              "     jac: array([-6.15448419e-06,  2.53833953e-07])\n",
              " message: 'Optimization terminated successfully.'\n",
              "    nfev: 108\n",
              "     nit: 13\n",
              "    njev: 27\n",
              "  status: 0\n",
              " success: True\n",
              "       x: array([0.99999426, 0.99998863])"
            ]
          },
          "metadata": {},
          "execution_count": 14
        }
      ]
    }
  ]
}