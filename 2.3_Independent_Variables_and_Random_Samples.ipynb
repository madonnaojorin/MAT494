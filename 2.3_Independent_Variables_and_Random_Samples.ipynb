{
  "nbformat": 4,
  "nbformat_minor": 0,
  "metadata": {
    "colab": {
      "name": "2.3_Independent_Variables_and_Random_Samples.ipynb",
      "provenance": [],
      "collapsed_sections": [],
      "authorship_tag": "ABX9TyMWekjBrLFYM22Sob4Y1d7E",
      "include_colab_link": true
    },
    "kernelspec": {
      "name": "python3",
      "display_name": "Python 3"
    },
    "language_info": {
      "name": "python"
    }
  },
  "cells": [
    {
      "cell_type": "markdown",
      "metadata": {
        "id": "view-in-github",
        "colab_type": "text"
      },
      "source": [
        "<a href=\"https://colab.research.google.com/github/madonnaojorin/MAT494/blob/main/2.3_Independent_Variables_and_Random_Samples.ipynb\" target=\"_parent\"><img src=\"https://colab.research.google.com/assets/colab-badge.svg\" alt=\"Open In Colab\"/></a>"
      ]
    },
    {
      "cell_type": "markdown",
      "metadata": {
        "id": "xodbfMUS97Fx"
      },
      "source": [
        "##2.3.1 Joint Probability Distributions"
      ]
    },
    {
      "cell_type": "markdown",
      "metadata": {
        "id": "KsAiJJR59-TO"
      },
      "source": [
        "###2.3.1.1 Two Discrete Random Variables"
      ]
    },
    {
      "cell_type": "markdown",
      "metadata": {
        "id": "3Kruwle3NTsF"
      },
      "source": [
        "####Definition 2.3.2 \n",
        "The marginal probability mass function of $X$, denoted by $p_X (x)$, is given by\n",
        "$$p_X (x) = \\sum_{y:p(x,y)>0}p(x, y)\\hspace{5mm} \\text{  for each possible value } x$$\n",
        "Similarly, the marginal probability mass function of $Y$ is\n",
        "$$p_Y (y) = \\sum_{x:p(x,y)>0}p(x,y) \\hspace{5mm} \\text{  for each possible value } y.$$"
      ]
    },
    {
      "cell_type": "code",
      "metadata": {
        "id": "AhMaZUisacu4"
      },
      "source": [
        "pip install prob140"
      ],
      "execution_count": null,
      "outputs": []
    },
    {
      "cell_type": "code",
      "metadata": {
        "id": "-PhC6-qEW6nI"
      },
      "source": [
        "from datascience import *\n",
        "from prob140 import *\n",
        "%matplotlib inline\n",
        "import matplotlib.pyplot as plt\n",
        "import numpy as np\n",
        "plt.style.use('fivethirtyeight')"
      ],
      "execution_count": null,
      "outputs": []
    },
    {
      "cell_type": "code",
      "metadata": {
        "id": "odlJFoFAXmKj"
      },
      "source": [
        "dist = Table().domain(make_array(2, 3), np.arange(1, 6, 2))\n",
        "dist = dist.probability([0.1, 0.1, 0.2, 0.3, 0.1, 0.2])\n",
        "dist.toJoint()\n",
        "dist.toJoint(reverse=False)"
      ],
      "execution_count": null,
      "outputs": []
    },
    {
      "cell_type": "markdown",
      "metadata": {
        "id": "Cjs1i0_0-Auz"
      },
      "source": [
        "###2.3.1.2 Two Continuous Random Variables"
      ]
    },
    {
      "cell_type": "markdown",
      "metadata": {
        "id": "b3fPVanNOATp"
      },
      "source": [
        "####Definition 2.3.3 \n",
        "Let $X$ and $Y$ be continuous random variable’s . A joint probability density function $f(x, y)$ for these two variables is a function satisfying\n",
        "$f(x, y) \\geq 0$ and $\\int_{-\\infty}^\\infty \\int_{-\\infty}^\\infty f(x,y)dxdy=1$.\n",
        " Then for any two-dimensional set $A$\n",
        "$$P[(X,Y) \\in A] = \\int\\int_Af(x,y)dxdy$$\n",
        "In particular, if A is the two-dimensional rectangle $\\{(x, y): a \\leq x \\leq b, c \\leq y \\leq d\\}$\n",
        "then\n",
        "$$P[(X,Y) \\in A] = P(a \\leq X \\leq b, c \\leq Y \\leq d) = \\int_a^b\\int_c^df(x,y)dydx$$"
      ]
    },
    {
      "cell_type": "code",
      "metadata": {
        "colab": {
          "base_uri": "https://localhost:8080/",
          "height": 175
        },
        "id": "mX8Zo7i3bvSF",
        "outputId": "3cc5d7fc-da65-462f-8d79-52096f68fd8c"
      },
      "source": [
        "heads_table = Table().domain(\"H1\",[0.2,0.9],\"H2\",[2,1,0]).probability(make_array(.75*.04, .75*.32,.75*.64,.25*.81,.25*.18,.25*.01))\n",
        "heads_table"
      ],
      "execution_count": 8,
      "outputs": [
        {
          "output_type": "stream",
          "name": "stderr",
          "text": [
            "/usr/local/lib/python3.7/dist-packages/prob140/single_variable.py:350: UserWarning: .probability() is deprecated - please use .probabilities()\n",
            "  warnings.warn('.probability() is deprecated - please use .probabilities()')\n"
          ]
        },
        {
          "output_type": "execute_result",
          "data": {
            "text/html": [
              "<div>\n",
              "<style scoped>\n",
              "    .dataframe tbody tr th:only-of-type {\n",
              "        vertical-align: middle;\n",
              "    }\n",
              "\n",
              "    .dataframe tbody tr th {\n",
              "        vertical-align: top;\n",
              "    }\n",
              "\n",
              "    .dataframe thead th {\n",
              "        text-align: right;\n",
              "    }\n",
              "</style>\n",
              "<table border=\"1\" class=\"dataframe\">\n",
              "  <thead>\n",
              "    <tr style=\"text-align: right;\">\n",
              "      <th></th>\n",
              "      <th>H1=0.2</th>\n",
              "      <th>H1=0.9</th>\n",
              "    </tr>\n",
              "  </thead>\n",
              "  <tbody>\n",
              "    <tr>\n",
              "      <th>H2=2</th>\n",
              "      <td>0.03</td>\n",
              "      <td>0.2025</td>\n",
              "    </tr>\n",
              "    <tr>\n",
              "      <th>H2=1</th>\n",
              "      <td>0.24</td>\n",
              "      <td>0.0450</td>\n",
              "    </tr>\n",
              "    <tr>\n",
              "      <th>H2=0</th>\n",
              "      <td>0.48</td>\n",
              "      <td>0.0025</td>\n",
              "    </tr>\n",
              "  </tbody>\n",
              "</table>\n",
              "</div>"
            ],
            "text/plain": [
              "      H1=0.2  H1=0.9\n",
              "H2=2    0.03  0.2025\n",
              "H2=1    0.24  0.0450\n",
              "H2=0    0.48  0.0025"
            ]
          },
          "metadata": {},
          "execution_count": 8
        }
      ]
    },
    {
      "cell_type": "code",
      "metadata": {
        "colab": {
          "base_uri": "https://localhost:8080/",
          "height": 144
        },
        "id": "SRopSTZNb0bV",
        "outputId": "7b428562-7744-4a1e-9b1c-15593133d7e3"
      },
      "source": [
        "coins_table = Table().domain(\"Coin1\",['H','T'],\"Coin2\", ['H','T']).probability(np.array([0.24, 0.36, 0.16, 0.24]))\n",
        "coins_table"
      ],
      "execution_count": 14,
      "outputs": [
        {
          "output_type": "stream",
          "name": "stderr",
          "text": [
            "/usr/local/lib/python3.7/dist-packages/prob140/single_variable.py:350: UserWarning: .probability() is deprecated - please use .probabilities()\n",
            "  warnings.warn('.probability() is deprecated - please use .probabilities()')\n"
          ]
        },
        {
          "output_type": "execute_result",
          "data": {
            "text/html": [
              "<div>\n",
              "<style scoped>\n",
              "    .dataframe tbody tr th:only-of-type {\n",
              "        vertical-align: middle;\n",
              "    }\n",
              "\n",
              "    .dataframe tbody tr th {\n",
              "        vertical-align: top;\n",
              "    }\n",
              "\n",
              "    .dataframe thead th {\n",
              "        text-align: right;\n",
              "    }\n",
              "</style>\n",
              "<table border=\"1\" class=\"dataframe\">\n",
              "  <thead>\n",
              "    <tr style=\"text-align: right;\">\n",
              "      <th></th>\n",
              "      <th>Coin1=H</th>\n",
              "      <th>Coin1=T</th>\n",
              "    </tr>\n",
              "  </thead>\n",
              "  <tbody>\n",
              "    <tr>\n",
              "      <th>Coin2=T</th>\n",
              "      <td>0.36</td>\n",
              "      <td>0.24</td>\n",
              "    </tr>\n",
              "    <tr>\n",
              "      <th>Coin2=H</th>\n",
              "      <td>0.24</td>\n",
              "      <td>0.16</td>\n",
              "    </tr>\n",
              "  </tbody>\n",
              "</table>\n",
              "</div>"
            ],
            "text/plain": [
              "         Coin1=H  Coin1=T\n",
              "Coin2=T     0.36     0.24\n",
              "Coin2=H     0.24     0.16"
            ]
          },
          "metadata": {},
          "execution_count": 14
        }
      ]
    },
    {
      "cell_type": "code",
      "metadata": {
        "id": "Kp8gHxObcIIP"
      },
      "source": [
        "def joint_func(dice1, dice2):\n",
        "  return (dice1 + dice2)/252"
      ],
      "execution_count": 16,
      "outputs": []
    },
    {
      "cell_type": "code",
      "metadata": {
        "colab": {
          "base_uri": "https://localhost:8080/",
          "height": 234
        },
        "id": "hOz47JYScHs_",
        "outputId": "1c4a188d-7f9d-4a79-c00c-8ad99d83ce63"
      },
      "source": [
        "dice = Table().domain(\"D1\", np.arange(1,7),\"D2\", np.arange(1,7)).probability_function(joint_func)\n",
        "dice"
      ],
      "execution_count": 17,
      "outputs": [
        {
          "output_type": "execute_result",
          "data": {
            "text/html": [
              "<div>\n",
              "<style scoped>\n",
              "    .dataframe tbody tr th:only-of-type {\n",
              "        vertical-align: middle;\n",
              "    }\n",
              "\n",
              "    .dataframe tbody tr th {\n",
              "        vertical-align: top;\n",
              "    }\n",
              "\n",
              "    .dataframe thead th {\n",
              "        text-align: right;\n",
              "    }\n",
              "</style>\n",
              "<table border=\"1\" class=\"dataframe\">\n",
              "  <thead>\n",
              "    <tr style=\"text-align: right;\">\n",
              "      <th></th>\n",
              "      <th>D1=1</th>\n",
              "      <th>D1=2</th>\n",
              "      <th>D1=3</th>\n",
              "      <th>D1=4</th>\n",
              "      <th>D1=5</th>\n",
              "      <th>D1=6</th>\n",
              "    </tr>\n",
              "  </thead>\n",
              "  <tbody>\n",
              "    <tr>\n",
              "      <th>D2=6</th>\n",
              "      <td>0.027778</td>\n",
              "      <td>0.031746</td>\n",
              "      <td>0.035714</td>\n",
              "      <td>0.039683</td>\n",
              "      <td>0.043651</td>\n",
              "      <td>0.047619</td>\n",
              "    </tr>\n",
              "    <tr>\n",
              "      <th>D2=5</th>\n",
              "      <td>0.023810</td>\n",
              "      <td>0.027778</td>\n",
              "      <td>0.031746</td>\n",
              "      <td>0.035714</td>\n",
              "      <td>0.039683</td>\n",
              "      <td>0.043651</td>\n",
              "    </tr>\n",
              "    <tr>\n",
              "      <th>D2=4</th>\n",
              "      <td>0.019841</td>\n",
              "      <td>0.023810</td>\n",
              "      <td>0.027778</td>\n",
              "      <td>0.031746</td>\n",
              "      <td>0.035714</td>\n",
              "      <td>0.039683</td>\n",
              "    </tr>\n",
              "    <tr>\n",
              "      <th>D2=3</th>\n",
              "      <td>0.015873</td>\n",
              "      <td>0.019841</td>\n",
              "      <td>0.023810</td>\n",
              "      <td>0.027778</td>\n",
              "      <td>0.031746</td>\n",
              "      <td>0.035714</td>\n",
              "    </tr>\n",
              "    <tr>\n",
              "      <th>D2=2</th>\n",
              "      <td>0.011905</td>\n",
              "      <td>0.015873</td>\n",
              "      <td>0.019841</td>\n",
              "      <td>0.023810</td>\n",
              "      <td>0.027778</td>\n",
              "      <td>0.031746</td>\n",
              "    </tr>\n",
              "    <tr>\n",
              "      <th>D2=1</th>\n",
              "      <td>0.007937</td>\n",
              "      <td>0.011905</td>\n",
              "      <td>0.015873</td>\n",
              "      <td>0.019841</td>\n",
              "      <td>0.023810</td>\n",
              "      <td>0.027778</td>\n",
              "    </tr>\n",
              "  </tbody>\n",
              "</table>\n",
              "</div>"
            ],
            "text/plain": [
              "          D1=1      D1=2      D1=3      D1=4      D1=5      D1=6\n",
              "D2=6  0.027778  0.031746  0.035714  0.039683  0.043651  0.047619\n",
              "D2=5  0.023810  0.027778  0.031746  0.035714  0.039683  0.043651\n",
              "D2=4  0.019841  0.023810  0.027778  0.031746  0.035714  0.039683\n",
              "D2=3  0.015873  0.019841  0.023810  0.027778  0.031746  0.035714\n",
              "D2=2  0.011905  0.015873  0.019841  0.023810  0.027778  0.031746\n",
              "D2=1  0.007937  0.011905  0.015873  0.019841  0.023810  0.027778"
            ]
          },
          "metadata": {},
          "execution_count": 17
        }
      ]
    },
    {
      "cell_type": "markdown",
      "metadata": {
        "id": "1GgAY5xgPHJW"
      },
      "source": [
        "####Definition 2.3.4\n",
        "The marginal probability density functions of $X$ and $Y$, denoted by $f_X (x)$ and $f_Y (y)$, respectively, are given by\n",
        "$$f_X (x) = \\int_{-\\infty}^\\infty  f(x,y)dy \\hspace{5mm} \\text{for } -\\infty<x<\\infty$$\n",
        "$$f_Y (x) = \\int_{-\\infty}^\\infty  f(x,y)dx \\hspace{5mm} \\text{for } -\\infty<y<\\infty$$"
      ]
    },
    {
      "cell_type": "code",
      "metadata": {
        "colab": {
          "base_uri": "https://localhost:8080/",
          "height": 172
        },
        "id": "0rAw547GcXOq",
        "outputId": "abbdd013-919b-4b21-9129-b4b3d2c6bef6"
      },
      "source": [
        "heads_table.marginal(\"H1\")"
      ],
      "execution_count": 20,
      "outputs": [
        {
          "output_type": "execute_result",
          "data": {
            "text/html": [
              "<div>\n",
              "<style scoped>\n",
              "    .dataframe tbody tr th:only-of-type {\n",
              "        vertical-align: middle;\n",
              "    }\n",
              "\n",
              "    .dataframe tbody tr th {\n",
              "        vertical-align: top;\n",
              "    }\n",
              "\n",
              "    .dataframe thead th {\n",
              "        text-align: right;\n",
              "    }\n",
              "</style>\n",
              "<table border=\"1\" class=\"dataframe\">\n",
              "  <thead>\n",
              "    <tr style=\"text-align: right;\">\n",
              "      <th></th>\n",
              "      <th>H1=0.2</th>\n",
              "      <th>H1=0.9</th>\n",
              "    </tr>\n",
              "  </thead>\n",
              "  <tbody>\n",
              "    <tr>\n",
              "      <th>H2=2</th>\n",
              "      <td>0.03</td>\n",
              "      <td>0.2025</td>\n",
              "    </tr>\n",
              "    <tr>\n",
              "      <th>H2=1</th>\n",
              "      <td>0.24</td>\n",
              "      <td>0.0450</td>\n",
              "    </tr>\n",
              "    <tr>\n",
              "      <th>H2=0</th>\n",
              "      <td>0.48</td>\n",
              "      <td>0.0025</td>\n",
              "    </tr>\n",
              "    <tr>\n",
              "      <th>Sum: Marginal of H1</th>\n",
              "      <td>0.75</td>\n",
              "      <td>0.2500</td>\n",
              "    </tr>\n",
              "  </tbody>\n",
              "</table>\n",
              "</div>"
            ],
            "text/plain": [
              "                     H1=0.2  H1=0.9\n",
              "H2=2                   0.03  0.2025\n",
              "H2=1                   0.24  0.0450\n",
              "H2=0                   0.48  0.0025\n",
              "Sum: Marginal of H1    0.75  0.2500"
            ]
          },
          "metadata": {},
          "execution_count": 20
        }
      ]
    },
    {
      "cell_type": "code",
      "metadata": {
        "colab": {
          "base_uri": "https://localhost:8080/",
          "height": 141
        },
        "id": "jWcCCsuacsvN",
        "outputId": "c08a342c-ff2c-4d7a-850b-f661871aca8c"
      },
      "source": [
        "heads_table.marginal(\"H2\")"
      ],
      "execution_count": 21,
      "outputs": [
        {
          "output_type": "execute_result",
          "data": {
            "text/html": [
              "<div>\n",
              "<style scoped>\n",
              "    .dataframe tbody tr th:only-of-type {\n",
              "        vertical-align: middle;\n",
              "    }\n",
              "\n",
              "    .dataframe tbody tr th {\n",
              "        vertical-align: top;\n",
              "    }\n",
              "\n",
              "    .dataframe thead th {\n",
              "        text-align: right;\n",
              "    }\n",
              "</style>\n",
              "<table border=\"1\" class=\"dataframe\">\n",
              "  <thead>\n",
              "    <tr style=\"text-align: right;\">\n",
              "      <th></th>\n",
              "      <th>H1=0.2</th>\n",
              "      <th>H1=0.9</th>\n",
              "      <th>Sum: Marginal of H2</th>\n",
              "    </tr>\n",
              "  </thead>\n",
              "  <tbody>\n",
              "    <tr>\n",
              "      <th>H2=2</th>\n",
              "      <td>0.03</td>\n",
              "      <td>0.2025</td>\n",
              "      <td>0.2325</td>\n",
              "    </tr>\n",
              "    <tr>\n",
              "      <th>H2=1</th>\n",
              "      <td>0.24</td>\n",
              "      <td>0.0450</td>\n",
              "      <td>0.2850</td>\n",
              "    </tr>\n",
              "    <tr>\n",
              "      <th>H2=0</th>\n",
              "      <td>0.48</td>\n",
              "      <td>0.0025</td>\n",
              "      <td>0.4825</td>\n",
              "    </tr>\n",
              "  </tbody>\n",
              "</table>\n",
              "</div>"
            ],
            "text/plain": [
              "      H1=0.2  H1=0.9  Sum: Marginal of H2\n",
              "H2=2    0.03  0.2025               0.2325\n",
              "H2=1    0.24  0.0450               0.2850\n",
              "H2=0    0.48  0.0025               0.4825"
            ]
          },
          "metadata": {},
          "execution_count": 21
        }
      ]
    },
    {
      "cell_type": "code",
      "metadata": {
        "colab": {
          "base_uri": "https://localhost:8080/",
          "height": 141
        },
        "id": "c4aMMtQ5cuks",
        "outputId": "97dbe404-aba5-4c1b-d184-ac5892600aa0"
      },
      "source": [
        "coins_table.marginal(\"Coin1\")"
      ],
      "execution_count": 22,
      "outputs": [
        {
          "output_type": "execute_result",
          "data": {
            "text/html": [
              "<div>\n",
              "<style scoped>\n",
              "    .dataframe tbody tr th:only-of-type {\n",
              "        vertical-align: middle;\n",
              "    }\n",
              "\n",
              "    .dataframe tbody tr th {\n",
              "        vertical-align: top;\n",
              "    }\n",
              "\n",
              "    .dataframe thead th {\n",
              "        text-align: right;\n",
              "    }\n",
              "</style>\n",
              "<table border=\"1\" class=\"dataframe\">\n",
              "  <thead>\n",
              "    <tr style=\"text-align: right;\">\n",
              "      <th></th>\n",
              "      <th>Coin1=H</th>\n",
              "      <th>Coin1=T</th>\n",
              "    </tr>\n",
              "  </thead>\n",
              "  <tbody>\n",
              "    <tr>\n",
              "      <th>Coin2=T</th>\n",
              "      <td>0.36</td>\n",
              "      <td>0.24</td>\n",
              "    </tr>\n",
              "    <tr>\n",
              "      <th>Coin2=H</th>\n",
              "      <td>0.24</td>\n",
              "      <td>0.16</td>\n",
              "    </tr>\n",
              "    <tr>\n",
              "      <th>Sum: Marginal of Coin1</th>\n",
              "      <td>0.60</td>\n",
              "      <td>0.40</td>\n",
              "    </tr>\n",
              "  </tbody>\n",
              "</table>\n",
              "</div>"
            ],
            "text/plain": [
              "                        Coin1=H  Coin1=T\n",
              "Coin2=T                    0.36     0.24\n",
              "Coin2=H                    0.24     0.16\n",
              "Sum: Marginal of Coin1     0.60     0.40"
            ]
          },
          "metadata": {},
          "execution_count": 22
        }
      ]
    },
    {
      "cell_type": "code",
      "metadata": {
        "colab": {
          "base_uri": "https://localhost:8080/",
          "height": 172
        },
        "id": "FeEg9bqVcx36",
        "outputId": "37b49fda-0ae0-4aac-c8d3-1f9bde49c7af"
      },
      "source": [
        "heads_table.both_marginals()"
      ],
      "execution_count": 23,
      "outputs": [
        {
          "output_type": "execute_result",
          "data": {
            "text/html": [
              "<div>\n",
              "<style scoped>\n",
              "    .dataframe tbody tr th:only-of-type {\n",
              "        vertical-align: middle;\n",
              "    }\n",
              "\n",
              "    .dataframe tbody tr th {\n",
              "        vertical-align: top;\n",
              "    }\n",
              "\n",
              "    .dataframe thead th {\n",
              "        text-align: right;\n",
              "    }\n",
              "</style>\n",
              "<table border=\"1\" class=\"dataframe\">\n",
              "  <thead>\n",
              "    <tr style=\"text-align: right;\">\n",
              "      <th></th>\n",
              "      <th>H1=0.2</th>\n",
              "      <th>H1=0.9</th>\n",
              "      <th>Sum: Marginal of H2</th>\n",
              "    </tr>\n",
              "  </thead>\n",
              "  <tbody>\n",
              "    <tr>\n",
              "      <th>H2=2</th>\n",
              "      <td>0.03</td>\n",
              "      <td>0.2025</td>\n",
              "      <td>0.2325</td>\n",
              "    </tr>\n",
              "    <tr>\n",
              "      <th>H2=1</th>\n",
              "      <td>0.24</td>\n",
              "      <td>0.0450</td>\n",
              "      <td>0.2850</td>\n",
              "    </tr>\n",
              "    <tr>\n",
              "      <th>H2=0</th>\n",
              "      <td>0.48</td>\n",
              "      <td>0.0025</td>\n",
              "      <td>0.4825</td>\n",
              "    </tr>\n",
              "    <tr>\n",
              "      <th>Sum: Marginal of H1</th>\n",
              "      <td>0.75</td>\n",
              "      <td>0.2500</td>\n",
              "      <td>1.0000</td>\n",
              "    </tr>\n",
              "  </tbody>\n",
              "</table>\n",
              "</div>"
            ],
            "text/plain": [
              "                     H1=0.2  H1=0.9  Sum: Marginal of H2\n",
              "H2=2                   0.03  0.2025               0.2325\n",
              "H2=1                   0.24  0.0450               0.2850\n",
              "H2=0                   0.48  0.0025               0.4825\n",
              "Sum: Marginal of H1    0.75  0.2500               1.0000"
            ]
          },
          "metadata": {},
          "execution_count": 23
        }
      ]
    },
    {
      "cell_type": "code",
      "metadata": {
        "colab": {
          "base_uri": "https://localhost:8080/",
          "height": 141
        },
        "id": "PXN7Ark2c1Bp",
        "outputId": "11ca41f3-00f5-4ea5-e153-4b9fd27cacc6"
      },
      "source": [
        "coins_table.both_marginals()"
      ],
      "execution_count": 24,
      "outputs": [
        {
          "output_type": "execute_result",
          "data": {
            "text/html": [
              "<div>\n",
              "<style scoped>\n",
              "    .dataframe tbody tr th:only-of-type {\n",
              "        vertical-align: middle;\n",
              "    }\n",
              "\n",
              "    .dataframe tbody tr th {\n",
              "        vertical-align: top;\n",
              "    }\n",
              "\n",
              "    .dataframe thead th {\n",
              "        text-align: right;\n",
              "    }\n",
              "</style>\n",
              "<table border=\"1\" class=\"dataframe\">\n",
              "  <thead>\n",
              "    <tr style=\"text-align: right;\">\n",
              "      <th></th>\n",
              "      <th>Coin1=H</th>\n",
              "      <th>Coin1=T</th>\n",
              "      <th>Sum: Marginal of Coin2</th>\n",
              "    </tr>\n",
              "  </thead>\n",
              "  <tbody>\n",
              "    <tr>\n",
              "      <th>Coin2=T</th>\n",
              "      <td>0.36</td>\n",
              "      <td>0.24</td>\n",
              "      <td>0.6</td>\n",
              "    </tr>\n",
              "    <tr>\n",
              "      <th>Coin2=H</th>\n",
              "      <td>0.24</td>\n",
              "      <td>0.16</td>\n",
              "      <td>0.4</td>\n",
              "    </tr>\n",
              "    <tr>\n",
              "      <th>Sum: Marginal of Coin1</th>\n",
              "      <td>0.60</td>\n",
              "      <td>0.40</td>\n",
              "      <td>1.0</td>\n",
              "    </tr>\n",
              "  </tbody>\n",
              "</table>\n",
              "</div>"
            ],
            "text/plain": [
              "                        Coin1=H  Coin1=T  Sum: Marginal of Coin2\n",
              "Coin2=T                    0.36     0.24                     0.6\n",
              "Coin2=H                    0.24     0.16                     0.4\n",
              "Sum: Marginal of Coin1     0.60     0.40                     1.0"
            ]
          },
          "metadata": {},
          "execution_count": 24
        }
      ]
    },
    {
      "cell_type": "code",
      "metadata": {
        "colab": {
          "base_uri": "https://localhost:8080/",
          "height": 110
        },
        "id": "TP94tjEwc4JV",
        "outputId": "5721301c-3259-47c2-915c-50695a9d7d54"
      },
      "source": [
        "heads_table.marginal_dist(\"H1\")"
      ],
      "execution_count": 25,
      "outputs": [
        {
          "output_type": "execute_result",
          "data": {
            "text/html": [
              "<table border=\"1\" class=\"dataframe\">\n",
              "    <thead>\n",
              "        <tr>\n",
              "            <th>Value</th> <th>Probability</th>\n",
              "        </tr>\n",
              "    </thead>\n",
              "    <tbody>\n",
              "        <tr>\n",
              "            <td>0.2  </td> <td>0.75       </td>\n",
              "        </tr>\n",
              "        <tr>\n",
              "            <td>0.9  </td> <td>0.25       </td>\n",
              "        </tr>\n",
              "    </tbody>\n",
              "</table>"
            ],
            "text/plain": [
              "Value | Probability\n",
              "0.2   | 0.75\n",
              "0.9   | 0.25"
            ]
          },
          "metadata": {},
          "execution_count": 25
        }
      ]
    },
    {
      "cell_type": "code",
      "metadata": {
        "colab": {
          "base_uri": "https://localhost:8080/",
          "height": 279
        },
        "id": "Z3Lk2Hu1c6rq",
        "outputId": "9a5e5cee-da10-4c64-d823-b5e8207e339e"
      },
      "source": [
        "Plot(heads_table.marginal_dist(\"H1\"), width=0.1)"
      ],
      "execution_count": 26,
      "outputs": [
        {
          "output_type": "display_data",
          "data": {
            "image/png": "[encoded data removed]",
            "text/plain": [
              "<Figure size 432x288 with 1 Axes>"
            ]
          },
          "metadata": {
            "needs_background": "light"
          }
        }
      ]
    },
    {
      "cell_type": "code",
      "metadata": {
        "colab": {
          "base_uri": "https://localhost:8080/",
          "height": 141
        },
        "id": "FHAOKEaOc-Gy",
        "outputId": "5d52f189-d51d-4585-c987-b1913214f594"
      },
      "source": [
        "heads_table.marginal_dist(\"H2\")"
      ],
      "execution_count": 27,
      "outputs": [
        {
          "output_type": "execute_result",
          "data": {
            "text/html": [
              "<table border=\"1\" class=\"dataframe\">\n",
              "    <thead>\n",
              "        <tr>\n",
              "            <th>Value</th> <th>Probability</th>\n",
              "        </tr>\n",
              "    </thead>\n",
              "    <tbody>\n",
              "        <tr>\n",
              "            <td>0    </td> <td>0.4825     </td>\n",
              "        </tr>\n",
              "        <tr>\n",
              "            <td>1    </td> <td>0.285      </td>\n",
              "        </tr>\n",
              "        <tr>\n",
              "            <td>2    </td> <td>0.2325     </td>\n",
              "        </tr>\n",
              "    </tbody>\n",
              "</table>"
            ],
            "text/plain": [
              "Value | Probability\n",
              "0     | 0.4825\n",
              "1     | 0.285\n",
              "2     | 0.2325"
            ]
          },
          "metadata": {},
          "execution_count": 27
        }
      ]
    },
    {
      "cell_type": "code",
      "metadata": {
        "colab": {
          "base_uri": "https://localhost:8080/",
          "height": 110
        },
        "id": "iAIR9nwTdA-3",
        "outputId": "b95734ae-d02c-41ee-d03b-ac237c2797b1"
      },
      "source": [
        "coins_table.marginal_dist(\"Coin1\")"
      ],
      "execution_count": 28,
      "outputs": [
        {
          "output_type": "execute_result",
          "data": {
            "text/html": [
              "<table border=\"1\" class=\"dataframe\">\n",
              "    <thead>\n",
              "        <tr>\n",
              "            <th>Value</th> <th>Probability</th>\n",
              "        </tr>\n",
              "    </thead>\n",
              "    <tbody>\n",
              "        <tr>\n",
              "            <td>H    </td> <td>0.6        </td>\n",
              "        </tr>\n",
              "        <tr>\n",
              "            <td>T    </td> <td>0.4        </td>\n",
              "        </tr>\n",
              "    </tbody>\n",
              "</table>"
            ],
            "text/plain": [
              "Value | Probability\n",
              "H     | 0.6\n",
              "T     | 0.4"
            ]
          },
          "metadata": {},
          "execution_count": 28
        }
      ]
    },
    {
      "cell_type": "markdown",
      "metadata": {
        "id": "j6WiMm75-B95"
      },
      "source": [
        "###2.3.1.3 Independent Random Variables"
      ]
    },
    {
      "cell_type": "markdown",
      "metadata": {
        "id": "62-Nqm7TPs4S"
      },
      "source": [
        "####Definition 2.3.5 \n",
        "Two random variables $X$ and $Y$ are said to be independent if for every pair of $x$ and $y$ values\n",
        "$$p(x, y) = p_X (x)\\cdot p_Y (y) \\hspace{5mm} \\text{when } X \\text{ and } Y \\text{ are discrete }$$\n",
        "or\n",
        "$$f(x, y) = f_X (x)\\cdot f_Y (y)\\hspace{5mm} \\text{when } X \\text{ and } Y \\text{ are  continuous}$$"
      ]
    },
    {
      "cell_type": "markdown",
      "metadata": {
        "id": "Q1GCJ-7aQOli"
      },
      "source": [
        "####Definition 2.3.6 \n",
        "If $X_1,X_2,\\cdots,X_n$ are all discrete random variables, the joint\n",
        "pmf of the variables is the function\n",
        "$$p(x_1, x_2,\\cdots, x_n) = P(X_1 = x_1,X_2 = x_2,\\cdots,X_n = x_n)$$\n",
        "If the variables are continuous, the joint pdf of $X_1,\\cdots,X_n$ is the function $f (x_1, x_2,\\cdots, x_n)$ such that for any $n$ intervals $[a_1,b_1],\\cdots,[a_n,b_n]$,\n",
        "$$P(a_1 \\leq X_1 \\leq b_1,\\cdots,a_n \\leq X_n \\leq b_n) =\\int_{a_1}^{b_1}\\cdots\\int_{a_n}^{b_n}f (x_1,\\cdots, x_n)dx_n \\cdots dx_1$$\n",
        "\n",
        "####Definition 2.3.7 \n",
        "The random variables $X_1,X_2,\\cdots,X_n$ are said to be independent if for every- subset $X_{i_1},X_{i_2},\\cdots,X_{i_k}$ of the variables (each pair, each triple, and so on), the joint pmf or pdf of the subset is equal to the product of the marginal pmf’s or pdf’s."
      ]
    },
    {
      "cell_type": "code",
      "metadata": {
        "colab": {
          "base_uri": "https://localhost:8080/"
        },
        "id": "36H3olq5dX8Y",
        "outputId": "e0b93ed0-bd08-40a2-bd6a-7e14a58742c6"
      },
      "source": [
        "import random\n",
        "random_generator = random.Random()\n",
        "random_generator.random()"
      ],
      "execution_count": 29,
      "outputs": [
        {
          "output_type": "execute_result",
          "data": {
            "text/plain": [
              "0.32049511926326124"
            ]
          },
          "metadata": {},
          "execution_count": 29
        }
      ]
    },
    {
      "cell_type": "code",
      "metadata": {
        "id": "kzourgbZdcV3"
      },
      "source": [
        "import numpy as np\n",
        "prng1 = np.random.RandomState()\n",
        "prng2 = np.random.RandomState()\n",
        "prng1.seed(1)\n",
        "prng2.seed(1)\n"
      ],
      "execution_count": 30,
      "outputs": []
    },
    {
      "cell_type": "markdown",
      "metadata": {
        "id": "kf6X0YYY-FtJ"
      },
      "source": [
        "##2.3.2 Correlation and dependence\n",
        "###2.3.2.1 Correlation For Random Variables"
      ]
    },
    {
      "cell_type": "code",
      "metadata": {
        "colab": {
          "base_uri": "https://localhost:8080/",
          "height": 295
        },
        "id": "OYKWL5MWdmMU",
        "outputId": "395cee5f-d9f6-4ae2-b15a-ddf1f06812b2"
      },
      "source": [
        "# generate related variables\n",
        "from numpy import mean\n",
        "from numpy import std\n",
        "from numpy.random import randn\n",
        "from numpy.random import seed\n",
        "from matplotlib import pyplot\n",
        "# seed random number generator\n",
        "seed(1)\n",
        "# prepare data\n",
        "data1 = 20 * randn(1000) + 100\n",
        "data2 = data1 + (10 * randn(1000) + 50)\n",
        "# summarize\n",
        "print('data1: mean=%.3f stdv=%.3f' % (mean(data1), std(data1)))\n",
        "print('data2: mean=%.3f stdv=%.3f' % (mean(data2), std(data2)))\n",
        "# plot\n",
        "pyplot.scatter(data1, data2)\n",
        "pyplot.show()"
      ],
      "execution_count": 31,
      "outputs": [
        {
          "output_type": "stream",
          "name": "stdout",
          "text": [
            "data1: mean=100.776 stdv=19.620\n",
            "data2: mean=151.050 stdv=22.358\n"
          ]
        },
        {
          "output_type": "display_data",
          "data": {
            "image/png": "[encoded data removed]",
            "text/plain": [
              "<Figure size 432x288 with 1 Axes>"
            ]
          },
          "metadata": {
            "needs_background": "light"
          }
        }
      ]
    },
    {
      "cell_type": "markdown",
      "metadata": {
        "id": "rSbz-sO-RaRG"
      },
      "source": [
        "####Definition 2.3.8 \n",
        "Let $X$ and $Y$ be jointly distributed random variable’s with\n",
        "pmf $p(x, y)$ or pdf $f(x, y)$ according to whether the variables are discrete or\n",
        "continuous. The covariance between two random variable’s $X$ and $Y$ is \n",
        "$$Cov(X,Y) = E [(X − \\mu_X ) (Y − \\mu_Y )]\n",
        "=\\begin{cases}\n",
        "\\sum_X\\sum_Y(x- \\mu_X ) (y− \\mu_Y ) p(x, y) \\hspace{5mm}  X,Y \\text{discrete }\\\\\n",
        "\\int_{-\\infty}^\\infty\\int_{-\\infty}^\\infty(x− \\mu_X ) (y− \\mu_Y ) f(x, y)dxdy \\hspace{5mm}  X,Y \\text{continuous}\\end{cases}$$\n"
      ]
    },
    {
      "cell_type": "code",
      "metadata": {
        "colab": {
          "base_uri": "https://localhost:8080/"
        },
        "id": "8ZzXHDPQdwsG",
        "outputId": "da8e15f6-77a4-4627-b810-8289ef9296ce"
      },
      "source": [
        "from numpy import cov\n",
        "covariance = cov(data1, data2)\n",
        "print(covariance)"
      ],
      "execution_count": 36,
      "outputs": [
        {
          "output_type": "stream",
          "name": "stdout",
          "text": [
            "[[385.33297729 389.7545618 ]\n",
            " [389.7545618  500.38006058]]\n"
          ]
        }
      ]
    },
    {
      "cell_type": "markdown",
      "metadata": {
        "id": "G8NxDzHoSNAT"
      },
      "source": [
        "####Definition 2.3.9 \n",
        "The correlation coefficient of $X$ and $Y$, denoted by $Corr(X,Y),\\rho_{X,Y}$,\n",
        "or just $\\rho$, is defined by\n",
        "$$\\rho_{X,Y} = \\frac{Cov(X,Y)}{\\sigma_X \\cdot\\sigma_Y}$$\n",
        "\n",
        "####Proposition 2.3.10 \n",
        "Correlation coefficients have the following properties:\n",
        "1. If $X$ and $Y$ are independent, then $\\rho = 0$, but $\\rho = 0$ does not imply independence.\n",
        "2. $|\\rho| \\leq 1, \\rho = 1$ or $-1$ iff $Y = aX +b$ for some numbers $a$ and $b$ with $a \\neq 0$."
      ]
    },
    {
      "cell_type": "code",
      "metadata": {
        "colab": {
          "base_uri": "https://localhost:8080/"
        },
        "id": "PMlOzLiQePFd",
        "outputId": "543c8c29-efa3-4850-9d0f-962d3cb5aa74"
      },
      "source": [
        "# calculate the Pearson's correlation between two variables\n",
        "from numpy.random import randn\n",
        "from numpy.random import seed\n",
        "from scipy.stats import pearsonr\n",
        "# seed random number generator\n",
        "seed(1)\n",
        "# prepare data\n",
        "data1 = 20 * randn(1000) + 100\n",
        "data2 = data1 + (10 * randn(1000) + 50)\n",
        "# calculate Pearson's correlation\n",
        "corr, _ = pearsonr(data1, data2)\n",
        "print('Pearsons correlation: %.3f' % corr)"
      ],
      "execution_count": 37,
      "outputs": [
        {
          "output_type": "stream",
          "name": "stdout",
          "text": [
            "Pearsons correlation: 0.888\n"
          ]
        }
      ]
    },
    {
      "cell_type": "code",
      "metadata": {
        "colab": {
          "base_uri": "https://localhost:8080/"
        },
        "id": "Sa4TIwh0eT0M",
        "outputId": "ed79a01a-bca5-4389-cab1-d95c93f50da7"
      },
      "source": [
        "# calculate the spearmans's correlation between two variables\n",
        "from numpy.random import randn\n",
        "from numpy.random import seed\n",
        "from scipy.stats import spearmanr\n",
        "# seed random number generator\n",
        "seed(1)\n",
        "# prepare data\n",
        "data1 = 20 * randn(1000) + 100\n",
        "data2 = data1 + (10 * randn(1000) + 50)\n",
        "# calculate spearman's correlation\n",
        "corr, _ = spearmanr(data1, data2)\n",
        "print('Spearmans correlation: %.3f' % corr)"
      ],
      "execution_count": 38,
      "outputs": [
        {
          "output_type": "stream",
          "name": "stdout",
          "text": [
            "Spearmans correlation: 0.872\n"
          ]
        }
      ]
    },
    {
      "cell_type": "markdown",
      "metadata": {
        "id": "M5GLf_wC-JVL"
      },
      "source": [
        "###2.3.2.2 Correlation For samples"
      ]
    },
    {
      "cell_type": "markdown",
      "metadata": {
        "id": "lAeRRjXgS-7f"
      },
      "source": [
        "####Proposition 2.3.11 \n",
        "The correlation coefficient for samples has the following properties:\\\\\n",
        "• $r_{xy} =\\frac{s_{xy}}{s_xs_y}$ where the sample covariance\n",
        "$$s_{xy} =\\frac{1}{n−1}\\sum_{i=1}^n(x_i −\\bar{x})(y_i −\\bar{y})$$\n",
        "and the sample standard deviation\n",
        "$$s_x = \\sqrt{\\frac{1}{n-1}\\sum_{i=1}^n(x_i −\\bar{x})^2}$$\n",
        "• If $y = ax+b$, then $r_{xy} = 1$ or $−1$ if a is positive or negative.\\\\\n",
        "The proof of the second part comes from the observation: $_{s(ax)y} = as_{xy} and s_{(x+a)y} = s_{xy}$ because $\\bar{ax} = a\\bar{x}$; if $y = x+a, s_x = s_y$; and if $y = ax, s_y = |a|s_x$; and s_{xx} = s_x^2. If $y = ax+b$, then $r_{xy} = 1$ or $−1$ if a is positive or negative.\n"
      ]
    },
    {
      "cell_type": "markdown",
      "metadata": {
        "id": "u-wyIYqU-MlI"
      },
      "source": [
        "##2.3.3 Random Samples\n",
        "###2.3.3.1 Random Samples"
      ]
    },
    {
      "cell_type": "markdown",
      "metadata": {
        "id": "mXZTYNPQUVVN"
      },
      "source": [
        "####Definition 2.3.12 \n",
        "The random variable’s $X_1,X_2,\\cdots,X_n$ are said to form a (simple) random sample of size $n$ if\n",
        "1. The $X_i$’s are independent random variable’s.\n",
        "2. Every $X_i$ has the same probability distribution."
      ]
    },
    {
      "cell_type": "markdown",
      "metadata": {
        "id": "NFo5n6dEUil1"
      },
      "source": [
        "####Proposition 2.3.13 \n",
        "Let $X_1,X_2,\\cdots,X_n$ be a random sample from a distribution with mean value $\\mu$ and standard deviation $\\sigma$. Then\n",
        "1. $E(\\bar{X}) = \\mu_\\bar{X}= \\mu$\n",
        "2. $V(\\bar{X}) = \\sigma_\\bar{X}^2=\\sigma^2/n \\text{ and } \\sigma_\\bar{X}=\\sigma/\\sqrt{n}$\n",
        "In addition, with $T_o = X_1 +\\cdots +X_n$ ( the sample total ), $E (T_o) = n\\mu, V (T_o) = n\\sigma^2$, and $\\sigma_{T_o} =\\sqrt{n}\\sigma$."
      ]
    },
    {
      "cell_type": "code",
      "metadata": {
        "colab": {
          "base_uri": "https://localhost:8080/"
        },
        "id": "yFnWME0BejTI",
        "outputId": "9ae2ecf2-f839-4289-ce71-c29203b99c50"
      },
      "source": [
        "# import random \n",
        "from random import sample\n",
        "  \n",
        "# Prints list of random items of given length\n",
        "list1 = [1, 2, 3, 4, 5] \n",
        "  \n",
        "print(sample(list1,3))"
      ],
      "execution_count": 39,
      "outputs": [
        {
          "output_type": "stream",
          "name": "stdout",
          "text": [
            "[2, 4, 3]\n"
          ]
        }
      ]
    },
    {
      "cell_type": "code",
      "metadata": {
        "colab": {
          "base_uri": "https://localhost:8080/"
        },
        "id": "tT_Nf-eCepK2",
        "outputId": "58565921-8a97-4150-afd4-fbbf1ea92bcb"
      },
      "source": [
        "# import random \n",
        "import random\n",
        "  \n",
        "  \n",
        "# Prints list of random items of\n",
        "# length 3 from the given list.\n",
        "list1 = [1, 2, 3, 4, 5, 6] \n",
        "print(\"With list:\", random.sample(list1, 3))\n",
        "  \n",
        "# Prints list of random items of\n",
        "# length 4 from the given string. \n",
        "string = \"GeeksforGeeks\"\n",
        "print(\"With string:\", random.sample(string, 4))\n",
        "  \n",
        "# Prints list of random items of\n",
        "# length 4 from the given tuple.\n",
        "tuple1 = (\"ankit\", \"geeks\", \"computer\", \"science\",\n",
        "                   \"portal\", \"scientist\", \"btech\")\n",
        "print(\"With tuple:\", random.sample(tuple1, 4))\n",
        "  \n",
        "  \n",
        "# Prints list of random items of\n",
        "# length 3 from the given set.\n",
        "set1 = {\"a\", \"b\", \"c\", \"d\", \"e\"}\n",
        "print(\"With set:\", random.sample(set1, 3))"
      ],
      "execution_count": 40,
      "outputs": [
        {
          "output_type": "stream",
          "name": "stdout",
          "text": [
            "With list: [3, 2, 4]\n",
            "With string: ['e', 's', 's', 'k']\n",
            "With tuple: ['geeks', 'scientist', 'btech', 'computer']\n",
            "With set: ['d', 'a', 'b']\n"
          ]
        }
      ]
    },
    {
      "cell_type": "markdown",
      "metadata": {
        "id": "lUmQQeAw-Qcd"
      },
      "source": [
        "###2.3.3.2 The Central Limit Theorem"
      ]
    },
    {
      "cell_type": "markdown",
      "metadata": {
        "id": "gFxt-y-7VlBT"
      },
      "source": [
        "####Theorem 2.3.14 (The Central Limit Theorem (CLT)) \n",
        "Let $X_1,X_2,\\cdots,X_n$ be a random sample from a distribution with mean $\\mu$ and variance $\\sigma^2$. Then if $n$ is sufficiently large, $\\bar{X}$ has approximately a normal distribution with $\\mu_\\bar{X} = \\mu$ and $\\sigma_\\bar{X}^2=\\sigma^2/n$, and $T_o$ also has approximately a normal distribution with\n",
        "$\\mu_{T_o} = n\\mu, \\sigma_{T_o}^2=n\\sigma^2$. The larger the value of $n$, the better the approximation.\n"
      ]
    },
    {
      "cell_type": "code",
      "metadata": {
        "colab": {
          "base_uri": "https://localhost:8080/",
          "height": 496
        },
        "id": "rfJx1ZCpe5rR",
        "outputId": "6f4098ca-e1e5-41aa-d298-6aeeb4b8e9d4"
      },
      "source": [
        "import numpy\n",
        "import matplotlib.pyplot as plt\n",
        " \n",
        "# number of sample\n",
        "num = [1, 10, 50, 100] \n",
        "# list of sample means\n",
        "means = [] \n",
        " \n",
        "# Generating 1, 10, 30, 100 random numbers from -40 to 40\n",
        "# taking their mean and appending it to list means.\n",
        "for j in num:\n",
        "    # Generating seed so that we can get same result\n",
        "    # every time the loop is run...\n",
        "    numpy.random.seed(1)\n",
        "    x = [numpy.mean(\n",
        "        numpy.random.randint(\n",
        "            -40, 40, j)) for _i in range(1000)]\n",
        "    means.append(x)\n",
        "k = 0\n",
        " \n",
        "# plotting all the means in one figure\n",
        "fig, ax = plt.subplots(2, 2, figsize =(8, 8))\n",
        "for i in range(0, 2):\n",
        "    for j in range(0, 2):\n",
        "        # Histogram for each x stored in means\n",
        "        ax[i, j].hist(means[k], 10, density = True)\n",
        "        ax[i, j].set_title(label = num[k])\n",
        "        k = k + 1"
      ],
      "execution_count": 43,
      "outputs": [
        {
          "output_type": "display_data",
          "data": {
            "image/png": "[encoded data removed]",
            "text/plain": [
              "<Figure size 576x576 with 4 Axes>"
            ]
          },
          "metadata": {
            "needs_background": "light"
          }
        }
      ]
    }
  ]
}