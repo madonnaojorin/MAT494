{
  "nbformat": 4,
  "nbformat_minor": 0,
  "metadata": {
    "colab": {
      "name": "1.3_Linear_Regression.ipynb",
      "provenance": [],
      "authorship_tag": "ABX9TyPwxJI7NB0SsHmim/zW2MIa",
      "include_colab_link": true
    },
    "kernelspec": {
      "name": "python3",
      "display_name": "Python 3"
    },
    "language_info": {
      "name": "python"
    }
  },
  "cells": [
    {
      "cell_type": "markdown",
      "metadata": {
        "id": "view-in-github",
        "colab_type": "text"
      },
      "source": [
        "<a href=\"https://colab.research.google.com/github/madonnaojorin/MAT494/blob/main/1.3_Linear_Regression.ipynb\" target=\"_parent\"><img src=\"https://colab.research.google.com/assets/colab-badge.svg\" alt=\"Open In Colab\"/></a>"
      ]
    },
    {
      "cell_type": "markdown",
      "metadata": {
        "id": "uxyCaSoHQzQJ"
      },
      "source": [
        "##1.3.1 QR Decomposition"
      ]
    },
    {
      "cell_type": "markdown",
      "metadata": {
        "id": "k8D7EUL_RmMf"
      },
      "source": [
        "####Theorem 1.3.1 (Gram-Schmidt) <br>\n",
        "Let $\\textbf{a}_1,\\cdots,\\textbf{a}_m$ in $\\mathbb{R}^n$ be linearly independent.\n",
        "Then there exist an orthonormal basis $\\textbf{q}_1,\\cdots,\\textbf{q}_m$ of $\\text{span}(\\textbf{a}_1,\\cdots,\\textbf{a}_m)$."
      ]
    },
    {
      "cell_type": "markdown",
      "metadata": {
        "id": "HRcpNSiJ_qBg"
      },
      "source": [
        "For a square matrix $A$ the QR Decomposition converts $A$ into the product of an orthogonal matrix $Q$ (i.e. $Q^TQ=I$)\n",
        " and an upper triangular matrix $R$. Hence:\n",
        " $$A=QR$$\n",
        "\n",
        "where column $i$ of the $m\\times m$ matrix $R$ contains the coefficients of the linear combination of $\\textbf{q}_j$’s that produces $\\textbf{a}_i$. $Q$ is a $\\mathbb{R}^{n\\times m}$ matrix with $Q^TQ = I_{m\\times m}$.\n",
        "By the proof of Gram-Schmidt, $\\textbf{a}_i \\in span(\\textbf{q}_1, \\cdots,\\textbf{q}_i)$. So column $i$ of $R$ has\n",
        "only zeros below the diagonal. Hence $R$ has a special structure: it is upper triangular."
      ]
    },
    {
      "cell_type": "markdown",
      "metadata": {
        "id": "lhrk1xBIHPJF"
      },
      "source": [
        "####The Gram-Schmidt orthogonalization process\n",
        "Let $V$ be a vector space with an inner product. Suppose $\\textbf{x}_1,\\textbf{x}2,\\cdots ,\\textbf{x}_n$ is a basis for $V$. Let\n",
        "\\begin{array}\\\\\n",
        "\\textbf{v}_1 = \\textbf{x}_1,\\\\\n",
        "\\textbf{v}_2 = \\textbf{x}_2 −\\frac{⟨\\textbf{x}_2, \\textbf{v}_1⟩}{⟨\\textbf{v}_1, \\textbf{v}_1⟩}\n",
        "\\textbf{v}_1,\\\\\n",
        "\\textbf{v}_3 = \\textbf{x}_3-\\frac{⟨\\textbf{x}_3, \\textbf{v}_1⟩}{⟨\\textbf{v}_1, \\textbf{v}_1⟩}\\textbf{v}_1−\\frac{⟨\\textbf{x}_3, \\textbf{v}_2⟩}{⟨\\textbf{v}_2, \\textbf{v}_2⟩}\\textbf{v}_2,\\\\\n",
        "\\vdots\\\\\n",
        "\\textbf{v}_n = \\textbf{x}_n-\\frac{⟨\\textbf{x}_n, \\textbf{v}_1⟩}{⟨\\textbf{v}_1, \\textbf{v}_1⟩}\\textbf{v}_1−\\cdots-\\frac{⟨\\textbf{x}_n, \\textbf{v}_{n-1}⟩}{⟨\\textbf{v}_{n-1}, \\textbf{v}_{n-1}⟩}\\textbf{v}_{n-1},\\\\\n",
        "\\end{array}\n",
        "Then $\\textbf{v}_1,\\textbf{v}_2,\\cdots,\\textbf{v}_n$ is an orthogonal basis for $V$"
      ]
    },
    {
      "cell_type": "code",
      "metadata": {
        "id": "o4yo9UwAAplp"
      },
      "source": [
        "import numpy as np \n",
        "def gram_schmidt(V):\n",
        "    O = np.zeros(V.shape)\n",
        "    for i in range(V.shape[1]):\n",
        "        # orthogonalization\n",
        "        vector = V[:, i]\n",
        "        space = O[:, :i]\n",
        "        projection = vector @ space\n",
        "        vector = vector - np.sum(projection * space, axis=1)\n",
        "        # normalization\n",
        "        norm = np.sqrt(vector @ vector)\n",
        "        vector /=round(abs(norm),ndigits=0)  < 1e-8 and 1 or norm\n",
        "        \n",
        "        O[:, i] = vector\n",
        "    return O"
      ],
      "execution_count": null,
      "outputs": []
    },
    {
      "cell_type": "code",
      "metadata": {
        "id": "SVz23Q6uAqtR",
        "colab": {
          "base_uri": "https://localhost:8080/"
        },
        "outputId": "2a290e74-53c6-496e-be0d-140749783b14"
      },
      "source": [
        "# 6 column vectors in 4D, only 3 are independent\n",
        "vectors = np.array([\n",
        "    [1, 1, 2, 0, 1, 1],\n",
        "    [0, 0, 0, 1, 2, 1],\n",
        "    [1, 2, 3, 1, 3, 2],\n",
        "    [1, 0, 1, 0, 1, 1]\n",
        "], dtype=float)\n",
        "orthonormal = gram_schmidt(vectors)\n",
        "print(orthonormal)\n",
        "orthonormal.T @ orthonormal"
      ],
      "execution_count": null,
      "outputs": [
        {
          "output_type": "stream",
          "text": [
            "[[ 5.77350269e-01 -1.57009246e-16 -4.44089210e-16 -3.08606700e-01\n",
            "   0.00000000e+00 -4.44089210e-16]\n",
            " [ 0.00000000e+00  0.00000000e+00  0.00000000e+00  9.25820100e-01\n",
            "   0.00000000e+00  0.00000000e+00]\n",
            " [ 5.77350269e-01  7.07106781e-01  4.44089210e-16  1.54303350e-01\n",
            "   4.44089210e-16  2.22044605e-16]\n",
            " [ 5.77350269e-01 -7.07106781e-01 -8.88178420e-16  1.54303350e-01\n",
            "  -4.44089210e-16 -6.66133815e-16]]\n"
          ],
          "name": "stdout"
        },
        {
          "output_type": "execute_result",
          "data": {
            "text/plain": [
              "array([[ 1.00000000e+00, -2.57016008e-16, -5.12790050e-16,\n",
              "        -8.55701270e-18,  0.00000000e+00, -5.12790050e-16],\n",
              "       [-2.57016008e-16,  1.00000000e+00,  9.42055475e-16,\n",
              "         1.12240478e-16,  6.28036983e-16,  6.28036983e-16],\n",
              "       [-5.12790050e-16,  9.42055475e-16,  1.18329136e-30,\n",
              "         6.85244528e-17,  5.91645679e-31,  8.87468518e-31],\n",
              "       [-8.55701270e-18,  1.12240478e-16,  6.85244528e-17,\n",
              "         1.00000000e+00,  7.39557099e-32,  6.85244528e-17],\n",
              "       [ 0.00000000e+00,  6.28036983e-16,  5.91645679e-31,\n",
              "         7.39557099e-32,  3.94430453e-31,  3.94430453e-31],\n",
              "       [-5.12790050e-16,  6.28036983e-16,  8.87468518e-31,\n",
              "         6.85244528e-17,  3.94430453e-31,  6.90253292e-31]])"
            ]
          },
          "metadata": {},
          "execution_count": 2
        }
      ]
    },
    {
      "cell_type": "code",
      "metadata": {
        "id": "xi3h9uUiAvAi",
        "colab": {
          "base_uri": "https://localhost:8080/"
        },
        "outputId": "107a7fe2-9768-482a-8ed5-f7ac8a18c3a0"
      },
      "source": [
        "matrix = np.array([\n",
        "    [1, 1, -1],\n",
        "    [1, 2, 1],\n",
        "    [1, 3, 0]\n",
        "], dtype=float)\n",
        "Q = gram_schmidt(matrix)\n",
        "print('Q is ', Q)\n",
        "\n",
        "R = Q.T @ matrix\n",
        "print('R is ', R)\n",
        "\n",
        "QR = Q @ R\n",
        "print('QR is ', QR)"
      ],
      "execution_count": null,
      "outputs": [
        {
          "output_type": "stream",
          "text": [
            "Q is  [[ 5.77350269e-01 -7.07106781e-01 -4.08248290e-01]\n",
            " [ 5.77350269e-01 -3.14018492e-16  8.16496581e-01]\n",
            " [ 5.77350269e-01  7.07106781e-01 -4.08248290e-01]]\n",
            "R is  [[ 1.73205081e+00  3.46410162e+00  0.00000000e+00]\n",
            " [-9.99200722e-16  1.41421356e+00  7.07106781e-01]\n",
            " [ 5.55111512e-16  1.33226763e-15  1.22474487e+00]]\n",
            "QR is  [[ 1.00000000e+00  1.00000000e+00 -1.00000000e+00]\n",
            " [ 1.00000000e+00  2.00000000e+00  1.00000000e+00]\n",
            " [ 1.00000000e+00  3.00000000e+00  1.18063813e-16]]\n"
          ],
          "name": "stdout"
        }
      ]
    },
    {
      "cell_type": "markdown",
      "metadata": {
        "id": "QNLyfhQzRv9f"
      },
      "source": [
        "##1.3.2 Least-squares Problems"
      ]
    },
    {
      "cell_type": "markdown",
      "metadata": {
        "id": "5f71klZ8SdUS"
      },
      "source": [
        "Theorem 1.3.2 (Normal Equations) <br>\n",
        "Let $A \\in \\mathbb{R}^{n\\times m}$ be an $n \\times m$ matrix with\n",
        "linearly independent columns and let $\\textbf{b} \\in \\mathbb{R}^n$ be a vector. The solution to the least-squares problem \n",
        "$$\\min_{x\\in\\mathbb{R}^m}||A\\textbf{x}−\\textbf{b}||.$$\n",
        "satisfies\n",
        "$$A^TA\\textbf{x}=A^T\\textbf{b}$$\n",
        "which are known as the normal equations."
      ]
    },
    {
      "cell_type": "markdown",
      "metadata": {
        "id": "8b-2rJCDi5Y3"
      },
      "source": [
        "###Implementing Normal Equation \n",
        "####1. Backgroound \n",
        "The normal equation is a closed-form solution of figuring out the value of parameter. When $A$ has linearly independent columns, in view of the QR decomposition,\n",
        "it can be shown that $A^TA$ is invertible and the solution of of the Nomal Equation is $(A^TA)^{-1}A^T\\textbf{b}$, where $\\textbf{b}$ is a vector containing our target values."
      ]
    },
    {
      "cell_type": "markdown",
      "metadata": {
        "id": "8zgch6A_iqCw"
      },
      "source": [
        "####2. Data generation\n",
        " \n",
        "Now, we need data on which we can apply the Normal Equation. Let's generate some random data with some noise to create dome deviation."
      ]
    },
    {
      "cell_type": "code",
      "metadata": {
        "id": "zdvKjuvEipcR"
      },
      "source": [
        "def generate_data():  \n",
        "    A = 2 * np.random.rand(100, 1)  \n",
        "    b = 4 + 3 * A + np.random.randn(100, 1)       \n",
        "    return A, b  "
      ],
      "execution_count": null,
      "outputs": []
    },
    {
      "cell_type": "markdown",
      "metadata": {
        "id": "OOM_Y0aFk1jw"
      },
      "source": [
        "####3. Defining the normal equation\n",
        "We get a value of the paarameter that will minimize the cost function."
      ]
    },
    {
      "cell_type": "code",
      "metadata": {
        "id": "EMC9JDFgi5HH"
      },
      "source": [
        "from numpy.linalg import inv\n",
        "def get_best_param(A, b):  \n",
        "    A_transpose = A.T  \n",
        "    best_params = inv(A_transpose.dot(A)).dot(A_transpose).dot(b)  \n",
        "    return best_params # returns a list  "
      ],
      "execution_count": null,
      "outputs": []
    },
    {
      "cell_type": "markdown",
      "metadata": {
        "id": "8oV_ZaE5lLET"
      },
      "source": [
        "####4. Plot the data generated"
      ]
    },
    {
      "cell_type": "code",
      "metadata": {
        "colab": {
          "base_uri": "https://localhost:8080/",
          "height": 282
        },
        "id": "NhsGzQ3olJEL",
        "outputId": "1ed0a805-7699-4eaf-9a6f-1368b98adab2"
      },
      "source": [
        "A, b = generate_data()  \n",
        "%matplotlib inline  \n",
        "import matplotlib.pyplot as plt  \n",
        "  \n",
        "plt.plot(A, b, \"r.\")  "
      ],
      "execution_count": null,
      "outputs": [
        {
          "output_type": "execute_result",
          "data": {
            "text/plain": [
              "[<matplotlib.lines.Line2D at 0x7f5fea931f10>]"
            ]
          },
          "metadata": {},
          "execution_count": 27
        },
        {
          "output_type": "display_data",
          "data": {
            "image/png": "[encoded data removed]",
            "text/plain": [
              "<Figure size 432x288 with 1 Axes>"
            ]
          },
          "metadata": {
            "needs_background": "light"
          }
        }
      ]
    },
    {
      "cell_type": "code",
      "metadata": {
        "colab": {
          "base_uri": "https://localhost:8080/"
        },
        "id": "ZeuvMqEJllQ-",
        "outputId": "99b53b2b-7517-475e-d019-bb4181ec2a78"
      },
      "source": [
        "A_b = np.c_[np.ones((100, 1)), A] # set bias term to 1 for each sample  \n",
        "params = get_best_param(A_b, b)  \n",
        "print(params)  "
      ],
      "execution_count": null,
      "outputs": [
        {
          "output_type": "stream",
          "text": [
            "[[4.03799158]\n",
            " [3.06441531]]\n"
          ],
          "name": "stdout"
        }
      ]
    },
    {
      "cell_type": "markdown",
      "metadata": {
        "id": "Z2yTpTgbnfFL"
      },
      "source": [
        "####5. Get a prediction\n",
        "How do we get the prediction? We have another Theorem."
      ]
    },
    {
      "cell_type": "markdown",
      "metadata": {
        "id": "pKw2pmObTVv6"
      },
      "source": [
        "Theorem 1.3.3 (Least Squares via QR) <br>\n",
        "Let $A \\in \\mathbb{n\\times m}$ be an $n\\times m$ matrix with linearly independent columns, let $b \\in \\mathbb{R}^n$ be a vector, and let $A = QR$ be a QR decomposition of A, where Q is a $\\mathbb{R}^{n\\times m}$ matrix with $Q^TQ = I_{m\\times m}$ and $R$ is upper triangular. The solution to the least-squares problem\n",
        "$$\\min_{x\\in\\mathbb{R}^m}||A\\textbf{x}-\\textbf{b}||.$$\n",
        "satisfies\n",
        "$$R\\textbf{x}^*=Q^T\\textbf{b}.$$\n",
        "\n",
        "Using this equation, we get the prediction for our data."
      ]
    },
    {
      "cell_type": "code",
      "metadata": {
        "colab": {
          "base_uri": "https://localhost:8080/"
        },
        "id": "invtIIxAnDks",
        "outputId": "59e41b2e-5370-4140-826f-642218d7e25c"
      },
      "source": [
        "test_A = np.array([[0], [2]])   \n",
        "test_A_b = np.c_[np.ones((2, 1)), test_A]  \n",
        "  \n",
        "prediction = test_A_b.dot(params)  \n",
        "print(prediction)  "
      ],
      "execution_count": null,
      "outputs": [
        {
          "output_type": "stream",
          "text": [
            "[[ 4.03799158]\n",
            " [10.16682221]]\n"
          ],
          "name": "stdout"
        }
      ]
    },
    {
      "cell_type": "code",
      "metadata": {
        "colab": {
          "base_uri": "https://localhost:8080/",
          "height": 265
        },
        "id": "koa3puAOnFeJ",
        "outputId": "30e62649-fa17-43da-d165-40d595910849"
      },
      "source": [
        "plt.plot(test_A, prediction, \"r--\")  \n",
        "plt.plot(A, b, \"b.\")  \n",
        "plt.axis([0, 2, 0, 15])\n",
        "plt.show() "
      ],
      "execution_count": null,
      "outputs": [
        {
          "output_type": "display_data",
          "data": {
            "image/png": "[encoded data removed]",
            "text/plain": [
              "<Figure size 432x288 with 1 Axes>"
            ]
          },
          "metadata": {
            "needs_background": "light"
          }
        }
      ]
    },
    {
      "cell_type": "markdown",
      "metadata": {
        "id": "i-dXPbp9All3"
      },
      "source": [
        "We implemented the closed-form Normal Equation and applied it to predict output for a Linear regression problem using QR decomposition. "
      ]
    },
    {
      "cell_type": "markdown",
      "metadata": {
        "id": "UZTlUHZLTWjp"
      },
      "source": [
        "##1.3.3 Linear Regression\n"
      ]
    },
    {
      "cell_type": "markdown",
      "metadata": {
        "id": "4lla1FNSt_eH"
      },
      "source": [
        "###Linear Regression from scratch\n",
        "####1. Data generation\n"
      ]
    },
    {
      "cell_type": "code",
      "metadata": {
        "colab": {
          "base_uri": "https://localhost:8080/",
          "height": 198
        },
        "id": "2n95lrFDt_Ho",
        "outputId": "9c146a46-1a8f-4f10-ca6b-9152fcf480db"
      },
      "source": [
        "import pandas as pd\n",
        "\n",
        "# Generate 'random' data\n",
        "np.random.seed(0)\n",
        "A = 2 * np.random.randn(100)    \n",
        "res = np.random.randn(100)       \n",
        "b = 4 + 3 * A + res                 \n",
        "\n",
        "# Create pandas dataframe to store our A and b values\n",
        "df = pd.DataFrame(\n",
        "    {'A': A,\n",
        "     'b': b}\n",
        ")\n",
        "\n",
        "# Show the first five rows of our dataframe\n",
        "df.head()"
      ],
      "execution_count": 50,
      "outputs": [
        {
          "output_type": "execute_result",
          "data": {
            "text/html": [
              "<div>\n",
              "<style scoped>\n",
              "    .dataframe tbody tr th:only-of-type {\n",
              "        vertical-align: middle;\n",
              "    }\n",
              "\n",
              "    .dataframe tbody tr th {\n",
              "        vertical-align: top;\n",
              "    }\n",
              "\n",
              "    .dataframe thead th {\n",
              "        text-align: right;\n",
              "    }\n",
              "</style>\n",
              "<table border=\"1\" class=\"dataframe\">\n",
              "  <thead>\n",
              "    <tr style=\"text-align: right;\">\n",
              "      <th></th>\n",
              "      <th>A</th>\n",
              "      <th>b</th>\n",
              "    </tr>\n",
              "  </thead>\n",
              "  <tbody>\n",
              "    <tr>\n",
              "      <th>0</th>\n",
              "      <td>3.528105</td>\n",
              "      <td>16.467465</td>\n",
              "    </tr>\n",
              "    <tr>\n",
              "      <th>1</th>\n",
              "      <td>0.800314</td>\n",
              "      <td>5.053184</td>\n",
              "    </tr>\n",
              "    <tr>\n",
              "      <th>2</th>\n",
              "      <td>1.957476</td>\n",
              "      <td>8.601943</td>\n",
              "    </tr>\n",
              "    <tr>\n",
              "      <th>3</th>\n",
              "      <td>4.481786</td>\n",
              "      <td>18.414756</td>\n",
              "    </tr>\n",
              "    <tr>\n",
              "      <th>4</th>\n",
              "      <td>3.735116</td>\n",
              "      <td>14.032225</td>\n",
              "    </tr>\n",
              "  </tbody>\n",
              "</table>\n",
              "</div>"
            ],
            "text/plain": [
              "          A          b\n",
              "0  3.528105  16.467465\n",
              "1  0.800314   5.053184\n",
              "2  1.957476   8.601943\n",
              "3  4.481786  18.414756\n",
              "4  3.735116  14.032225"
            ]
          },
          "metadata": {},
          "execution_count": 50
        }
      ]
    },
    {
      "cell_type": "markdown",
      "metadata": {
        "id": "G-MoOGcfusRX"
      },
      "source": [
        "####2. Calculate mean\n",
        "To estimate $\\textbf{b}$ using the Ordinary Linear Regression method, we need to calculate Amean and bmean, the covariance of $A$ and $\\textbf{b}$ (Abcov), and the variance of $A$ (Avar) before we can determine the values for $\\alpha$ and $\\beta$."
      ]
    },
    {
      "cell_type": "code",
      "metadata": {
        "colab": {
          "base_uri": "https://localhost:8080/"
        },
        "id": "0hVqmf_7ushs",
        "outputId": "ae5e5786-2550-4289-fcb5-1ce144483b13"
      },
      "source": [
        "# Calculate the mean of A and b\n",
        "Amean = np.mean(A)\n",
        "bmean = np.mean(b)\n",
        "\n",
        "# Calculate the terms needed for the numator and denominator of beta\n",
        "df['Abcov'] = (df['A'] - Amean) * (df['b'] - bmean)\n",
        "df['Avar'] = (df['A'] - Amean)**2\n",
        "\n",
        "# Calculate beta and alpha\n",
        "beta = df['Abcov'].sum() / df['Avar'].sum()\n",
        "alpha = bmean - (beta * Amean)\n",
        "print(f'alpha = {alpha}')\n",
        "print(f'beta = {beta}')"
      ],
      "execution_count": 51,
      "outputs": [
        {
          "output_type": "stream",
          "text": [
            "alpha = 4.075153085052514\n",
            "beta = 3.057349216773192\n"
          ],
          "name": "stdout"
        }
      ]
    },
    {
      "cell_type": "markdown",
      "metadata": {
        "id": "7MJakzK8vguT"
      },
      "source": [
        "####3. Get a prediction"
      ]
    },
    {
      "cell_type": "code",
      "metadata": {
        "id": "GVvyHQC9vbuw"
      },
      "source": [
        "ypred = alpha + beta * A"
      ],
      "execution_count": 52,
      "outputs": []
    },
    {
      "cell_type": "markdown",
      "metadata": {
        "id": "9JhbMEVCvme6"
      },
      "source": [
        "####4. Plot the data and the fitted line"
      ]
    },
    {
      "cell_type": "code",
      "metadata": {
        "colab": {
          "base_uri": "https://localhost:8080/",
          "height": 265
        },
        "id": "qlwlNLaqvgDa",
        "outputId": "ce3df1e1-6671-4f76-def0-171d9a96d626"
      },
      "source": [
        "plt.plot(A, ypred, \"r--\")  \n",
        "plt.plot(A, b, \"b.\")  \n",
        "plt.axis([0, 2, 0, 15])\n",
        "plt.show() "
      ],
      "execution_count": 53,
      "outputs": [
        {
          "output_type": "display_data",
          "data": {
            "image/png": "[encoded data removed]",
            "text/plain": [
              "<Figure size 432x288 with 1 Axes>"
            ]
          },
          "metadata": {
            "needs_background": "light"
          }
        }
      ]
    },
    {
      "cell_type": "markdown",
      "metadata": {
        "id": "WH6ubYRaAniO"
      },
      "source": [
        "###Linear Regression with scikit-learn\n",
        "####1. Initialise and fit the model "
      ]
    },
    {
      "cell_type": "code",
      "metadata": {
        "id": "ryHXsMeaQfv4",
        "colab": {
          "base_uri": "https://localhost:8080/"
        },
        "outputId": "ce0964da-4dd5-4f83-c658-53dbdbb4053c"
      },
      "source": [
        "from sklearn.linear_model import LinearRegression\n",
        "\n",
        "# Initialise and fit model\n",
        "lm = LinearRegression()\n",
        "model = lm.fit(A, b)\n",
        "print(f'alpha = {model.intercept_}')\n",
        "print(f'betas = {model.coef_}')"
      ],
      "execution_count": null,
      "outputs": [
        {
          "output_type": "stream",
          "text": [
            "alpha = [4.03799158]\n",
            "betas = [[3.06441531]]\n"
          ],
          "name": "stdout"
        }
      ]
    },
    {
      "cell_type": "markdown",
      "metadata": {
        "id": "GgKkwbDur8pK"
      },
      "source": [
        "####2. Get a prediction"
      ]
    },
    {
      "cell_type": "code",
      "metadata": {
        "id": "dyoMqb4erzqA"
      },
      "source": [
        "predicted = model.predict(A)"
      ],
      "execution_count": 41,
      "outputs": []
    },
    {
      "cell_type": "markdown",
      "metadata": {
        "id": "IIM5KRHzsObi"
      },
      "source": [
        "####3. Plot the data and the fitted line"
      ]
    },
    {
      "cell_type": "code",
      "metadata": {
        "id": "EGekKfEJsOsD",
        "colab": {
          "base_uri": "https://localhost:8080/",
          "height": 265
        },
        "outputId": "8f4d9e35-b3a6-49a9-cd69-7e7a95df7a55"
      },
      "source": [
        "plt.plot(A, predicted, \"r--\")  \n",
        "plt.plot(A, b, \"b.\")  \n",
        "plt.axis([0, 2, 0, 15])\n",
        "plt.show() "
      ],
      "execution_count": 40,
      "outputs": [
        {
          "output_type": "display_data",
          "data": {
            "image/png": "[encoded data removed]",
            "text/plain": [
              "<Figure size 432x288 with 1 Axes>"
            ]
          },
          "metadata": {
            "needs_background": "light"
          }
        }
      ]
    }
  ]
}